{
  "cells": [
    {
      "cell_type": "markdown",
      "metadata": {
        "id": "view-in-github",
        "colab_type": "text"
      },
      "source": [
        "<a href=\"https://colab.research.google.com/github/nmkamble/FIONA-/blob/main/Failure_of_Two_Party_System.ipynb\" target=\"_parent\"><img src=\"https://colab.research.google.com/assets/colab-badge.svg\" alt=\"Open In Colab\"/></a>"
      ]
    },
    {
      "cell_type": "markdown",
      "metadata": {
        "id": "zrxPUVsvZ9Zp"
      },
      "source": [
        "# Introduction\n",
        "\n",
        "### The goal\n",
        "In this project we aim to identify clusters of US adults based on input features relating to political ideology. We are motivated to investigate whether there are prominent groups of people who share the same views or background beyond the simple binary of left and right. We want to see if this clustering might reveal that the American people really fit a multi-party system, rather than the 2-party system that has dominated American politics so far.\n",
        "\n",
        "Through clustering, we can determine the optimal k, the number of clusters that exist in the data. If k > 2 is well supported, this might show that more than 2 opposite, divisive political groups exist in the US, and that we should focus on fostering a system that can better represent all k groups.\n",
        "\n",
        "If strong clusters are formed from those input features (political views) we can further explore the nature of those clusters. Will those clusters be strengthened if we include input features like demographic information and world views that are not directly related to politics? If so, those groups will not just represent political ideologies; they'll represent populations and views in general.\n",
        "\n",
        "### The problem\n",
        "Why is the problem important? The [failure of the two party system](https://goodparty.org/blog/article/5-reasons-the-two-party-system-is-bad-for-america) is well documented:\n",
        "1. Two-party politics limits our options.\n",
        "2. Two-party politics is polarizing.\n",
        "\n",
        "Those who don't believe in all of the views of either party feel unrepresented. Faced with a \"lesser of two evils\" problem, a large portion of voters simply won't vote, leaving as little as 20% of the population's most extreme voters to elect representatives. On the other hand, voters who find themselves not fitting into a binary may feel pressured to slowly extremize. Voters and politicians who are already in one of the two parties may become increasingly extremic.\n",
        "\n",
        "3. The two-party system squashes 3rd parties.\n",
        "\n",
        "It is extremely difficult for a 3rd party to succeed, because votes towards a 3rd party are simply votes taken away from one of the major parties with which the 3rd party most closely aligns.\n",
        "\n",
        "4. The two-party system promotes stagnation.\n",
        "\n",
        "With two opposite parties sharing political power in any one administration, progress stagnates. Players on opposite teams do everything to prevent bills from another team from getting passed. And with two opposite parties exchanging positions of power every few years, legislation is constantly being done and undone.\n",
        "\n",
        "The results of our predictive model could show that a 2 party system is fundamentally irrepresentative of the population and signal that we should rethink how we organize and categorize political beliefs.\n",
        "\n",
        "### The dataset\n",
        "\n",
        "The dataset we're using is the [General Social Survey](https://gssdataexplorer.norc.org/gss_data), a project of NORC at the University of Chicago. It contains current and historical data on a wide range of US adults, from general demographic information, to familial dynamics, to political ideologies, to general world views, attitudes, and mental health. Most features are in the form of survey questions, with answers on a qualitative scale."
      ]
    },
    {
      "cell_type": "markdown",
      "metadata": {
        "id": "OqNVH41farLR"
      },
      "source": [
        "# Data Prep"
      ]
    },
    {
      "cell_type": "markdown",
      "metadata": {
        "id": "6yP-kbb4cxHE"
      },
      "source": [
        "Installing and importing libraries."
      ]
    },
    {
      "cell_type": "code",
      "execution_count": null,
      "metadata": {
        "colab": {
          "base_uri": "https://localhost:8080/"
        },
        "id": "a49ArJX69UYm",
        "outputId": "074feb2f-b9d2-4ce1-b326-dcfd6b8d0b54"
      },
      "outputs": [
        {
          "output_type": "stream",
          "name": "stdout",
          "text": [
            "Collecting category_encoders\n",
            "  Downloading category_encoders-2.6.3-py2.py3-none-any.whl (81 kB)\n",
            "\u001b[2K     \u001b[90m━━━━━━━━━━━━━━━━━━━━━━━━━━━━━━━━━━━━━━━━\u001b[0m \u001b[32m81.9/81.9 kB\u001b[0m \u001b[31m741.3 kB/s\u001b[0m eta \u001b[36m0:00:00\u001b[0m\n",
            "\u001b[?25hRequirement already satisfied: numpy>=1.14.0 in /usr/local/lib/python3.10/dist-packages (from category_encoders) (1.25.2)\n",
            "Requirement already satisfied: scikit-learn>=0.20.0 in /usr/local/lib/python3.10/dist-packages (from category_encoders) (1.2.2)\n",
            "Requirement already satisfied: scipy>=1.0.0 in /usr/local/lib/python3.10/dist-packages (from category_encoders) (1.11.4)\n",
            "Requirement already satisfied: statsmodels>=0.9.0 in /usr/local/lib/python3.10/dist-packages (from category_encoders) (0.14.2)\n",
            "Requirement already satisfied: pandas>=1.0.5 in /usr/local/lib/python3.10/dist-packages (from category_encoders) (2.0.3)\n",
            "Requirement already satisfied: patsy>=0.5.1 in /usr/local/lib/python3.10/dist-packages (from category_encoders) (0.5.6)\n",
            "Requirement already satisfied: python-dateutil>=2.8.2 in /usr/local/lib/python3.10/dist-packages (from pandas>=1.0.5->category_encoders) (2.8.2)\n",
            "Requirement already satisfied: pytz>=2020.1 in /usr/local/lib/python3.10/dist-packages (from pandas>=1.0.5->category_encoders) (2023.4)\n",
            "Requirement already satisfied: tzdata>=2022.1 in /usr/local/lib/python3.10/dist-packages (from pandas>=1.0.5->category_encoders) (2024.1)\n",
            "Requirement already satisfied: six in /usr/local/lib/python3.10/dist-packages (from patsy>=0.5.1->category_encoders) (1.16.0)\n",
            "Requirement already satisfied: joblib>=1.1.1 in /usr/local/lib/python3.10/dist-packages (from scikit-learn>=0.20.0->category_encoders) (1.4.0)\n",
            "Requirement already satisfied: threadpoolctl>=2.0.0 in /usr/local/lib/python3.10/dist-packages (from scikit-learn>=0.20.0->category_encoders) (3.4.0)\n",
            "Requirement already satisfied: packaging>=21.3 in /usr/local/lib/python3.10/dist-packages (from statsmodels>=0.9.0->category_encoders) (24.0)\n",
            "Installing collected packages: category_encoders\n",
            "Successfully installed category_encoders-2.6.3\n"
          ]
        }
      ],
      "source": [
        "!pip install category_encoders"
      ]
    },
    {
      "cell_type": "code",
      "execution_count": null,
      "metadata": {
        "id": "l08OZhV6c8Nv"
      },
      "outputs": [],
      "source": [
        "import pandas as pd\n",
        "import numpy as np\n",
        "import matplotlib.pyplot as plt\n",
        "from sklearn.base import clone\n",
        "import warnings\n",
        "import sklearn as sklearn\n",
        "import time\n",
        "import sklearn.preprocessing\n",
        "import sklearn.pipeline\n",
        "from sklearn.utils._testing import ignore_warnings\n",
        "from sklearn.exceptions import ConvergenceWarning\n",
        "from sklearn.metrics import accuracy_score\n",
        "from sklearn.model_selection import train_test_split\n",
        "from sklearn.tree import DecisionTreeClassifier\n",
        "from sklearn.model_selection import GridSearchCV\n",
        "from sklearn.model_selection import cross_val_score\n",
        "from sklearn.svm import SVC\n",
        "from sklearn.utils import shuffle\n",
        "from sklearn.neighbors import NearestNeighbors\n",
        "from sklearn.metrics import confusion_matrix, classification_report\n",
        "from sklearn.model_selection import cross_val_predict\n",
        "from sklearn.naive_bayes import GaussianNB\n",
        "import sklearn.neural_network;\n",
        "import os\n",
        "import category_encoders as ce\n",
        "import time\n",
        "import datetime\n",
        "import json\n",
        "import pickle"
      ]
    },
    {
      "cell_type": "code",
      "execution_count": null,
      "metadata": {
        "colab": {
          "base_uri": "https://localhost:8080/"
        },
        "id": "-zGq2E6sdF1t",
        "outputId": "3f90ee88-561a-457c-8c37-c85be180bab7"
      },
      "outputs": [
        {
          "output_type": "stream",
          "name": "stdout",
          "text": [
            "Mounted at /content/drive\n"
          ]
        }
      ],
      "source": [
        "from google.colab import drive\n",
        "drive.mount('/content/drive', force_remount=True)\n",
        "os.chdir('/content/drive/MyDrive/Colab Notebooks/ML-Final-Project')"
      ]
    },
    {
      "cell_type": "markdown",
      "metadata": {
        "id": "w71ckhUWdCdf"
      },
      "source": [
        "We load in the dataset."
      ]
    },
    {
      "cell_type": "code",
      "execution_count": null,
      "metadata": {
        "colab": {
          "base_uri": "https://localhost:8080/",
          "height": 255
        },
        "id": "tLXG7eCmdN5U",
        "outputId": "adecb239-6480-4704-9611-b594f748331b"
      },
      "outputs": [
        {
          "output_type": "execute_result",
          "data": {
            "text/plain": [
              "   year  id  wrkstat  hrs1  hrs2  evwork    occ  prestige  wrkslf  wrkgovt  \\\n",
              "0  1972   1      1.0   NaN   NaN     NaN  205.0      50.0     2.0      NaN   \n",
              "1  1972   2      5.0   NaN   NaN     1.0  441.0      45.0     2.0      NaN   \n",
              "2  1972   3      2.0   NaN   NaN     NaN  270.0      44.0     2.0      NaN   \n",
              "3  1972   4      1.0   NaN   NaN     NaN    1.0      57.0     2.0      NaN   \n",
              "4  1972   5      7.0   NaN   NaN     1.0  385.0      40.0     2.0      NaN   \n",
              "\n",
              "   ...  agehef12  agehef13  agehef14  hompoph  wtssps_nea  wtssnrps_nea  \\\n",
              "0  ...       NaN       NaN       NaN      NaN         NaN           NaN   \n",
              "1  ...       NaN       NaN       NaN      NaN         NaN           NaN   \n",
              "2  ...       NaN       NaN       NaN      NaN         NaN           NaN   \n",
              "3  ...       NaN       NaN       NaN      NaN         NaN           NaN   \n",
              "4  ...       NaN       NaN       NaN      NaN         NaN           NaN   \n",
              "\n",
              "   wtssps_next  wtssnrps_next  wtsscomp  wtsscompnr  \n",
              "0          NaN            NaN    0.4446         NaN  \n",
              "1          NaN            NaN    0.8893         NaN  \n",
              "2          NaN            NaN    0.8893         NaN  \n",
              "3          NaN            NaN    0.8893         NaN  \n",
              "4          NaN            NaN    0.8893         NaN  \n",
              "\n",
              "[5 rows x 6694 columns]"
            ],
            "text/html": [
              "\n",
              "  <div id=\"df-aea9badc-af69-4b60-957e-38f8a6e255d4\" class=\"colab-df-container\">\n",
              "    <div>\n",
              "<style scoped>\n",
              "    .dataframe tbody tr th:only-of-type {\n",
              "        vertical-align: middle;\n",
              "    }\n",
              "\n",
              "    .dataframe tbody tr th {\n",
              "        vertical-align: top;\n",
              "    }\n",
              "\n",
              "    .dataframe thead th {\n",
              "        text-align: right;\n",
              "    }\n",
              "</style>\n",
              "<table border=\"1\" class=\"dataframe\">\n",
              "  <thead>\n",
              "    <tr style=\"text-align: right;\">\n",
              "      <th></th>\n",
              "      <th>year</th>\n",
              "      <th>id</th>\n",
              "      <th>wrkstat</th>\n",
              "      <th>hrs1</th>\n",
              "      <th>hrs2</th>\n",
              "      <th>evwork</th>\n",
              "      <th>occ</th>\n",
              "      <th>prestige</th>\n",
              "      <th>wrkslf</th>\n",
              "      <th>wrkgovt</th>\n",
              "      <th>...</th>\n",
              "      <th>agehef12</th>\n",
              "      <th>agehef13</th>\n",
              "      <th>agehef14</th>\n",
              "      <th>hompoph</th>\n",
              "      <th>wtssps_nea</th>\n",
              "      <th>wtssnrps_nea</th>\n",
              "      <th>wtssps_next</th>\n",
              "      <th>wtssnrps_next</th>\n",
              "      <th>wtsscomp</th>\n",
              "      <th>wtsscompnr</th>\n",
              "    </tr>\n",
              "  </thead>\n",
              "  <tbody>\n",
              "    <tr>\n",
              "      <th>0</th>\n",
              "      <td>1972</td>\n",
              "      <td>1</td>\n",
              "      <td>1.0</td>\n",
              "      <td>NaN</td>\n",
              "      <td>NaN</td>\n",
              "      <td>NaN</td>\n",
              "      <td>205.0</td>\n",
              "      <td>50.0</td>\n",
              "      <td>2.0</td>\n",
              "      <td>NaN</td>\n",
              "      <td>...</td>\n",
              "      <td>NaN</td>\n",
              "      <td>NaN</td>\n",
              "      <td>NaN</td>\n",
              "      <td>NaN</td>\n",
              "      <td>NaN</td>\n",
              "      <td>NaN</td>\n",
              "      <td>NaN</td>\n",
              "      <td>NaN</td>\n",
              "      <td>0.4446</td>\n",
              "      <td>NaN</td>\n",
              "    </tr>\n",
              "    <tr>\n",
              "      <th>1</th>\n",
              "      <td>1972</td>\n",
              "      <td>2</td>\n",
              "      <td>5.0</td>\n",
              "      <td>NaN</td>\n",
              "      <td>NaN</td>\n",
              "      <td>1.0</td>\n",
              "      <td>441.0</td>\n",
              "      <td>45.0</td>\n",
              "      <td>2.0</td>\n",
              "      <td>NaN</td>\n",
              "      <td>...</td>\n",
              "      <td>NaN</td>\n",
              "      <td>NaN</td>\n",
              "      <td>NaN</td>\n",
              "      <td>NaN</td>\n",
              "      <td>NaN</td>\n",
              "      <td>NaN</td>\n",
              "      <td>NaN</td>\n",
              "      <td>NaN</td>\n",
              "      <td>0.8893</td>\n",
              "      <td>NaN</td>\n",
              "    </tr>\n",
              "    <tr>\n",
              "      <th>2</th>\n",
              "      <td>1972</td>\n",
              "      <td>3</td>\n",
              "      <td>2.0</td>\n",
              "      <td>NaN</td>\n",
              "      <td>NaN</td>\n",
              "      <td>NaN</td>\n",
              "      <td>270.0</td>\n",
              "      <td>44.0</td>\n",
              "      <td>2.0</td>\n",
              "      <td>NaN</td>\n",
              "      <td>...</td>\n",
              "      <td>NaN</td>\n",
              "      <td>NaN</td>\n",
              "      <td>NaN</td>\n",
              "      <td>NaN</td>\n",
              "      <td>NaN</td>\n",
              "      <td>NaN</td>\n",
              "      <td>NaN</td>\n",
              "      <td>NaN</td>\n",
              "      <td>0.8893</td>\n",
              "      <td>NaN</td>\n",
              "    </tr>\n",
              "    <tr>\n",
              "      <th>3</th>\n",
              "      <td>1972</td>\n",
              "      <td>4</td>\n",
              "      <td>1.0</td>\n",
              "      <td>NaN</td>\n",
              "      <td>NaN</td>\n",
              "      <td>NaN</td>\n",
              "      <td>1.0</td>\n",
              "      <td>57.0</td>\n",
              "      <td>2.0</td>\n",
              "      <td>NaN</td>\n",
              "      <td>...</td>\n",
              "      <td>NaN</td>\n",
              "      <td>NaN</td>\n",
              "      <td>NaN</td>\n",
              "      <td>NaN</td>\n",
              "      <td>NaN</td>\n",
              "      <td>NaN</td>\n",
              "      <td>NaN</td>\n",
              "      <td>NaN</td>\n",
              "      <td>0.8893</td>\n",
              "      <td>NaN</td>\n",
              "    </tr>\n",
              "    <tr>\n",
              "      <th>4</th>\n",
              "      <td>1972</td>\n",
              "      <td>5</td>\n",
              "      <td>7.0</td>\n",
              "      <td>NaN</td>\n",
              "      <td>NaN</td>\n",
              "      <td>1.0</td>\n",
              "      <td>385.0</td>\n",
              "      <td>40.0</td>\n",
              "      <td>2.0</td>\n",
              "      <td>NaN</td>\n",
              "      <td>...</td>\n",
              "      <td>NaN</td>\n",
              "      <td>NaN</td>\n",
              "      <td>NaN</td>\n",
              "      <td>NaN</td>\n",
              "      <td>NaN</td>\n",
              "      <td>NaN</td>\n",
              "      <td>NaN</td>\n",
              "      <td>NaN</td>\n",
              "      <td>0.8893</td>\n",
              "      <td>NaN</td>\n",
              "    </tr>\n",
              "  </tbody>\n",
              "</table>\n",
              "<p>5 rows × 6694 columns</p>\n",
              "</div>\n",
              "    <div class=\"colab-df-buttons\">\n",
              "\n",
              "  <div class=\"colab-df-container\">\n",
              "    <button class=\"colab-df-convert\" onclick=\"convertToInteractive('df-aea9badc-af69-4b60-957e-38f8a6e255d4')\"\n",
              "            title=\"Convert this dataframe to an interactive table.\"\n",
              "            style=\"display:none;\">\n",
              "\n",
              "  <svg xmlns=\"http://www.w3.org/2000/svg\" height=\"24px\" viewBox=\"0 -960 960 960\">\n",
              "    <path d=\"M120-120v-720h720v720H120Zm60-500h600v-160H180v160Zm220 220h160v-160H400v160Zm0 220h160v-160H400v160ZM180-400h160v-160H180v160Zm440 0h160v-160H620v160ZM180-180h160v-160H180v160Zm440 0h160v-160H620v160Z\"/>\n",
              "  </svg>\n",
              "    </button>\n",
              "\n",
              "  <style>\n",
              "    .colab-df-container {\n",
              "      display:flex;\n",
              "      gap: 12px;\n",
              "    }\n",
              "\n",
              "    .colab-df-convert {\n",
              "      background-color: #E8F0FE;\n",
              "      border: none;\n",
              "      border-radius: 50%;\n",
              "      cursor: pointer;\n",
              "      display: none;\n",
              "      fill: #1967D2;\n",
              "      height: 32px;\n",
              "      padding: 0 0 0 0;\n",
              "      width: 32px;\n",
              "    }\n",
              "\n",
              "    .colab-df-convert:hover {\n",
              "      background-color: #E2EBFA;\n",
              "      box-shadow: 0px 1px 2px rgba(60, 64, 67, 0.3), 0px 1px 3px 1px rgba(60, 64, 67, 0.15);\n",
              "      fill: #174EA6;\n",
              "    }\n",
              "\n",
              "    .colab-df-buttons div {\n",
              "      margin-bottom: 4px;\n",
              "    }\n",
              "\n",
              "    [theme=dark] .colab-df-convert {\n",
              "      background-color: #3B4455;\n",
              "      fill: #D2E3FC;\n",
              "    }\n",
              "\n",
              "    [theme=dark] .colab-df-convert:hover {\n",
              "      background-color: #434B5C;\n",
              "      box-shadow: 0px 1px 3px 1px rgba(0, 0, 0, 0.15);\n",
              "      filter: drop-shadow(0px 1px 2px rgba(0, 0, 0, 0.3));\n",
              "      fill: #FFFFFF;\n",
              "    }\n",
              "  </style>\n",
              "\n",
              "    <script>\n",
              "      const buttonEl =\n",
              "        document.querySelector('#df-aea9badc-af69-4b60-957e-38f8a6e255d4 button.colab-df-convert');\n",
              "      buttonEl.style.display =\n",
              "        google.colab.kernel.accessAllowed ? 'block' : 'none';\n",
              "\n",
              "      async function convertToInteractive(key) {\n",
              "        const element = document.querySelector('#df-aea9badc-af69-4b60-957e-38f8a6e255d4');\n",
              "        const dataTable =\n",
              "          await google.colab.kernel.invokeFunction('convertToInteractive',\n",
              "                                                    [key], {});\n",
              "        if (!dataTable) return;\n",
              "\n",
              "        const docLinkHtml = 'Like what you see? Visit the ' +\n",
              "          '<a target=\"_blank\" href=https://colab.research.google.com/notebooks/data_table.ipynb>data table notebook</a>'\n",
              "          + ' to learn more about interactive tables.';\n",
              "        element.innerHTML = '';\n",
              "        dataTable['output_type'] = 'display_data';\n",
              "        await google.colab.output.renderOutput(dataTable, element);\n",
              "        const docLink = document.createElement('div');\n",
              "        docLink.innerHTML = docLinkHtml;\n",
              "        element.appendChild(docLink);\n",
              "      }\n",
              "    </script>\n",
              "  </div>\n",
              "\n",
              "\n",
              "<div id=\"df-4ee6ec9e-eb1c-4503-a2ba-38372d2f3314\">\n",
              "  <button class=\"colab-df-quickchart\" onclick=\"quickchart('df-4ee6ec9e-eb1c-4503-a2ba-38372d2f3314')\"\n",
              "            title=\"Suggest charts\"\n",
              "            style=\"display:none;\">\n",
              "\n",
              "<svg xmlns=\"http://www.w3.org/2000/svg\" height=\"24px\"viewBox=\"0 0 24 24\"\n",
              "     width=\"24px\">\n",
              "    <g>\n",
              "        <path d=\"M19 3H5c-1.1 0-2 .9-2 2v14c0 1.1.9 2 2 2h14c1.1 0 2-.9 2-2V5c0-1.1-.9-2-2-2zM9 17H7v-7h2v7zm4 0h-2V7h2v10zm4 0h-2v-4h2v4z\"/>\n",
              "    </g>\n",
              "</svg>\n",
              "  </button>\n",
              "\n",
              "<style>\n",
              "  .colab-df-quickchart {\n",
              "      --bg-color: #E8F0FE;\n",
              "      --fill-color: #1967D2;\n",
              "      --hover-bg-color: #E2EBFA;\n",
              "      --hover-fill-color: #174EA6;\n",
              "      --disabled-fill-color: #AAA;\n",
              "      --disabled-bg-color: #DDD;\n",
              "  }\n",
              "\n",
              "  [theme=dark] .colab-df-quickchart {\n",
              "      --bg-color: #3B4455;\n",
              "      --fill-color: #D2E3FC;\n",
              "      --hover-bg-color: #434B5C;\n",
              "      --hover-fill-color: #FFFFFF;\n",
              "      --disabled-bg-color: #3B4455;\n",
              "      --disabled-fill-color: #666;\n",
              "  }\n",
              "\n",
              "  .colab-df-quickchart {\n",
              "    background-color: var(--bg-color);\n",
              "    border: none;\n",
              "    border-radius: 50%;\n",
              "    cursor: pointer;\n",
              "    display: none;\n",
              "    fill: var(--fill-color);\n",
              "    height: 32px;\n",
              "    padding: 0;\n",
              "    width: 32px;\n",
              "  }\n",
              "\n",
              "  .colab-df-quickchart:hover {\n",
              "    background-color: var(--hover-bg-color);\n",
              "    box-shadow: 0 1px 2px rgba(60, 64, 67, 0.3), 0 1px 3px 1px rgba(60, 64, 67, 0.15);\n",
              "    fill: var(--button-hover-fill-color);\n",
              "  }\n",
              "\n",
              "  .colab-df-quickchart-complete:disabled,\n",
              "  .colab-df-quickchart-complete:disabled:hover {\n",
              "    background-color: var(--disabled-bg-color);\n",
              "    fill: var(--disabled-fill-color);\n",
              "    box-shadow: none;\n",
              "  }\n",
              "\n",
              "  .colab-df-spinner {\n",
              "    border: 2px solid var(--fill-color);\n",
              "    border-color: transparent;\n",
              "    border-bottom-color: var(--fill-color);\n",
              "    animation:\n",
              "      spin 1s steps(1) infinite;\n",
              "  }\n",
              "\n",
              "  @keyframes spin {\n",
              "    0% {\n",
              "      border-color: transparent;\n",
              "      border-bottom-color: var(--fill-color);\n",
              "      border-left-color: var(--fill-color);\n",
              "    }\n",
              "    20% {\n",
              "      border-color: transparent;\n",
              "      border-left-color: var(--fill-color);\n",
              "      border-top-color: var(--fill-color);\n",
              "    }\n",
              "    30% {\n",
              "      border-color: transparent;\n",
              "      border-left-color: var(--fill-color);\n",
              "      border-top-color: var(--fill-color);\n",
              "      border-right-color: var(--fill-color);\n",
              "    }\n",
              "    40% {\n",
              "      border-color: transparent;\n",
              "      border-right-color: var(--fill-color);\n",
              "      border-top-color: var(--fill-color);\n",
              "    }\n",
              "    60% {\n",
              "      border-color: transparent;\n",
              "      border-right-color: var(--fill-color);\n",
              "    }\n",
              "    80% {\n",
              "      border-color: transparent;\n",
              "      border-right-color: var(--fill-color);\n",
              "      border-bottom-color: var(--fill-color);\n",
              "    }\n",
              "    90% {\n",
              "      border-color: transparent;\n",
              "      border-bottom-color: var(--fill-color);\n",
              "    }\n",
              "  }\n",
              "</style>\n",
              "\n",
              "  <script>\n",
              "    async function quickchart(key) {\n",
              "      const quickchartButtonEl =\n",
              "        document.querySelector('#' + key + ' button');\n",
              "      quickchartButtonEl.disabled = true;  // To prevent multiple clicks.\n",
              "      quickchartButtonEl.classList.add('colab-df-spinner');\n",
              "      try {\n",
              "        const charts = await google.colab.kernel.invokeFunction(\n",
              "            'suggestCharts', [key], {});\n",
              "      } catch (error) {\n",
              "        console.error('Error during call to suggestCharts:', error);\n",
              "      }\n",
              "      quickchartButtonEl.classList.remove('colab-df-spinner');\n",
              "      quickchartButtonEl.classList.add('colab-df-quickchart-complete');\n",
              "    }\n",
              "    (() => {\n",
              "      let quickchartButtonEl =\n",
              "        document.querySelector('#df-4ee6ec9e-eb1c-4503-a2ba-38372d2f3314 button');\n",
              "      quickchartButtonEl.style.display =\n",
              "        google.colab.kernel.accessAllowed ? 'block' : 'none';\n",
              "    })();\n",
              "  </script>\n",
              "</div>\n",
              "    </div>\n",
              "  </div>\n"
            ],
            "application/vnd.google.colaboratory.intrinsic+json": {
              "type": "dataframe",
              "variable_name": "raw_data"
            }
          },
          "metadata": {},
          "execution_count": 10
        }
      ],
      "source": [
        "raw_data = pd.io.stata.read_stata(\"gss7222_r2.dta\", convert_categoricals=False)\n",
        "raw_data.head()"
      ]
    },
    {
      "cell_type": "markdown",
      "metadata": {
        "id": "dAYvYg7Pbj9F"
      },
      "source": [
        "# Data Prep\n",
        "The raw data includes survey answers from 1972 to 2022.\n",
        "\n",
        "The selection of questions on the survey has changed over time. Some questions from earlier years are no longer asked in recent years, and available response options change from year to year. Plus, we want to focus only on recent data, so we've selected survey responses from 2018 to be our main dataset.\n"
      ]
    },
    {
      "cell_type": "code",
      "execution_count": null,
      "metadata": {
        "id": "PgDXKZqNb9OQ"
      },
      "outputs": [],
      "source": [
        "recent_data = raw_data[raw_data['year'] == 2018]"
      ]
    },
    {
      "cell_type": "markdown",
      "metadata": {
        "id": "sDY0ixQFcDWs"
      },
      "source": [
        "### Trimming NA columns and rows"
      ]
    },
    {
      "cell_type": "markdown",
      "metadata": {
        "id": "LDWSu8yKcsO0"
      },
      "source": [
        "We'll need to extract the questions (columns) that were asked in 2018, and the questions that have a healthy amount of answers."
      ]
    },
    {
      "cell_type": "markdown",
      "metadata": {
        "id": "dY_VcCoXeRSn"
      },
      "source": [
        "Let's take a look at what missing values are present in the dataset."
      ]
    },
    {
      "cell_type": "code",
      "execution_count": null,
      "metadata": {
        "colab": {
          "base_uri": "https://localhost:8080/",
          "height": 927
        },
        "id": "0IRcv4ADeXgg",
        "outputId": "55f43ce4-b07f-4b94-9236-0b7f46e5c718"
      },
      "outputs": [
        {
          "output_type": "display_data",
          "data": {
            "text/plain": [
              "<Figure size 640x480 with 1 Axes>"
            ],
            "image/png": "[encoded data removed]"
          },
          "metadata": {}
        },
        {
          "output_type": "display_data",
          "data": {
            "text/plain": [
              "<Figure size 640x480 with 1 Axes>"
            ],
            "image/png": "[encoded data removed]"
          },
          "metadata": {}
        }
      ],
      "source": [
        "def plot_NA_columns(data, title, show=True):\n",
        "  out = data.apply(lambda x: x.isna().sum() / data.shape[0], axis=0) # x is a column in data\n",
        "  plt.plot(np.arange(0, data.shape[1]), out.sort_values())\n",
        "  plt.xlabel('Columns sorted by % of NA values')\n",
        "  plt.ylabel('% of NA values in each column')\n",
        "  if show:\n",
        "    plt.title(title)\n",
        "    plt.show()\n",
        "\n",
        "plot_NA_columns(recent_data, title=\"Were these questions answered in 2018?\")\n",
        "\n",
        "def plot_NA_rows(data, title, show=True):\n",
        "  out = data.apply(lambda x: x.isna().sum() / data.shape[1], axis=1) # x is a row in data\n",
        "  plt.plot(np.arange(0, data.shape[0]), out.sort_values())\n",
        "  plt.xlabel('Rows sorted by % of NA values')\n",
        "  plt.ylabel('% of NA values in each row')\n",
        "  if show:\n",
        "    plt.title(title)\n",
        "    plt.show()\n",
        "\n",
        "plot_NA_rows(recent_data, title=\"Unresponsiveness of 2018 respondents across the entire dataset\")"
      ]
    },
    {
      "cell_type": "markdown",
      "metadata": {
        "id": "q1ckOvHNek3G"
      },
      "source": [
        "The study is formatted such that not all questions are asked to all participants. Rather, most of the questions are rotated so that a given question will likely only be on 2 of 3 versions (ballots) of the survey.\n",
        "\n",
        "We'll only select responses that were in the same rotation. By doing this, we try to target a group of respondents who all answered the same questions."
      ]
    },
    {
      "cell_type": "code",
      "execution_count": null,
      "metadata": {
        "id": "W4IMJTnremIA"
      },
      "outputs": [],
      "source": [
        "ballot1_2 = recent_data[recent_data['ballot'].isin([1, 2])]\n",
        "ballot1_3 = recent_data[recent_data['ballot'].isin([1, 3])]\n",
        "ballot2_3 = recent_data[recent_data['ballot'].isin([2, 3])]"
      ]
    },
    {
      "cell_type": "markdown",
      "metadata": {
        "id": "yXvMBQIzenwt"
      },
      "source": [
        "Let's see how the number of NA values differs across these rotations."
      ]
    },
    {
      "cell_type": "code",
      "execution_count": null,
      "metadata": {
        "colab": {
          "base_uri": "https://localhost:8080/",
          "height": 927
        },
        "id": "pw3Mg80meneJ",
        "outputId": "c2fd799e-0039-4b47-88b5-6a6d4e248b98"
      },
      "outputs": [
        {
          "output_type": "display_data",
          "data": {
            "text/plain": [
              "<Figure size 640x480 with 1 Axes>"
            ],
            "image/png": "[encoded data removed]"
          },
          "metadata": {}
        },
        {
          "output_type": "display_data",
          "data": {
            "text/plain": [
              "<Figure size 640x480 with 1 Axes>"
            ],
            "image/png": "[encoded data removed]"
          },
          "metadata": {}
        }
      ],
      "source": [
        "def subplot_line_NA_col(ax, data):\n",
        "  return ax.plot(np.arange(0, data.shape[1]),\n",
        "                 data.apply(lambda x: x.isna().sum() / data.shape[0], axis=0).sort_values())\n",
        "\n",
        "fig, ax = plt.subplots()\n",
        "l1, = subplot_line_NA_col(ax, recent_data)\n",
        "l2, = subplot_line_NA_col(ax, ballot1_2)\n",
        "l3, = subplot_line_NA_col(ax, ballot1_3)\n",
        "l4, = subplot_line_NA_col(ax, ballot2_3)\n",
        "ax.legend((l1, l2, l3, l4), ('all 2018', 'ballot 1 and 2', 'ballot 1 and 3', 'ballot 2 and 3'), loc='upper right')\n",
        "ax.set_xlabel('Columns sorted by % of NA values')\n",
        "ax.set_ylabel('% of NA values in each column')\n",
        "ax.set_title('Were these questions answered in 2018?')\n",
        "plt.show()\n",
        "\n",
        "def subplot_line_NA_row(ax, data):\n",
        "  return ax.plot(np.arange(0, data.shape[0]), data.apply(lambda x: x.isna().sum() / data.shape[1], axis=1).sort_values())\n",
        "\n",
        "fig, ax = plt.subplots()\n",
        "l1, = subplot_line_NA_row(ax, recent_data)\n",
        "l2, = subplot_line_NA_row(ax, ballot1_2)\n",
        "l3, = subplot_line_NA_row(ax, ballot1_3)\n",
        "l4, = subplot_line_NA_row(ax, ballot2_3)\n",
        "ax.legend((l1, l2, l3, l4), ('all 2018', 'ballot 1 and 2', 'ballot 1 and 3', 'ballot 2 and 3'), loc='upper right')\n",
        "ax.set_xlabel('Rows sorted by % of NA values')\n",
        "ax.set_ylabel('% of NA values in each row')\n",
        "ax.set_title('Unresponsiveness of 2018 respondents across the entire dataset')\n",
        "plt.show()"
      ]
    },
    {
      "cell_type": "markdown",
      "metadata": {
        "id": "N0fX6uUKfMOQ"
      },
      "source": [
        "Based on the above plots, ballots 2 and 3 have the lowest percentage of NA values so we'll focus on using that rotation.\n",
        "\n",
        "From there, we remove any columns with more than 40% NA values since this likely means those questions either weren't asked in 2018 or weren't part of this rotation."
      ]
    },
    {
      "cell_type": "code",
      "execution_count": null,
      "metadata": {
        "colab": {
          "base_uri": "https://localhost:8080/",
          "height": 986
        },
        "id": "3ds6o5kHjWLq",
        "outputId": "b5ec1a89-b242-4720-ccaa-8c00419f9b24"
      },
      "outputs": [
        {
          "output_type": "stream",
          "name": "stdout",
          "text": [
            "(1563, 480)\n"
          ]
        },
        {
          "output_type": "display_data",
          "data": {
            "text/plain": [
              "<Figure size 640x480 with 1 Axes>"
            ],
            "image/png": "[encoded data removed]"
          },
          "metadata": {}
        },
        {
          "output_type": "display_data",
          "data": {
            "text/plain": [
              "<Figure size 640x480 with 1 Axes>"
            ],
            "image/png": "[encoded data removed]"
          },
          "metadata": {}
        }
      ],
      "source": [
        "def drop_cols(orig_data, percent_NA_cols_required, cols_title='', rows_title='', show_plot=False):\n",
        "  select_data = orig_data.dropna(thresh=int(((1-percent_NA_cols_required) * orig_data.shape[0])), axis=1)\n",
        "  if show_plot:\n",
        "    print(select_data.shape)\n",
        "    plot_NA_columns(select_data, title=cols_title)\n",
        "    plot_NA_rows(select_data, title=rows_title)\n",
        "  return select_data\n",
        "\n",
        "percent_NA_cols_required = .4\n",
        "select_data = drop_cols(ballot2_3, percent_NA_cols_required,\n",
        "          cols_title='Were these questions answered in 2018 for ballots 2 and 3?\\nAfter chopping off questions that were {}% unanswered'.format(int(percent_NA_cols_required * 100)),\n",
        "          rows_title='Unresponsiveness of 2018 ballot 2&3 respondents across\\nquestions that are {}% answered or more'.format(100 - int(percent_NA_cols_required * 100)),\n",
        "          show_plot=True)"
      ]
    },
    {
      "cell_type": "markdown",
      "metadata": {
        "id": "Fv4LHhavkYYN"
      },
      "source": [
        "Let's drop unresponsive respondents (>8% NA) before more aggressively cutting NA columns so that unresponse respondents don't affect which columns are cut."
      ]
    },
    {
      "cell_type": "code",
      "execution_count": null,
      "metadata": {
        "colab": {
          "base_uri": "https://localhost:8080/",
          "height": 1000
        },
        "id": "AXCeEwEIfL5s",
        "outputId": "7deb508d-be2e-42c5-a7b0-6bfbc59420f3"
      },
      "outputs": [
        {
          "output_type": "stream",
          "name": "stdout",
          "text": [
            "(1334, 480)\n"
          ]
        },
        {
          "output_type": "display_data",
          "data": {
            "text/plain": [
              "<Figure size 640x480 with 1 Axes>"
            ],
            "image/png": "[encoded data removed]"
          },
          "metadata": {}
        },
        {
          "output_type": "display_data",
          "data": {
            "text/plain": [
              "<Figure size 640x480 with 1 Axes>"
            ],
            "image/png": "[encoded data removed]"
          },
          "metadata": {}
        }
      ],
      "source": [
        "def drop_rows(orig_data, percent_NA_rows_required, cols_title='', rows_title='', show_plot=False):\n",
        "  answers_data = orig_data.dropna(thresh=int(((1-percent_NA_rows_required) * orig_data.shape[1])), axis=0)\n",
        "  if show_plot:\n",
        "    print(answers_data.shape)\n",
        "    plot_NA_columns(answers_data, title=cols_title)\n",
        "    plot_NA_rows(answers_data, title=rows_title)\n",
        "  return answers_data\n",
        "\n",
        "percent_NA_rows_required = .3\n",
        "answers_data = drop_rows(select_data, percent_NA_rows_required,\n",
        "          cols_title='Were these questions answered in 2018 for ballots 2 and 3?\\nAfter chopping off questions that were {}% unanswered and\\nconsidering only the most responsive respondents\\n(those who answered {}% of those questions).'.format(int(percent_NA_cols_required * 100), 100 - int(percent_NA_rows_required * 100)),\n",
        "          rows_title='Unresponsiveness of 2018 ballot 2&3\\'s most responsive respondents\\n(those who answered {}% of questions)\\nacross questions that are {}% answered or more'.format(100 - int(percent_NA_rows_required * 100), 100 - int(percent_NA_cols_required * 100)),\n",
        "          show_plot=True)"
      ]
    },
    {
      "cell_type": "markdown",
      "metadata": {
        "id": "St5_77ubmHdT"
      },
      "source": [
        "We'll now cut columns that are > 18% NA, as this seems to be where a plateau occurs in the column plot."
      ]
    },
    {
      "cell_type": "code",
      "execution_count": null,
      "metadata": {
        "colab": {
          "base_uri": "https://localhost:8080/",
          "height": 986
        },
        "id": "10A7OfWWmZnI",
        "outputId": "7a916ee5-256c-4150-fce9-40ecc952532e"
      },
      "outputs": [
        {
          "output_type": "stream",
          "name": "stdout",
          "text": [
            "(1334, 355)\n"
          ]
        },
        {
          "output_type": "display_data",
          "data": {
            "text/plain": [
              "<Figure size 640x480 with 1 Axes>"
            ],
            "image/png": "[encoded data removed]"
          },
          "metadata": {}
        },
        {
          "output_type": "display_data",
          "data": {
            "text/plain": [
              "<Figure size 640x480 with 1 Axes>"
            ],
            "image/png": "[encoded data removed]"
          },
          "metadata": {}
        }
      ],
      "source": [
        "percent_NA_rows_required = .18\n",
        "trimmed = drop_cols(answers_data, percent_NA_rows_required,\n",
        "          cols_title='Were these questions answered in 2018 for ballots 2 and 3?\\nTrimmed again.',\n",
        "          rows_title='Unresponsiveness of 2018 ballot 2&3 respondents. \\nTrimmed again.',\n",
        "          show_plot=True)"
      ]
    },
    {
      "cell_type": "markdown",
      "metadata": {
        "id": "iciGttilg8Vi"
      },
      "source": [
        "Finally, we cut off rows with > 5% NA values, since a vertical increase in NA values occurs thereafter."
      ]
    },
    {
      "cell_type": "code",
      "execution_count": null,
      "metadata": {
        "colab": {
          "base_uri": "https://localhost:8080/",
          "height": 986
        },
        "id": "i7JcuT9ag8AQ",
        "outputId": "4d131e27-c156-46b9-a23b-f2b42da7c82f"
      },
      "outputs": [
        {
          "output_type": "stream",
          "name": "stdout",
          "text": [
            "(1028, 355)\n"
          ]
        },
        {
          "output_type": "display_data",
          "data": {
            "text/plain": [
              "<Figure size 640x480 with 1 Axes>"
            ],
            "image/png": "[encoded data removed]"
          },
          "metadata": {}
        },
        {
          "output_type": "display_data",
          "data": {
            "text/plain": [
              "<Figure size 640x480 with 1 Axes>"
            ],
            "image/png": "[encoded data removed]"
          },
          "metadata": {}
        }
      ],
      "source": [
        "trimmed = drop_rows(trimmed, 0.05,\n",
        "          cols_title='Were these questions answered in 2018 for ballots 2 and 3?\\nFinal trim',\n",
        "          rows_title='Unresponsiveness of 2018 ballot 2&3\\'s most responsive respondents\\nFinal trim',\n",
        "          show_plot=True)"
      ]
    },
    {
      "cell_type": "markdown",
      "metadata": {
        "id": "H8uUGWkfkx3_"
      },
      "source": [
        "### Feature Engineering"
      ]
    },
    {
      "cell_type": "markdown",
      "metadata": {
        "id": "fBDiu22Kiu12"
      },
      "source": [
        "From the GSS website, we obtained a spreadsheet containing all of 2018's variable names and what they mean. It came in the form of 6 separate `csv`s, so we merged them here."
      ]
    },
    {
      "cell_type": "code",
      "execution_count": null,
      "metadata": {
        "colab": {
          "base_uri": "https://localhost:8080/",
          "height": 206
        },
        "id": "rO7aXkmVnEIW",
        "outputId": "5147ddfd-a3b9-4b42-b1d4-95682a7ca7f0"
      },
      "outputs": [
        {
          "output_type": "execute_result",
          "data": {
            "text/plain": [
              "      name                                 label\n",
              "0    uswar    expect u.s. in war within 10 years\n",
              "1   uswary  expect u.s. in world war in 10 years\n",
              "2   ballot             ballot used for interview\n",
              "3  wrkstat                    labor force status\n",
              "4     hrs1      number of hours worked last week"
            ],
            "text/html": [
              "\n",
              "  <div id=\"df-13fffda8-4f0b-4fc1-8835-a15fada2ee81\" class=\"colab-df-container\">\n",
              "    <div>\n",
              "<style scoped>\n",
              "    .dataframe tbody tr th:only-of-type {\n",
              "        vertical-align: middle;\n",
              "    }\n",
              "\n",
              "    .dataframe tbody tr th {\n",
              "        vertical-align: top;\n",
              "    }\n",
              "\n",
              "    .dataframe thead th {\n",
              "        text-align: right;\n",
              "    }\n",
              "</style>\n",
              "<table border=\"1\" class=\"dataframe\">\n",
              "  <thead>\n",
              "    <tr style=\"text-align: right;\">\n",
              "      <th></th>\n",
              "      <th>name</th>\n",
              "      <th>label</th>\n",
              "    </tr>\n",
              "  </thead>\n",
              "  <tbody>\n",
              "    <tr>\n",
              "      <th>0</th>\n",
              "      <td>uswar</td>\n",
              "      <td>expect u.s. in war within 10 years</td>\n",
              "    </tr>\n",
              "    <tr>\n",
              "      <th>1</th>\n",
              "      <td>uswary</td>\n",
              "      <td>expect u.s. in world war in 10 years</td>\n",
              "    </tr>\n",
              "    <tr>\n",
              "      <th>2</th>\n",
              "      <td>ballot</td>\n",
              "      <td>ballot used for interview</td>\n",
              "    </tr>\n",
              "    <tr>\n",
              "      <th>3</th>\n",
              "      <td>wrkstat</td>\n",
              "      <td>labor force status</td>\n",
              "    </tr>\n",
              "    <tr>\n",
              "      <th>4</th>\n",
              "      <td>hrs1</td>\n",
              "      <td>number of hours worked last week</td>\n",
              "    </tr>\n",
              "  </tbody>\n",
              "</table>\n",
              "</div>\n",
              "    <div class=\"colab-df-buttons\">\n",
              "\n",
              "  <div class=\"colab-df-container\">\n",
              "    <button class=\"colab-df-convert\" onclick=\"convertToInteractive('df-13fffda8-4f0b-4fc1-8835-a15fada2ee81')\"\n",
              "            title=\"Convert this dataframe to an interactive table.\"\n",
              "            style=\"display:none;\">\n",
              "\n",
              "  <svg xmlns=\"http://www.w3.org/2000/svg\" height=\"24px\" viewBox=\"0 -960 960 960\">\n",
              "    <path d=\"M120-120v-720h720v720H120Zm60-500h600v-160H180v160Zm220 220h160v-160H400v160Zm0 220h160v-160H400v160ZM180-400h160v-160H180v160Zm440 0h160v-160H620v160ZM180-180h160v-160H180v160Zm440 0h160v-160H620v160Z\"/>\n",
              "  </svg>\n",
              "    </button>\n",
              "\n",
              "  <style>\n",
              "    .colab-df-container {\n",
              "      display:flex;\n",
              "      gap: 12px;\n",
              "    }\n",
              "\n",
              "    .colab-df-convert {\n",
              "      background-color: #E8F0FE;\n",
              "      border: none;\n",
              "      border-radius: 50%;\n",
              "      cursor: pointer;\n",
              "      display: none;\n",
              "      fill: #1967D2;\n",
              "      height: 32px;\n",
              "      padding: 0 0 0 0;\n",
              "      width: 32px;\n",
              "    }\n",
              "\n",
              "    .colab-df-convert:hover {\n",
              "      background-color: #E2EBFA;\n",
              "      box-shadow: 0px 1px 2px rgba(60, 64, 67, 0.3), 0px 1px 3px 1px rgba(60, 64, 67, 0.15);\n",
              "      fill: #174EA6;\n",
              "    }\n",
              "\n",
              "    .colab-df-buttons div {\n",
              "      margin-bottom: 4px;\n",
              "    }\n",
              "\n",
              "    [theme=dark] .colab-df-convert {\n",
              "      background-color: #3B4455;\n",
              "      fill: #D2E3FC;\n",
              "    }\n",
              "\n",
              "    [theme=dark] .colab-df-convert:hover {\n",
              "      background-color: #434B5C;\n",
              "      box-shadow: 0px 1px 3px 1px rgba(0, 0, 0, 0.15);\n",
              "      filter: drop-shadow(0px 1px 2px rgba(0, 0, 0, 0.3));\n",
              "      fill: #FFFFFF;\n",
              "    }\n",
              "  </style>\n",
              "\n",
              "    <script>\n",
              "      const buttonEl =\n",
              "        document.querySelector('#df-13fffda8-4f0b-4fc1-8835-a15fada2ee81 button.colab-df-convert');\n",
              "      buttonEl.style.display =\n",
              "        google.colab.kernel.accessAllowed ? 'block' : 'none';\n",
              "\n",
              "      async function convertToInteractive(key) {\n",
              "        const element = document.querySelector('#df-13fffda8-4f0b-4fc1-8835-a15fada2ee81');\n",
              "        const dataTable =\n",
              "          await google.colab.kernel.invokeFunction('convertToInteractive',\n",
              "                                                    [key], {});\n",
              "        if (!dataTable) return;\n",
              "\n",
              "        const docLinkHtml = 'Like what you see? Visit the ' +\n",
              "          '<a target=\"_blank\" href=https://colab.research.google.com/notebooks/data_table.ipynb>data table notebook</a>'\n",
              "          + ' to learn more about interactive tables.';\n",
              "        element.innerHTML = '';\n",
              "        dataTable['output_type'] = 'display_data';\n",
              "        await google.colab.output.renderOutput(dataTable, element);\n",
              "        const docLink = document.createElement('div');\n",
              "        docLink.innerHTML = docLinkHtml;\n",
              "        element.appendChild(docLink);\n",
              "      }\n",
              "    </script>\n",
              "  </div>\n",
              "\n",
              "\n",
              "<div id=\"df-844a36b2-93f7-4d3b-ad87-9165f16b1075\">\n",
              "  <button class=\"colab-df-quickchart\" onclick=\"quickchart('df-844a36b2-93f7-4d3b-ad87-9165f16b1075')\"\n",
              "            title=\"Suggest charts\"\n",
              "            style=\"display:none;\">\n",
              "\n",
              "<svg xmlns=\"http://www.w3.org/2000/svg\" height=\"24px\"viewBox=\"0 0 24 24\"\n",
              "     width=\"24px\">\n",
              "    <g>\n",
              "        <path d=\"M19 3H5c-1.1 0-2 .9-2 2v14c0 1.1.9 2 2 2h14c1.1 0 2-.9 2-2V5c0-1.1-.9-2-2-2zM9 17H7v-7h2v7zm4 0h-2V7h2v10zm4 0h-2v-4h2v4z\"/>\n",
              "    </g>\n",
              "</svg>\n",
              "  </button>\n",
              "\n",
              "<style>\n",
              "  .colab-df-quickchart {\n",
              "      --bg-color: #E8F0FE;\n",
              "      --fill-color: #1967D2;\n",
              "      --hover-bg-color: #E2EBFA;\n",
              "      --hover-fill-color: #174EA6;\n",
              "      --disabled-fill-color: #AAA;\n",
              "      --disabled-bg-color: #DDD;\n",
              "  }\n",
              "\n",
              "  [theme=dark] .colab-df-quickchart {\n",
              "      --bg-color: #3B4455;\n",
              "      --fill-color: #D2E3FC;\n",
              "      --hover-bg-color: #434B5C;\n",
              "      --hover-fill-color: #FFFFFF;\n",
              "      --disabled-bg-color: #3B4455;\n",
              "      --disabled-fill-color: #666;\n",
              "  }\n",
              "\n",
              "  .colab-df-quickchart {\n",
              "    background-color: var(--bg-color);\n",
              "    border: none;\n",
              "    border-radius: 50%;\n",
              "    cursor: pointer;\n",
              "    display: none;\n",
              "    fill: var(--fill-color);\n",
              "    height: 32px;\n",
              "    padding: 0;\n",
              "    width: 32px;\n",
              "  }\n",
              "\n",
              "  .colab-df-quickchart:hover {\n",
              "    background-color: var(--hover-bg-color);\n",
              "    box-shadow: 0 1px 2px rgba(60, 64, 67, 0.3), 0 1px 3px 1px rgba(60, 64, 67, 0.15);\n",
              "    fill: var(--button-hover-fill-color);\n",
              "  }\n",
              "\n",
              "  .colab-df-quickchart-complete:disabled,\n",
              "  .colab-df-quickchart-complete:disabled:hover {\n",
              "    background-color: var(--disabled-bg-color);\n",
              "    fill: var(--disabled-fill-color);\n",
              "    box-shadow: none;\n",
              "  }\n",
              "\n",
              "  .colab-df-spinner {\n",
              "    border: 2px solid var(--fill-color);\n",
              "    border-color: transparent;\n",
              "    border-bottom-color: var(--fill-color);\n",
              "    animation:\n",
              "      spin 1s steps(1) infinite;\n",
              "  }\n",
              "\n",
              "  @keyframes spin {\n",
              "    0% {\n",
              "      border-color: transparent;\n",
              "      border-bottom-color: var(--fill-color);\n",
              "      border-left-color: var(--fill-color);\n",
              "    }\n",
              "    20% {\n",
              "      border-color: transparent;\n",
              "      border-left-color: var(--fill-color);\n",
              "      border-top-color: var(--fill-color);\n",
              "    }\n",
              "    30% {\n",
              "      border-color: transparent;\n",
              "      border-left-color: var(--fill-color);\n",
              "      border-top-color: var(--fill-color);\n",
              "      border-right-color: var(--fill-color);\n",
              "    }\n",
              "    40% {\n",
              "      border-color: transparent;\n",
              "      border-right-color: var(--fill-color);\n",
              "      border-top-color: var(--fill-color);\n",
              "    }\n",
              "    60% {\n",
              "      border-color: transparent;\n",
              "      border-right-color: var(--fill-color);\n",
              "    }\n",
              "    80% {\n",
              "      border-color: transparent;\n",
              "      border-right-color: var(--fill-color);\n",
              "      border-bottom-color: var(--fill-color);\n",
              "    }\n",
              "    90% {\n",
              "      border-color: transparent;\n",
              "      border-bottom-color: var(--fill-color);\n",
              "    }\n",
              "  }\n",
              "</style>\n",
              "\n",
              "  <script>\n",
              "    async function quickchart(key) {\n",
              "      const quickchartButtonEl =\n",
              "        document.querySelector('#' + key + ' button');\n",
              "      quickchartButtonEl.disabled = true;  // To prevent multiple clicks.\n",
              "      quickchartButtonEl.classList.add('colab-df-spinner');\n",
              "      try {\n",
              "        const charts = await google.colab.kernel.invokeFunction(\n",
              "            'suggestCharts', [key], {});\n",
              "      } catch (error) {\n",
              "        console.error('Error during call to suggestCharts:', error);\n",
              "      }\n",
              "      quickchartButtonEl.classList.remove('colab-df-spinner');\n",
              "      quickchartButtonEl.classList.add('colab-df-quickchart-complete');\n",
              "    }\n",
              "    (() => {\n",
              "      let quickchartButtonEl =\n",
              "        document.querySelector('#df-844a36b2-93f7-4d3b-ad87-9165f16b1075 button');\n",
              "      quickchartButtonEl.style.display =\n",
              "        google.colab.kernel.accessAllowed ? 'block' : 'none';\n",
              "    })();\n",
              "  </script>\n",
              "</div>\n",
              "    </div>\n",
              "  </div>\n"
            ],
            "application/vnd.google.colaboratory.intrinsic+json": {
              "type": "dataframe",
              "variable_name": "codebook",
              "summary": "{\n  \"name\": \"codebook\",\n  \"rows\": 2041,\n  \"fields\": [\n    {\n      \"column\": \"name\",\n      \"properties\": {\n        \"dtype\": \"string\",\n        \"num_unique_values\": 2021,\n        \"samples\": [\n          \"limitpay\",\n          \"restact\",\n          \"ethregion48\"\n        ],\n        \"semantic_type\": \"\",\n        \"description\": \"\"\n      }\n    },\n    {\n      \"column\": \"label\",\n      \"properties\": {\n        \"dtype\": \"string\",\n        \"num_unique_values\": 1954,\n        \"samples\": [\n          \"3rd argument for abortion\",\n          \"differences due to lack of will\",\n          \"PERFORMANCE RATING LAST YEAR\"\n        ],\n        \"semantic_type\": \"\",\n        \"description\": \"\"\n      }\n    }\n  ]\n}"
            }
          },
          "metadata": {},
          "execution_count": 19
        }
      ],
      "source": [
        "codebook = pd.read_csv('Codebook/Variables-Table-1.csv')\n",
        "codebook.head()\n",
        "for i in range(2, 7):\n",
        "  c = pd.read_csv('Codebook/Variables-Table-{}.csv'.format(i))\n",
        "  codebook = pd.concat([codebook, c], axis=0)\n",
        "\n",
        "codebook.drop(codebook.columns[[2, 3, 4]], axis=1, inplace=True)\n",
        "codebook.to_csv('Codebook/merged-pandas-edit.csv')\n",
        "# codebook = pd.read_csv('Codebook/merged-pandas-edit.csv') # storage\n",
        "codebook.head()"
      ]
    },
    {
      "cell_type": "markdown",
      "metadata": {
        "id": "M-bE33WFo40W"
      },
      "source": [
        "Now we trim the codebook to only contain variables present in our trimmed dataset."
      ]
    },
    {
      "cell_type": "code",
      "execution_count": null,
      "metadata": {
        "colab": {
          "base_uri": "https://localhost:8080/",
          "height": 206
        },
        "id": "YF6gFEvTpJQd",
        "outputId": "31e59249-60d3-4418-b52b-e8af59f7bab2"
      },
      "outputs": [
        {
          "output_type": "execute_result",
          "data": {
            "text/plain": [
              "       name                                  label  is_present\n",
              "2    ballot              ballot used for interview           1\n",
              "3   wrkstat                     labor force status           1\n",
              "14      age                      age of respondent           1\n",
              "16     educ       highest year of school completed           1\n",
              "18   maeduc  highest year school completed, mother           1"
            ],
            "text/html": [
              "\n",
              "  <div id=\"df-f7738b19-6a30-4efc-aaa8-97adf4dd37b6\" class=\"colab-df-container\">\n",
              "    <div>\n",
              "<style scoped>\n",
              "    .dataframe tbody tr th:only-of-type {\n",
              "        vertical-align: middle;\n",
              "    }\n",
              "\n",
              "    .dataframe tbody tr th {\n",
              "        vertical-align: top;\n",
              "    }\n",
              "\n",
              "    .dataframe thead th {\n",
              "        text-align: right;\n",
              "    }\n",
              "</style>\n",
              "<table border=\"1\" class=\"dataframe\">\n",
              "  <thead>\n",
              "    <tr style=\"text-align: right;\">\n",
              "      <th></th>\n",
              "      <th>name</th>\n",
              "      <th>label</th>\n",
              "      <th>is_present</th>\n",
              "    </tr>\n",
              "  </thead>\n",
              "  <tbody>\n",
              "    <tr>\n",
              "      <th>2</th>\n",
              "      <td>ballot</td>\n",
              "      <td>ballot used for interview</td>\n",
              "      <td>1</td>\n",
              "    </tr>\n",
              "    <tr>\n",
              "      <th>3</th>\n",
              "      <td>wrkstat</td>\n",
              "      <td>labor force status</td>\n",
              "      <td>1</td>\n",
              "    </tr>\n",
              "    <tr>\n",
              "      <th>14</th>\n",
              "      <td>age</td>\n",
              "      <td>age of respondent</td>\n",
              "      <td>1</td>\n",
              "    </tr>\n",
              "    <tr>\n",
              "      <th>16</th>\n",
              "      <td>educ</td>\n",
              "      <td>highest year of school completed</td>\n",
              "      <td>1</td>\n",
              "    </tr>\n",
              "    <tr>\n",
              "      <th>18</th>\n",
              "      <td>maeduc</td>\n",
              "      <td>highest year school completed, mother</td>\n",
              "      <td>1</td>\n",
              "    </tr>\n",
              "  </tbody>\n",
              "</table>\n",
              "</div>\n",
              "    <div class=\"colab-df-buttons\">\n",
              "\n",
              "  <div class=\"colab-df-container\">\n",
              "    <button class=\"colab-df-convert\" onclick=\"convertToInteractive('df-f7738b19-6a30-4efc-aaa8-97adf4dd37b6')\"\n",
              "            title=\"Convert this dataframe to an interactive table.\"\n",
              "            style=\"display:none;\">\n",
              "\n",
              "  <svg xmlns=\"http://www.w3.org/2000/svg\" height=\"24px\" viewBox=\"0 -960 960 960\">\n",
              "    <path d=\"M120-120v-720h720v720H120Zm60-500h600v-160H180v160Zm220 220h160v-160H400v160Zm0 220h160v-160H400v160ZM180-400h160v-160H180v160Zm440 0h160v-160H620v160ZM180-180h160v-160H180v160Zm440 0h160v-160H620v160Z\"/>\n",
              "  </svg>\n",
              "    </button>\n",
              "\n",
              "  <style>\n",
              "    .colab-df-container {\n",
              "      display:flex;\n",
              "      gap: 12px;\n",
              "    }\n",
              "\n",
              "    .colab-df-convert {\n",
              "      background-color: #E8F0FE;\n",
              "      border: none;\n",
              "      border-radius: 50%;\n",
              "      cursor: pointer;\n",
              "      display: none;\n",
              "      fill: #1967D2;\n",
              "      height: 32px;\n",
              "      padding: 0 0 0 0;\n",
              "      width: 32px;\n",
              "    }\n",
              "\n",
              "    .colab-df-convert:hover {\n",
              "      background-color: #E2EBFA;\n",
              "      box-shadow: 0px 1px 2px rgba(60, 64, 67, 0.3), 0px 1px 3px 1px rgba(60, 64, 67, 0.15);\n",
              "      fill: #174EA6;\n",
              "    }\n",
              "\n",
              "    .colab-df-buttons div {\n",
              "      margin-bottom: 4px;\n",
              "    }\n",
              "\n",
              "    [theme=dark] .colab-df-convert {\n",
              "      background-color: #3B4455;\n",
              "      fill: #D2E3FC;\n",
              "    }\n",
              "\n",
              "    [theme=dark] .colab-df-convert:hover {\n",
              "      background-color: #434B5C;\n",
              "      box-shadow: 0px 1px 3px 1px rgba(0, 0, 0, 0.15);\n",
              "      filter: drop-shadow(0px 1px 2px rgba(0, 0, 0, 0.3));\n",
              "      fill: #FFFFFF;\n",
              "    }\n",
              "  </style>\n",
              "\n",
              "    <script>\n",
              "      const buttonEl =\n",
              "        document.querySelector('#df-f7738b19-6a30-4efc-aaa8-97adf4dd37b6 button.colab-df-convert');\n",
              "      buttonEl.style.display =\n",
              "        google.colab.kernel.accessAllowed ? 'block' : 'none';\n",
              "\n",
              "      async function convertToInteractive(key) {\n",
              "        const element = document.querySelector('#df-f7738b19-6a30-4efc-aaa8-97adf4dd37b6');\n",
              "        const dataTable =\n",
              "          await google.colab.kernel.invokeFunction('convertToInteractive',\n",
              "                                                    [key], {});\n",
              "        if (!dataTable) return;\n",
              "\n",
              "        const docLinkHtml = 'Like what you see? Visit the ' +\n",
              "          '<a target=\"_blank\" href=https://colab.research.google.com/notebooks/data_table.ipynb>data table notebook</a>'\n",
              "          + ' to learn more about interactive tables.';\n",
              "        element.innerHTML = '';\n",
              "        dataTable['output_type'] = 'display_data';\n",
              "        await google.colab.output.renderOutput(dataTable, element);\n",
              "        const docLink = document.createElement('div');\n",
              "        docLink.innerHTML = docLinkHtml;\n",
              "        element.appendChild(docLink);\n",
              "      }\n",
              "    </script>\n",
              "  </div>\n",
              "\n",
              "\n",
              "<div id=\"df-920e1356-00f2-4a34-b921-83c8452ae0b3\">\n",
              "  <button class=\"colab-df-quickchart\" onclick=\"quickchart('df-920e1356-00f2-4a34-b921-83c8452ae0b3')\"\n",
              "            title=\"Suggest charts\"\n",
              "            style=\"display:none;\">\n",
              "\n",
              "<svg xmlns=\"http://www.w3.org/2000/svg\" height=\"24px\"viewBox=\"0 0 24 24\"\n",
              "     width=\"24px\">\n",
              "    <g>\n",
              "        <path d=\"M19 3H5c-1.1 0-2 .9-2 2v14c0 1.1.9 2 2 2h14c1.1 0 2-.9 2-2V5c0-1.1-.9-2-2-2zM9 17H7v-7h2v7zm4 0h-2V7h2v10zm4 0h-2v-4h2v4z\"/>\n",
              "    </g>\n",
              "</svg>\n",
              "  </button>\n",
              "\n",
              "<style>\n",
              "  .colab-df-quickchart {\n",
              "      --bg-color: #E8F0FE;\n",
              "      --fill-color: #1967D2;\n",
              "      --hover-bg-color: #E2EBFA;\n",
              "      --hover-fill-color: #174EA6;\n",
              "      --disabled-fill-color: #AAA;\n",
              "      --disabled-bg-color: #DDD;\n",
              "  }\n",
              "\n",
              "  [theme=dark] .colab-df-quickchart {\n",
              "      --bg-color: #3B4455;\n",
              "      --fill-color: #D2E3FC;\n",
              "      --hover-bg-color: #434B5C;\n",
              "      --hover-fill-color: #FFFFFF;\n",
              "      --disabled-bg-color: #3B4455;\n",
              "      --disabled-fill-color: #666;\n",
              "  }\n",
              "\n",
              "  .colab-df-quickchart {\n",
              "    background-color: var(--bg-color);\n",
              "    border: none;\n",
              "    border-radius: 50%;\n",
              "    cursor: pointer;\n",
              "    display: none;\n",
              "    fill: var(--fill-color);\n",
              "    height: 32px;\n",
              "    padding: 0;\n",
              "    width: 32px;\n",
              "  }\n",
              "\n",
              "  .colab-df-quickchart:hover {\n",
              "    background-color: var(--hover-bg-color);\n",
              "    box-shadow: 0 1px 2px rgba(60, 64, 67, 0.3), 0 1px 3px 1px rgba(60, 64, 67, 0.15);\n",
              "    fill: var(--button-hover-fill-color);\n",
              "  }\n",
              "\n",
              "  .colab-df-quickchart-complete:disabled,\n",
              "  .colab-df-quickchart-complete:disabled:hover {\n",
              "    background-color: var(--disabled-bg-color);\n",
              "    fill: var(--disabled-fill-color);\n",
              "    box-shadow: none;\n",
              "  }\n",
              "\n",
              "  .colab-df-spinner {\n",
              "    border: 2px solid var(--fill-color);\n",
              "    border-color: transparent;\n",
              "    border-bottom-color: var(--fill-color);\n",
              "    animation:\n",
              "      spin 1s steps(1) infinite;\n",
              "  }\n",
              "\n",
              "  @keyframes spin {\n",
              "    0% {\n",
              "      border-color: transparent;\n",
              "      border-bottom-color: var(--fill-color);\n",
              "      border-left-color: var(--fill-color);\n",
              "    }\n",
              "    20% {\n",
              "      border-color: transparent;\n",
              "      border-left-color: var(--fill-color);\n",
              "      border-top-color: var(--fill-color);\n",
              "    }\n",
              "    30% {\n",
              "      border-color: transparent;\n",
              "      border-left-color: var(--fill-color);\n",
              "      border-top-color: var(--fill-color);\n",
              "      border-right-color: var(--fill-color);\n",
              "    }\n",
              "    40% {\n",
              "      border-color: transparent;\n",
              "      border-right-color: var(--fill-color);\n",
              "      border-top-color: var(--fill-color);\n",
              "    }\n",
              "    60% {\n",
              "      border-color: transparent;\n",
              "      border-right-color: var(--fill-color);\n",
              "    }\n",
              "    80% {\n",
              "      border-color: transparent;\n",
              "      border-right-color: var(--fill-color);\n",
              "      border-bottom-color: var(--fill-color);\n",
              "    }\n",
              "    90% {\n",
              "      border-color: transparent;\n",
              "      border-bottom-color: var(--fill-color);\n",
              "    }\n",
              "  }\n",
              "</style>\n",
              "\n",
              "  <script>\n",
              "    async function quickchart(key) {\n",
              "      const quickchartButtonEl =\n",
              "        document.querySelector('#' + key + ' button');\n",
              "      quickchartButtonEl.disabled = true;  // To prevent multiple clicks.\n",
              "      quickchartButtonEl.classList.add('colab-df-spinner');\n",
              "      try {\n",
              "        const charts = await google.colab.kernel.invokeFunction(\n",
              "            'suggestCharts', [key], {});\n",
              "      } catch (error) {\n",
              "        console.error('Error during call to suggestCharts:', error);\n",
              "      }\n",
              "      quickchartButtonEl.classList.remove('colab-df-spinner');\n",
              "      quickchartButtonEl.classList.add('colab-df-quickchart-complete');\n",
              "    }\n",
              "    (() => {\n",
              "      let quickchartButtonEl =\n",
              "        document.querySelector('#df-920e1356-00f2-4a34-b921-83c8452ae0b3 button');\n",
              "      quickchartButtonEl.style.display =\n",
              "        google.colab.kernel.accessAllowed ? 'block' : 'none';\n",
              "    })();\n",
              "  </script>\n",
              "</div>\n",
              "    </div>\n",
              "  </div>\n"
            ],
            "application/vnd.google.colaboratory.intrinsic+json": {
              "type": "dataframe",
              "variable_name": "present_codebook",
              "summary": "{\n  \"name\": \"present_codebook\",\n  \"rows\": 223,\n  \"fields\": [\n    {\n      \"column\": \"name\",\n      \"properties\": {\n        \"dtype\": \"string\",\n        \"num_unique_values\": 218,\n        \"samples\": [\n          \"cntctsib\",\n          \"helpnot\",\n          \"adults\"\n        ],\n        \"semantic_type\": \"\",\n        \"description\": \"\"\n      }\n    },\n    {\n      \"column\": \"label\",\n      \"properties\": {\n        \"dtype\": \"string\",\n        \"num_unique_values\": 217,\n        \"samples\": [\n          \"citizen said vulgar or obscene things\",\n          \"should govt do more or less?\",\n          \"household members 13 thru 17 yrs old\"\n        ],\n        \"semantic_type\": \"\",\n        \"description\": \"\"\n      }\n    },\n    {\n      \"column\": \"is_present\",\n      \"properties\": {\n        \"dtype\": \"number\",\n        \"std\": 0,\n        \"min\": 1,\n        \"max\": 1,\n        \"num_unique_values\": 1,\n        \"samples\": [\n          1\n        ],\n        \"semantic_type\": \"\",\n        \"description\": \"\"\n      }\n    }\n  ]\n}"
            }
          },
          "metadata": {},
          "execution_count": 20
        }
      ],
      "source": [
        "codebook['is_present'] = 0\n",
        "for col in trimmed:\n",
        "  codebook_entry = codebook.loc[codebook['name']==col]\n",
        "  codebook.loc[codebook['name']==col, 'is_present'] = 1\n",
        "codebook.head(10)\n",
        "\n",
        "present_codebook = codebook[codebook['is_present'] == 1]\n",
        "present_codebook.to_csv('Codebook/present-codebook.csv')\n",
        "present_codebook.head()"
      ]
    },
    {
      "cell_type": "markdown",
      "metadata": {
        "id": "vdwujkHNp4XW"
      },
      "source": [
        "We manually added more information to `present_codebook`. This information includes a `tag` which denotes if a feature is related to political ideology (which we aim to use for clustering), demographic information, familial information, political-adjacent features (features that are not directly political but may influence political views), emotional health, lifestyle, religion, socioeconomic status, and work.\n",
        "\n",
        "This is so we can categorize each type of question for feature selection."
      ]
    },
    {
      "cell_type": "code",
      "execution_count": null,
      "metadata": {
        "colab": {
          "base_uri": "https://localhost:8080/",
          "height": 206
        },
        "id": "3LRTOMDVpgDW",
        "outputId": "334639c7-6941-4442-89e7-66b7962f7279"
      },
      "outputs": [
        {
          "output_type": "execute_result",
          "data": {
            "text/plain": [
              "   Unnamed: 0     name                                  label     tag\n",
              "0           2   ballot              ballot used for interview    omit\n",
              "1           3  wrkstat                     labor force status    work\n",
              "2          14      age                      age of respondent    demo\n",
              "3          16     educ       highest year of school completed  social\n",
              "4          18   maeduc  highest year school completed, mother  social"
            ],
            "text/html": [
              "\n",
              "  <div id=\"df-ffb6b365-db06-4d3e-ab80-7afab08e7c70\" class=\"colab-df-container\">\n",
              "    <div>\n",
              "<style scoped>\n",
              "    .dataframe tbody tr th:only-of-type {\n",
              "        vertical-align: middle;\n",
              "    }\n",
              "\n",
              "    .dataframe tbody tr th {\n",
              "        vertical-align: top;\n",
              "    }\n",
              "\n",
              "    .dataframe thead th {\n",
              "        text-align: right;\n",
              "    }\n",
              "</style>\n",
              "<table border=\"1\" class=\"dataframe\">\n",
              "  <thead>\n",
              "    <tr style=\"text-align: right;\">\n",
              "      <th></th>\n",
              "      <th>Unnamed: 0</th>\n",
              "      <th>name</th>\n",
              "      <th>label</th>\n",
              "      <th>tag</th>\n",
              "    </tr>\n",
              "  </thead>\n",
              "  <tbody>\n",
              "    <tr>\n",
              "      <th>0</th>\n",
              "      <td>2</td>\n",
              "      <td>ballot</td>\n",
              "      <td>ballot used for interview</td>\n",
              "      <td>omit</td>\n",
              "    </tr>\n",
              "    <tr>\n",
              "      <th>1</th>\n",
              "      <td>3</td>\n",
              "      <td>wrkstat</td>\n",
              "      <td>labor force status</td>\n",
              "      <td>work</td>\n",
              "    </tr>\n",
              "    <tr>\n",
              "      <th>2</th>\n",
              "      <td>14</td>\n",
              "      <td>age</td>\n",
              "      <td>age of respondent</td>\n",
              "      <td>demo</td>\n",
              "    </tr>\n",
              "    <tr>\n",
              "      <th>3</th>\n",
              "      <td>16</td>\n",
              "      <td>educ</td>\n",
              "      <td>highest year of school completed</td>\n",
              "      <td>social</td>\n",
              "    </tr>\n",
              "    <tr>\n",
              "      <th>4</th>\n",
              "      <td>18</td>\n",
              "      <td>maeduc</td>\n",
              "      <td>highest year school completed, mother</td>\n",
              "      <td>social</td>\n",
              "    </tr>\n",
              "  </tbody>\n",
              "</table>\n",
              "</div>\n",
              "    <div class=\"colab-df-buttons\">\n",
              "\n",
              "  <div class=\"colab-df-container\">\n",
              "    <button class=\"colab-df-convert\" onclick=\"convertToInteractive('df-ffb6b365-db06-4d3e-ab80-7afab08e7c70')\"\n",
              "            title=\"Convert this dataframe to an interactive table.\"\n",
              "            style=\"display:none;\">\n",
              "\n",
              "  <svg xmlns=\"http://www.w3.org/2000/svg\" height=\"24px\" viewBox=\"0 -960 960 960\">\n",
              "    <path d=\"M120-120v-720h720v720H120Zm60-500h600v-160H180v160Zm220 220h160v-160H400v160Zm0 220h160v-160H400v160ZM180-400h160v-160H180v160Zm440 0h160v-160H620v160ZM180-180h160v-160H180v160Zm440 0h160v-160H620v160Z\"/>\n",
              "  </svg>\n",
              "    </button>\n",
              "\n",
              "  <style>\n",
              "    .colab-df-container {\n",
              "      display:flex;\n",
              "      gap: 12px;\n",
              "    }\n",
              "\n",
              "    .colab-df-convert {\n",
              "      background-color: #E8F0FE;\n",
              "      border: none;\n",
              "      border-radius: 50%;\n",
              "      cursor: pointer;\n",
              "      display: none;\n",
              "      fill: #1967D2;\n",
              "      height: 32px;\n",
              "      padding: 0 0 0 0;\n",
              "      width: 32px;\n",
              "    }\n",
              "\n",
              "    .colab-df-convert:hover {\n",
              "      background-color: #E2EBFA;\n",
              "      box-shadow: 0px 1px 2px rgba(60, 64, 67, 0.3), 0px 1px 3px 1px rgba(60, 64, 67, 0.15);\n",
              "      fill: #174EA6;\n",
              "    }\n",
              "\n",
              "    .colab-df-buttons div {\n",
              "      margin-bottom: 4px;\n",
              "    }\n",
              "\n",
              "    [theme=dark] .colab-df-convert {\n",
              "      background-color: #3B4455;\n",
              "      fill: #D2E3FC;\n",
              "    }\n",
              "\n",
              "    [theme=dark] .colab-df-convert:hover {\n",
              "      background-color: #434B5C;\n",
              "      box-shadow: 0px 1px 3px 1px rgba(0, 0, 0, 0.15);\n",
              "      filter: drop-shadow(0px 1px 2px rgba(0, 0, 0, 0.3));\n",
              "      fill: #FFFFFF;\n",
              "    }\n",
              "  </style>\n",
              "\n",
              "    <script>\n",
              "      const buttonEl =\n",
              "        document.querySelector('#df-ffb6b365-db06-4d3e-ab80-7afab08e7c70 button.colab-df-convert');\n",
              "      buttonEl.style.display =\n",
              "        google.colab.kernel.accessAllowed ? 'block' : 'none';\n",
              "\n",
              "      async function convertToInteractive(key) {\n",
              "        const element = document.querySelector('#df-ffb6b365-db06-4d3e-ab80-7afab08e7c70');\n",
              "        const dataTable =\n",
              "          await google.colab.kernel.invokeFunction('convertToInteractive',\n",
              "                                                    [key], {});\n",
              "        if (!dataTable) return;\n",
              "\n",
              "        const docLinkHtml = 'Like what you see? Visit the ' +\n",
              "          '<a target=\"_blank\" href=https://colab.research.google.com/notebooks/data_table.ipynb>data table notebook</a>'\n",
              "          + ' to learn more about interactive tables.';\n",
              "        element.innerHTML = '';\n",
              "        dataTable['output_type'] = 'display_data';\n",
              "        await google.colab.output.renderOutput(dataTable, element);\n",
              "        const docLink = document.createElement('div');\n",
              "        docLink.innerHTML = docLinkHtml;\n",
              "        element.appendChild(docLink);\n",
              "      }\n",
              "    </script>\n",
              "  </div>\n",
              "\n",
              "\n",
              "<div id=\"df-445abef2-2355-4da7-a021-15330521c5cd\">\n",
              "  <button class=\"colab-df-quickchart\" onclick=\"quickchart('df-445abef2-2355-4da7-a021-15330521c5cd')\"\n",
              "            title=\"Suggest charts\"\n",
              "            style=\"display:none;\">\n",
              "\n",
              "<svg xmlns=\"http://www.w3.org/2000/svg\" height=\"24px\"viewBox=\"0 0 24 24\"\n",
              "     width=\"24px\">\n",
              "    <g>\n",
              "        <path d=\"M19 3H5c-1.1 0-2 .9-2 2v14c0 1.1.9 2 2 2h14c1.1 0 2-.9 2-2V5c0-1.1-.9-2-2-2zM9 17H7v-7h2v7zm4 0h-2V7h2v10zm4 0h-2v-4h2v4z\"/>\n",
              "    </g>\n",
              "</svg>\n",
              "  </button>\n",
              "\n",
              "<style>\n",
              "  .colab-df-quickchart {\n",
              "      --bg-color: #E8F0FE;\n",
              "      --fill-color: #1967D2;\n",
              "      --hover-bg-color: #E2EBFA;\n",
              "      --hover-fill-color: #174EA6;\n",
              "      --disabled-fill-color: #AAA;\n",
              "      --disabled-bg-color: #DDD;\n",
              "  }\n",
              "\n",
              "  [theme=dark] .colab-df-quickchart {\n",
              "      --bg-color: #3B4455;\n",
              "      --fill-color: #D2E3FC;\n",
              "      --hover-bg-color: #434B5C;\n",
              "      --hover-fill-color: #FFFFFF;\n",
              "      --disabled-bg-color: #3B4455;\n",
              "      --disabled-fill-color: #666;\n",
              "  }\n",
              "\n",
              "  .colab-df-quickchart {\n",
              "    background-color: var(--bg-color);\n",
              "    border: none;\n",
              "    border-radius: 50%;\n",
              "    cursor: pointer;\n",
              "    display: none;\n",
              "    fill: var(--fill-color);\n",
              "    height: 32px;\n",
              "    padding: 0;\n",
              "    width: 32px;\n",
              "  }\n",
              "\n",
              "  .colab-df-quickchart:hover {\n",
              "    background-color: var(--hover-bg-color);\n",
              "    box-shadow: 0 1px 2px rgba(60, 64, 67, 0.3), 0 1px 3px 1px rgba(60, 64, 67, 0.15);\n",
              "    fill: var(--button-hover-fill-color);\n",
              "  }\n",
              "\n",
              "  .colab-df-quickchart-complete:disabled,\n",
              "  .colab-df-quickchart-complete:disabled:hover {\n",
              "    background-color: var(--disabled-bg-color);\n",
              "    fill: var(--disabled-fill-color);\n",
              "    box-shadow: none;\n",
              "  }\n",
              "\n",
              "  .colab-df-spinner {\n",
              "    border: 2px solid var(--fill-color);\n",
              "    border-color: transparent;\n",
              "    border-bottom-color: var(--fill-color);\n",
              "    animation:\n",
              "      spin 1s steps(1) infinite;\n",
              "  }\n",
              "\n",
              "  @keyframes spin {\n",
              "    0% {\n",
              "      border-color: transparent;\n",
              "      border-bottom-color: var(--fill-color);\n",
              "      border-left-color: var(--fill-color);\n",
              "    }\n",
              "    20% {\n",
              "      border-color: transparent;\n",
              "      border-left-color: var(--fill-color);\n",
              "      border-top-color: var(--fill-color);\n",
              "    }\n",
              "    30% {\n",
              "      border-color: transparent;\n",
              "      border-left-color: var(--fill-color);\n",
              "      border-top-color: var(--fill-color);\n",
              "      border-right-color: var(--fill-color);\n",
              "    }\n",
              "    40% {\n",
              "      border-color: transparent;\n",
              "      border-right-color: var(--fill-color);\n",
              "      border-top-color: var(--fill-color);\n",
              "    }\n",
              "    60% {\n",
              "      border-color: transparent;\n",
              "      border-right-color: var(--fill-color);\n",
              "    }\n",
              "    80% {\n",
              "      border-color: transparent;\n",
              "      border-right-color: var(--fill-color);\n",
              "      border-bottom-color: var(--fill-color);\n",
              "    }\n",
              "    90% {\n",
              "      border-color: transparent;\n",
              "      border-bottom-color: var(--fill-color);\n",
              "    }\n",
              "  }\n",
              "</style>\n",
              "\n",
              "  <script>\n",
              "    async function quickchart(key) {\n",
              "      const quickchartButtonEl =\n",
              "        document.querySelector('#' + key + ' button');\n",
              "      quickchartButtonEl.disabled = true;  // To prevent multiple clicks.\n",
              "      quickchartButtonEl.classList.add('colab-df-spinner');\n",
              "      try {\n",
              "        const charts = await google.colab.kernel.invokeFunction(\n",
              "            'suggestCharts', [key], {});\n",
              "      } catch (error) {\n",
              "        console.error('Error during call to suggestCharts:', error);\n",
              "      }\n",
              "      quickchartButtonEl.classList.remove('colab-df-spinner');\n",
              "      quickchartButtonEl.classList.add('colab-df-quickchart-complete');\n",
              "    }\n",
              "    (() => {\n",
              "      let quickchartButtonEl =\n",
              "        document.querySelector('#df-445abef2-2355-4da7-a021-15330521c5cd button');\n",
              "      quickchartButtonEl.style.display =\n",
              "        google.colab.kernel.accessAllowed ? 'block' : 'none';\n",
              "    })();\n",
              "  </script>\n",
              "</div>\n",
              "    </div>\n",
              "  </div>\n"
            ],
            "application/vnd.google.colaboratory.intrinsic+json": {
              "type": "dataframe",
              "variable_name": "tagged_codebook",
              "summary": "{\n  \"name\": \"tagged_codebook\",\n  \"rows\": 287,\n  \"fields\": [\n    {\n      \"column\": \"Unnamed: 0\",\n      \"properties\": {\n        \"dtype\": \"number\",\n        \"std\": 718,\n        \"min\": 2,\n        \"max\": 2135,\n        \"num_unique_values\": 287,\n        \"samples\": [\n          35,\n          2104,\n          1514\n        ],\n        \"semantic_type\": \"\",\n        \"description\": \"\"\n      }\n    },\n    {\n      \"column\": \"name\",\n      \"properties\": {\n        \"dtype\": \"string\",\n        \"num_unique_values\": 287,\n        \"samples\": [\n          \"ratetone\",\n          \"inthisp\",\n          \"happy\"\n        ],\n        \"semantic_type\": \"\",\n        \"description\": \"\"\n      }\n    },\n    {\n      \"column\": \"label\",\n      \"properties\": {\n        \"dtype\": \"string\",\n        \"num_unique_values\": 282,\n        \"samples\": [\n          \"marital status\",\n          \"number of brothers and sisters\",\n          \"citizen attacking policeman with fists\"\n        ],\n        \"semantic_type\": \"\",\n        \"description\": \"\"\n      }\n    },\n    {\n      \"column\": \"tag\",\n      \"properties\": {\n        \"dtype\": \"category\",\n        \"num_unique_values\": 11,\n        \"samples\": [\n          \"life\",\n          \"omit\",\n          \"poli\"\n        ],\n        \"semantic_type\": \"\",\n        \"description\": \"\"\n      }\n    }\n  ]\n}"
            }
          },
          "metadata": {},
          "execution_count": 21
        }
      ],
      "source": [
        "tagged_codebook = pd.read_csv('Codebook/present-codebook-tagged.csv')\n",
        "\n",
        "tagged_codebook.drop_duplicates(subset='name', inplace=True)\n",
        "tagged_codebook.head()"
      ]
    },
    {
      "cell_type": "markdown",
      "metadata": {
        "id": "Rn0U2FJyqWwE"
      },
      "source": [
        "Now let's take a look at the distribution of tags in our present features."
      ]
    },
    {
      "cell_type": "code",
      "execution_count": null,
      "metadata": {
        "colab": {
          "base_uri": "https://localhost:8080/",
          "height": 504
        },
        "id": "LjrD_EN_qWht",
        "outputId": "895e83bc-3b55-4616-c21b-084f8065738c"
      },
      "outputs": [
        {
          "output_type": "execute_result",
          "data": {
            "text/plain": [
              "<Axes: xlabel='tag', ylabel='number of features'>"
            ]
          },
          "metadata": {},
          "execution_count": 22
        },
        {
          "output_type": "display_data",
          "data": {
            "text/plain": [
              "<Figure size 640x480 with 1 Axes>"
            ],
            "image/png": "[encoded data removed]"
          },
          "metadata": {}
        }
      ],
      "source": [
        "fig, ax = plt.subplots()\n",
        "ax.set_ylabel('number of features')\n",
        "tagged_codebook['tag'].value_counts().plot(ax=ax, kind='bar')"
      ]
    },
    {
      "cell_type": "markdown",
      "metadata": {
        "id": "gp5ONvimkPw4"
      },
      "source": [
        "One of the tags is called \"omit\", which denotes metadata about the interview itself. We'll omit those features from our analysis."
      ]
    },
    {
      "cell_type": "code",
      "execution_count": null,
      "metadata": {
        "colab": {
          "base_uri": "https://localhost:8080/"
        },
        "id": "vZuacEA_kPPc",
        "outputId": "6d2d04f2-8015-4270-f3ff-85cfdadcb2e4"
      },
      "outputs": [
        {
          "output_type": "stream",
          "name": "stdout",
          "text": [
            "(1028, 355)\n",
            "(1028, 304)\n"
          ]
        }
      ],
      "source": [
        "def is_tag(col_name, tagged_codebook, tag):\n",
        "    matches = tagged_codebook.loc[tagged_codebook['name'] == col_name]['tag']\n",
        "    if not matches.empty:\n",
        "        return matches.values[0] == tag\n",
        "    return False\n",
        "\n",
        "omitted = trimmed.drop(trimmed.columns[trimmed.apply(lambda col: is_tag(col.name, tagged_codebook, 'omit'))], axis=1)\n",
        "print(trimmed.shape)\n",
        "print(omitted.shape)\n"
      ]
    },
    {
      "cell_type": "markdown",
      "metadata": {
        "id": "dPulxC2Mqoua"
      },
      "source": [
        "Let's take a look at the omitted data set.\n",
        "\n",
        "\n",
        "\n"
      ]
    },
    {
      "cell_type": "code",
      "execution_count": null,
      "metadata": {
        "colab": {
          "base_uri": "https://localhost:8080/",
          "height": 255
        },
        "id": "z2yz4MKkqsEx",
        "outputId": "4b4cca3e-b545-42a8-c71d-9672fd393691"
      },
      "outputs": [
        {
          "output_type": "execute_result",
          "data": {
            "text/plain": [
              "       wrkstat  wrkslf  wrkgovt   occ10  prestg10  prestg105plus  indus10  \\\n",
              "62467      5.0     2.0      2.0  9640.0      22.0           13.0   4970.0   \n",
              "62469      1.0     2.0      2.0  3320.0      59.0           79.0   8190.0   \n",
              "62470      5.0     2.0      2.0    10.0      53.0           73.0   3390.0   \n",
              "62472      1.0     2.0      1.0  3600.0      48.0           50.0   7580.0   \n",
              "62473      1.0     2.0      2.0  5610.0      35.0           27.0   4970.0   \n",
              "\n",
              "       marital  sibs  childs  ...  sei10inc  inthisp  feelevel  dwellpre  \\\n",
              "62467      4.0   4.0     3.0  ...       7.8      1.0      25.0       2.0   \n",
              "62469      1.0   3.0     2.0  ...      68.4      1.0      25.0       2.0   \n",
              "62470      3.0   3.0     0.0  ...      76.4      NaN      75.0       2.0   \n",
              "62472      3.0   7.0     6.0  ...      11.3      1.0      25.0       3.0   \n",
              "62473      5.0   2.0     0.0  ...      14.5      1.0      75.0       4.0   \n",
              "\n",
              "       kidsinhh  incuspop  neisafe  rlooks  rgroomed  rweight  \n",
              "62467       2.0       2.0      1.0     3.0       3.0      2.0  \n",
              "62469       1.0       2.0      1.0     4.0       3.0      3.0  \n",
              "62470       1.0       1.0      1.0     NaN       NaN      NaN  \n",
              "62472       2.0       3.0      3.0     3.0       3.0      2.0  \n",
              "62473       2.0       2.0      2.0     3.0       3.0      4.0  \n",
              "\n",
              "[5 rows x 304 columns]"
            ],
            "text/html": [
              "\n",
              "  <div id=\"df-b6ab3d08-a51e-4b74-aa20-191ceec9c845\" class=\"colab-df-container\">\n",
              "    <div>\n",
              "<style scoped>\n",
              "    .dataframe tbody tr th:only-of-type {\n",
              "        vertical-align: middle;\n",
              "    }\n",
              "\n",
              "    .dataframe tbody tr th {\n",
              "        vertical-align: top;\n",
              "    }\n",
              "\n",
              "    .dataframe thead th {\n",
              "        text-align: right;\n",
              "    }\n",
              "</style>\n",
              "<table border=\"1\" class=\"dataframe\">\n",
              "  <thead>\n",
              "    <tr style=\"text-align: right;\">\n",
              "      <th></th>\n",
              "      <th>wrkstat</th>\n",
              "      <th>wrkslf</th>\n",
              "      <th>wrkgovt</th>\n",
              "      <th>occ10</th>\n",
              "      <th>prestg10</th>\n",
              "      <th>prestg105plus</th>\n",
              "      <th>indus10</th>\n",
              "      <th>marital</th>\n",
              "      <th>sibs</th>\n",
              "      <th>childs</th>\n",
              "      <th>...</th>\n",
              "      <th>sei10inc</th>\n",
              "      <th>inthisp</th>\n",
              "      <th>feelevel</th>\n",
              "      <th>dwellpre</th>\n",
              "      <th>kidsinhh</th>\n",
              "      <th>incuspop</th>\n",
              "      <th>neisafe</th>\n",
              "      <th>rlooks</th>\n",
              "      <th>rgroomed</th>\n",
              "      <th>rweight</th>\n",
              "    </tr>\n",
              "  </thead>\n",
              "  <tbody>\n",
              "    <tr>\n",
              "      <th>62467</th>\n",
              "      <td>5.0</td>\n",
              "      <td>2.0</td>\n",
              "      <td>2.0</td>\n",
              "      <td>9640.0</td>\n",
              "      <td>22.0</td>\n",
              "      <td>13.0</td>\n",
              "      <td>4970.0</td>\n",
              "      <td>4.0</td>\n",
              "      <td>4.0</td>\n",
              "      <td>3.0</td>\n",
              "      <td>...</td>\n",
              "      <td>7.8</td>\n",
              "      <td>1.0</td>\n",
              "      <td>25.0</td>\n",
              "      <td>2.0</td>\n",
              "      <td>2.0</td>\n",
              "      <td>2.0</td>\n",
              "      <td>1.0</td>\n",
              "      <td>3.0</td>\n",
              "      <td>3.0</td>\n",
              "      <td>2.0</td>\n",
              "    </tr>\n",
              "    <tr>\n",
              "      <th>62469</th>\n",
              "      <td>1.0</td>\n",
              "      <td>2.0</td>\n",
              "      <td>2.0</td>\n",
              "      <td>3320.0</td>\n",
              "      <td>59.0</td>\n",
              "      <td>79.0</td>\n",
              "      <td>8190.0</td>\n",
              "      <td>1.0</td>\n",
              "      <td>3.0</td>\n",
              "      <td>2.0</td>\n",
              "      <td>...</td>\n",
              "      <td>68.4</td>\n",
              "      <td>1.0</td>\n",
              "      <td>25.0</td>\n",
              "      <td>2.0</td>\n",
              "      <td>1.0</td>\n",
              "      <td>2.0</td>\n",
              "      <td>1.0</td>\n",
              "      <td>4.0</td>\n",
              "      <td>3.0</td>\n",
              "      <td>3.0</td>\n",
              "    </tr>\n",
              "    <tr>\n",
              "      <th>62470</th>\n",
              "      <td>5.0</td>\n",
              "      <td>2.0</td>\n",
              "      <td>2.0</td>\n",
              "      <td>10.0</td>\n",
              "      <td>53.0</td>\n",
              "      <td>73.0</td>\n",
              "      <td>3390.0</td>\n",
              "      <td>3.0</td>\n",
              "      <td>3.0</td>\n",
              "      <td>0.0</td>\n",
              "      <td>...</td>\n",
              "      <td>76.4</td>\n",
              "      <td>NaN</td>\n",
              "      <td>75.0</td>\n",
              "      <td>2.0</td>\n",
              "      <td>1.0</td>\n",
              "      <td>1.0</td>\n",
              "      <td>1.0</td>\n",
              "      <td>NaN</td>\n",
              "      <td>NaN</td>\n",
              "      <td>NaN</td>\n",
              "    </tr>\n",
              "    <tr>\n",
              "      <th>62472</th>\n",
              "      <td>1.0</td>\n",
              "      <td>2.0</td>\n",
              "      <td>1.0</td>\n",
              "      <td>3600.0</td>\n",
              "      <td>48.0</td>\n",
              "      <td>50.0</td>\n",
              "      <td>7580.0</td>\n",
              "      <td>3.0</td>\n",
              "      <td>7.0</td>\n",
              "      <td>6.0</td>\n",
              "      <td>...</td>\n",
              "      <td>11.3</td>\n",
              "      <td>1.0</td>\n",
              "      <td>25.0</td>\n",
              "      <td>3.0</td>\n",
              "      <td>2.0</td>\n",
              "      <td>3.0</td>\n",
              "      <td>3.0</td>\n",
              "      <td>3.0</td>\n",
              "      <td>3.0</td>\n",
              "      <td>2.0</td>\n",
              "    </tr>\n",
              "    <tr>\n",
              "      <th>62473</th>\n",
              "      <td>1.0</td>\n",
              "      <td>2.0</td>\n",
              "      <td>2.0</td>\n",
              "      <td>5610.0</td>\n",
              "      <td>35.0</td>\n",
              "      <td>27.0</td>\n",
              "      <td>4970.0</td>\n",
              "      <td>5.0</td>\n",
              "      <td>2.0</td>\n",
              "      <td>0.0</td>\n",
              "      <td>...</td>\n",
              "      <td>14.5</td>\n",
              "      <td>1.0</td>\n",
              "      <td>75.0</td>\n",
              "      <td>4.0</td>\n",
              "      <td>2.0</td>\n",
              "      <td>2.0</td>\n",
              "      <td>2.0</td>\n",
              "      <td>3.0</td>\n",
              "      <td>3.0</td>\n",
              "      <td>4.0</td>\n",
              "    </tr>\n",
              "  </tbody>\n",
              "</table>\n",
              "<p>5 rows × 304 columns</p>\n",
              "</div>\n",
              "    <div class=\"colab-df-buttons\">\n",
              "\n",
              "  <div class=\"colab-df-container\">\n",
              "    <button class=\"colab-df-convert\" onclick=\"convertToInteractive('df-b6ab3d08-a51e-4b74-aa20-191ceec9c845')\"\n",
              "            title=\"Convert this dataframe to an interactive table.\"\n",
              "            style=\"display:none;\">\n",
              "\n",
              "  <svg xmlns=\"http://www.w3.org/2000/svg\" height=\"24px\" viewBox=\"0 -960 960 960\">\n",
              "    <path d=\"M120-120v-720h720v720H120Zm60-500h600v-160H180v160Zm220 220h160v-160H400v160Zm0 220h160v-160H400v160ZM180-400h160v-160H180v160Zm440 0h160v-160H620v160ZM180-180h160v-160H180v160Zm440 0h160v-160H620v160Z\"/>\n",
              "  </svg>\n",
              "    </button>\n",
              "\n",
              "  <style>\n",
              "    .colab-df-container {\n",
              "      display:flex;\n",
              "      gap: 12px;\n",
              "    }\n",
              "\n",
              "    .colab-df-convert {\n",
              "      background-color: #E8F0FE;\n",
              "      border: none;\n",
              "      border-radius: 50%;\n",
              "      cursor: pointer;\n",
              "      display: none;\n",
              "      fill: #1967D2;\n",
              "      height: 32px;\n",
              "      padding: 0 0 0 0;\n",
              "      width: 32px;\n",
              "    }\n",
              "\n",
              "    .colab-df-convert:hover {\n",
              "      background-color: #E2EBFA;\n",
              "      box-shadow: 0px 1px 2px rgba(60, 64, 67, 0.3), 0px 1px 3px 1px rgba(60, 64, 67, 0.15);\n",
              "      fill: #174EA6;\n",
              "    }\n",
              "\n",
              "    .colab-df-buttons div {\n",
              "      margin-bottom: 4px;\n",
              "    }\n",
              "\n",
              "    [theme=dark] .colab-df-convert {\n",
              "      background-color: #3B4455;\n",
              "      fill: #D2E3FC;\n",
              "    }\n",
              "\n",
              "    [theme=dark] .colab-df-convert:hover {\n",
              "      background-color: #434B5C;\n",
              "      box-shadow: 0px 1px 3px 1px rgba(0, 0, 0, 0.15);\n",
              "      filter: drop-shadow(0px 1px 2px rgba(0, 0, 0, 0.3));\n",
              "      fill: #FFFFFF;\n",
              "    }\n",
              "  </style>\n",
              "\n",
              "    <script>\n",
              "      const buttonEl =\n",
              "        document.querySelector('#df-b6ab3d08-a51e-4b74-aa20-191ceec9c845 button.colab-df-convert');\n",
              "      buttonEl.style.display =\n",
              "        google.colab.kernel.accessAllowed ? 'block' : 'none';\n",
              "\n",
              "      async function convertToInteractive(key) {\n",
              "        const element = document.querySelector('#df-b6ab3d08-a51e-4b74-aa20-191ceec9c845');\n",
              "        const dataTable =\n",
              "          await google.colab.kernel.invokeFunction('convertToInteractive',\n",
              "                                                    [key], {});\n",
              "        if (!dataTable) return;\n",
              "\n",
              "        const docLinkHtml = 'Like what you see? Visit the ' +\n",
              "          '<a target=\"_blank\" href=https://colab.research.google.com/notebooks/data_table.ipynb>data table notebook</a>'\n",
              "          + ' to learn more about interactive tables.';\n",
              "        element.innerHTML = '';\n",
              "        dataTable['output_type'] = 'display_data';\n",
              "        await google.colab.output.renderOutput(dataTable, element);\n",
              "        const docLink = document.createElement('div');\n",
              "        docLink.innerHTML = docLinkHtml;\n",
              "        element.appendChild(docLink);\n",
              "      }\n",
              "    </script>\n",
              "  </div>\n",
              "\n",
              "\n",
              "<div id=\"df-59604ffd-e370-495c-8bb7-34288f2ea478\">\n",
              "  <button class=\"colab-df-quickchart\" onclick=\"quickchart('df-59604ffd-e370-495c-8bb7-34288f2ea478')\"\n",
              "            title=\"Suggest charts\"\n",
              "            style=\"display:none;\">\n",
              "\n",
              "<svg xmlns=\"http://www.w3.org/2000/svg\" height=\"24px\"viewBox=\"0 0 24 24\"\n",
              "     width=\"24px\">\n",
              "    <g>\n",
              "        <path d=\"M19 3H5c-1.1 0-2 .9-2 2v14c0 1.1.9 2 2 2h14c1.1 0 2-.9 2-2V5c0-1.1-.9-2-2-2zM9 17H7v-7h2v7zm4 0h-2V7h2v10zm4 0h-2v-4h2v4z\"/>\n",
              "    </g>\n",
              "</svg>\n",
              "  </button>\n",
              "\n",
              "<style>\n",
              "  .colab-df-quickchart {\n",
              "      --bg-color: #E8F0FE;\n",
              "      --fill-color: #1967D2;\n",
              "      --hover-bg-color: #E2EBFA;\n",
              "      --hover-fill-color: #174EA6;\n",
              "      --disabled-fill-color: #AAA;\n",
              "      --disabled-bg-color: #DDD;\n",
              "  }\n",
              "\n",
              "  [theme=dark] .colab-df-quickchart {\n",
              "      --bg-color: #3B4455;\n",
              "      --fill-color: #D2E3FC;\n",
              "      --hover-bg-color: #434B5C;\n",
              "      --hover-fill-color: #FFFFFF;\n",
              "      --disabled-bg-color: #3B4455;\n",
              "      --disabled-fill-color: #666;\n",
              "  }\n",
              "\n",
              "  .colab-df-quickchart {\n",
              "    background-color: var(--bg-color);\n",
              "    border: none;\n",
              "    border-radius: 50%;\n",
              "    cursor: pointer;\n",
              "    display: none;\n",
              "    fill: var(--fill-color);\n",
              "    height: 32px;\n",
              "    padding: 0;\n",
              "    width: 32px;\n",
              "  }\n",
              "\n",
              "  .colab-df-quickchart:hover {\n",
              "    background-color: var(--hover-bg-color);\n",
              "    box-shadow: 0 1px 2px rgba(60, 64, 67, 0.3), 0 1px 3px 1px rgba(60, 64, 67, 0.15);\n",
              "    fill: var(--button-hover-fill-color);\n",
              "  }\n",
              "\n",
              "  .colab-df-quickchart-complete:disabled,\n",
              "  .colab-df-quickchart-complete:disabled:hover {\n",
              "    background-color: var(--disabled-bg-color);\n",
              "    fill: var(--disabled-fill-color);\n",
              "    box-shadow: none;\n",
              "  }\n",
              "\n",
              "  .colab-df-spinner {\n",
              "    border: 2px solid var(--fill-color);\n",
              "    border-color: transparent;\n",
              "    border-bottom-color: var(--fill-color);\n",
              "    animation:\n",
              "      spin 1s steps(1) infinite;\n",
              "  }\n",
              "\n",
              "  @keyframes spin {\n",
              "    0% {\n",
              "      border-color: transparent;\n",
              "      border-bottom-color: var(--fill-color);\n",
              "      border-left-color: var(--fill-color);\n",
              "    }\n",
              "    20% {\n",
              "      border-color: transparent;\n",
              "      border-left-color: var(--fill-color);\n",
              "      border-top-color: var(--fill-color);\n",
              "    }\n",
              "    30% {\n",
              "      border-color: transparent;\n",
              "      border-left-color: var(--fill-color);\n",
              "      border-top-color: var(--fill-color);\n",
              "      border-right-color: var(--fill-color);\n",
              "    }\n",
              "    40% {\n",
              "      border-color: transparent;\n",
              "      border-right-color: var(--fill-color);\n",
              "      border-top-color: var(--fill-color);\n",
              "    }\n",
              "    60% {\n",
              "      border-color: transparent;\n",
              "      border-right-color: var(--fill-color);\n",
              "    }\n",
              "    80% {\n",
              "      border-color: transparent;\n",
              "      border-right-color: var(--fill-color);\n",
              "      border-bottom-color: var(--fill-color);\n",
              "    }\n",
              "    90% {\n",
              "      border-color: transparent;\n",
              "      border-bottom-color: var(--fill-color);\n",
              "    }\n",
              "  }\n",
              "</style>\n",
              "\n",
              "  <script>\n",
              "    async function quickchart(key) {\n",
              "      const quickchartButtonEl =\n",
              "        document.querySelector('#' + key + ' button');\n",
              "      quickchartButtonEl.disabled = true;  // To prevent multiple clicks.\n",
              "      quickchartButtonEl.classList.add('colab-df-spinner');\n",
              "      try {\n",
              "        const charts = await google.colab.kernel.invokeFunction(\n",
              "            'suggestCharts', [key], {});\n",
              "      } catch (error) {\n",
              "        console.error('Error during call to suggestCharts:', error);\n",
              "      }\n",
              "      quickchartButtonEl.classList.remove('colab-df-spinner');\n",
              "      quickchartButtonEl.classList.add('colab-df-quickchart-complete');\n",
              "    }\n",
              "    (() => {\n",
              "      let quickchartButtonEl =\n",
              "        document.querySelector('#df-59604ffd-e370-495c-8bb7-34288f2ea478 button');\n",
              "      quickchartButtonEl.style.display =\n",
              "        google.colab.kernel.accessAllowed ? 'block' : 'none';\n",
              "    })();\n",
              "  </script>\n",
              "</div>\n",
              "    </div>\n",
              "  </div>\n"
            ],
            "application/vnd.google.colaboratory.intrinsic+json": {
              "type": "dataframe",
              "variable_name": "omitted"
            }
          },
          "metadata": {},
          "execution_count": 24
        }
      ],
      "source": [
        "omitted.head()"
      ]
    },
    {
      "cell_type": "code",
      "execution_count": null,
      "metadata": {
        "colab": {
          "base_uri": "https://localhost:8080/",
          "height": 349
        },
        "id": "fMTD4hxqrGZC",
        "outputId": "6f80a251-4c1f-4434-9824-8efdac62dd26"
      },
      "outputs": [
        {
          "output_type": "execute_result",
          "data": {
            "text/plain": [
              "           wrkstat      wrkslf     wrkgovt       occ10     prestg10  \\\n",
              "count  1028.000000  1003.00000  983.000000  1003.00000  1000.000000   \n",
              "mean      2.873541     1.90329    1.803662  4238.29013    45.001000   \n",
              "std       2.269900     0.29571    0.397429  2683.61558    13.663077   \n",
              "min       1.000000     1.00000    1.000000    10.00000    16.000000   \n",
              "25%       1.000000     2.00000    2.000000  2310.00000    35.000000   \n",
              "50%       2.000000     2.00000    2.000000  4110.00000    45.000000   \n",
              "75%       5.000000     2.00000    2.000000  5810.00000    53.000000   \n",
              "max       8.000000     2.00000    2.000000  9830.00000    80.000000   \n",
              "\n",
              "       prestg105plus      indus10      marital         sibs       childs  ...  \\\n",
              "count     1000.00000  1001.000000  1027.000000  1026.000000  1028.000000  ...   \n",
              "mean        50.06600  6345.104895     2.678676     3.351852     1.753891  ...   \n",
              "std         25.96131  2704.843297     1.695069     2.582111     1.633610  ...   \n",
              "min          6.00000   170.000000     1.000000     0.000000     0.000000  ...   \n",
              "25%         27.00000  4870.000000     1.000000     1.000000     0.000000  ...   \n",
              "50%         50.00000  7390.000000     2.000000     3.000000     2.000000  ...   \n",
              "75%         73.00000  8270.000000     5.000000     5.000000     3.000000  ...   \n",
              "max         97.00000  9790.000000     5.000000    16.000000     8.000000  ...   \n",
              "\n",
              "          sei10inc      inthisp    feelevel     dwellpre     kidsinhh  \\\n",
              "count  1000.000000  1019.000000  857.000000  1028.000000  1023.000000   \n",
              "mean     43.998400     1.290481   48.691949     3.252918     1.714565   \n",
              "std      26.993762     3.086509   23.370059     2.292242     0.451842   \n",
              "min       3.200000     1.000000    1.000000     1.000000     1.000000   \n",
              "25%      18.900000     1.000000   25.000000     2.000000     1.000000   \n",
              "50%      42.100000     1.000000   50.000000     2.000000     2.000000   \n",
              "75%      67.525000     1.000000   75.000000     4.000000     2.000000   \n",
              "max      96.000000    50.000000   75.000000    10.000000     2.000000   \n",
              "\n",
              "          incuspop      neisafe      rlooks    rgroomed     rweight  \n",
              "count  1026.000000  1026.000000  921.000000  922.000000  922.000000  \n",
              "mean      2.090643     1.549708    3.326819    3.484816    2.687636  \n",
              "std       0.643595     0.684294    0.762310    0.825942    0.736838  \n",
              "min       1.000000     1.000000    1.000000    1.000000    1.000000  \n",
              "25%       2.000000     1.000000    3.000000    3.000000    2.000000  \n",
              "50%       2.000000     1.000000    3.000000    3.000000    3.000000  \n",
              "75%       3.000000     2.000000    4.000000    4.000000    3.000000  \n",
              "max       3.000000     4.000000    5.000000    5.000000    5.000000  \n",
              "\n",
              "[8 rows x 304 columns]"
            ],
            "text/html": [
              "\n",
              "  <div id=\"df-a60c0743-2c48-4d56-bd5d-0dcfd626fb8e\" class=\"colab-df-container\">\n",
              "    <div>\n",
              "<style scoped>\n",
              "    .dataframe tbody tr th:only-of-type {\n",
              "        vertical-align: middle;\n",
              "    }\n",
              "\n",
              "    .dataframe tbody tr th {\n",
              "        vertical-align: top;\n",
              "    }\n",
              "\n",
              "    .dataframe thead th {\n",
              "        text-align: right;\n",
              "    }\n",
              "</style>\n",
              "<table border=\"1\" class=\"dataframe\">\n",
              "  <thead>\n",
              "    <tr style=\"text-align: right;\">\n",
              "      <th></th>\n",
              "      <th>wrkstat</th>\n",
              "      <th>wrkslf</th>\n",
              "      <th>wrkgovt</th>\n",
              "      <th>occ10</th>\n",
              "      <th>prestg10</th>\n",
              "      <th>prestg105plus</th>\n",
              "      <th>indus10</th>\n",
              "      <th>marital</th>\n",
              "      <th>sibs</th>\n",
              "      <th>childs</th>\n",
              "      <th>...</th>\n",
              "      <th>sei10inc</th>\n",
              "      <th>inthisp</th>\n",
              "      <th>feelevel</th>\n",
              "      <th>dwellpre</th>\n",
              "      <th>kidsinhh</th>\n",
              "      <th>incuspop</th>\n",
              "      <th>neisafe</th>\n",
              "      <th>rlooks</th>\n",
              "      <th>rgroomed</th>\n",
              "      <th>rweight</th>\n",
              "    </tr>\n",
              "  </thead>\n",
              "  <tbody>\n",
              "    <tr>\n",
              "      <th>count</th>\n",
              "      <td>1028.000000</td>\n",
              "      <td>1003.00000</td>\n",
              "      <td>983.000000</td>\n",
              "      <td>1003.00000</td>\n",
              "      <td>1000.000000</td>\n",
              "      <td>1000.00000</td>\n",
              "      <td>1001.000000</td>\n",
              "      <td>1027.000000</td>\n",
              "      <td>1026.000000</td>\n",
              "      <td>1028.000000</td>\n",
              "      <td>...</td>\n",
              "      <td>1000.000000</td>\n",
              "      <td>1019.000000</td>\n",
              "      <td>857.000000</td>\n",
              "      <td>1028.000000</td>\n",
              "      <td>1023.000000</td>\n",
              "      <td>1026.000000</td>\n",
              "      <td>1026.000000</td>\n",
              "      <td>921.000000</td>\n",
              "      <td>922.000000</td>\n",
              "      <td>922.000000</td>\n",
              "    </tr>\n",
              "    <tr>\n",
              "      <th>mean</th>\n",
              "      <td>2.873541</td>\n",
              "      <td>1.90329</td>\n",
              "      <td>1.803662</td>\n",
              "      <td>4238.29013</td>\n",
              "      <td>45.001000</td>\n",
              "      <td>50.06600</td>\n",
              "      <td>6345.104895</td>\n",
              "      <td>2.678676</td>\n",
              "      <td>3.351852</td>\n",
              "      <td>1.753891</td>\n",
              "      <td>...</td>\n",
              "      <td>43.998400</td>\n",
              "      <td>1.290481</td>\n",
              "      <td>48.691949</td>\n",
              "      <td>3.252918</td>\n",
              "      <td>1.714565</td>\n",
              "      <td>2.090643</td>\n",
              "      <td>1.549708</td>\n",
              "      <td>3.326819</td>\n",
              "      <td>3.484816</td>\n",
              "      <td>2.687636</td>\n",
              "    </tr>\n",
              "    <tr>\n",
              "      <th>std</th>\n",
              "      <td>2.269900</td>\n",
              "      <td>0.29571</td>\n",
              "      <td>0.397429</td>\n",
              "      <td>2683.61558</td>\n",
              "      <td>13.663077</td>\n",
              "      <td>25.96131</td>\n",
              "      <td>2704.843297</td>\n",
              "      <td>1.695069</td>\n",
              "      <td>2.582111</td>\n",
              "      <td>1.633610</td>\n",
              "      <td>...</td>\n",
              "      <td>26.993762</td>\n",
              "      <td>3.086509</td>\n",
              "      <td>23.370059</td>\n",
              "      <td>2.292242</td>\n",
              "      <td>0.451842</td>\n",
              "      <td>0.643595</td>\n",
              "      <td>0.684294</td>\n",
              "      <td>0.762310</td>\n",
              "      <td>0.825942</td>\n",
              "      <td>0.736838</td>\n",
              "    </tr>\n",
              "    <tr>\n",
              "      <th>min</th>\n",
              "      <td>1.000000</td>\n",
              "      <td>1.00000</td>\n",
              "      <td>1.000000</td>\n",
              "      <td>10.00000</td>\n",
              "      <td>16.000000</td>\n",
              "      <td>6.00000</td>\n",
              "      <td>170.000000</td>\n",
              "      <td>1.000000</td>\n",
              "      <td>0.000000</td>\n",
              "      <td>0.000000</td>\n",
              "      <td>...</td>\n",
              "      <td>3.200000</td>\n",
              "      <td>1.000000</td>\n",
              "      <td>1.000000</td>\n",
              "      <td>1.000000</td>\n",
              "      <td>1.000000</td>\n",
              "      <td>1.000000</td>\n",
              "      <td>1.000000</td>\n",
              "      <td>1.000000</td>\n",
              "      <td>1.000000</td>\n",
              "      <td>1.000000</td>\n",
              "    </tr>\n",
              "    <tr>\n",
              "      <th>25%</th>\n",
              "      <td>1.000000</td>\n",
              "      <td>2.00000</td>\n",
              "      <td>2.000000</td>\n",
              "      <td>2310.00000</td>\n",
              "      <td>35.000000</td>\n",
              "      <td>27.00000</td>\n",
              "      <td>4870.000000</td>\n",
              "      <td>1.000000</td>\n",
              "      <td>1.000000</td>\n",
              "      <td>0.000000</td>\n",
              "      <td>...</td>\n",
              "      <td>18.900000</td>\n",
              "      <td>1.000000</td>\n",
              "      <td>25.000000</td>\n",
              "      <td>2.000000</td>\n",
              "      <td>1.000000</td>\n",
              "      <td>2.000000</td>\n",
              "      <td>1.000000</td>\n",
              "      <td>3.000000</td>\n",
              "      <td>3.000000</td>\n",
              "      <td>2.000000</td>\n",
              "    </tr>\n",
              "    <tr>\n",
              "      <th>50%</th>\n",
              "      <td>2.000000</td>\n",
              "      <td>2.00000</td>\n",
              "      <td>2.000000</td>\n",
              "      <td>4110.00000</td>\n",
              "      <td>45.000000</td>\n",
              "      <td>50.00000</td>\n",
              "      <td>7390.000000</td>\n",
              "      <td>2.000000</td>\n",
              "      <td>3.000000</td>\n",
              "      <td>2.000000</td>\n",
              "      <td>...</td>\n",
              "      <td>42.100000</td>\n",
              "      <td>1.000000</td>\n",
              "      <td>50.000000</td>\n",
              "      <td>2.000000</td>\n",
              "      <td>2.000000</td>\n",
              "      <td>2.000000</td>\n",
              "      <td>1.000000</td>\n",
              "      <td>3.000000</td>\n",
              "      <td>3.000000</td>\n",
              "      <td>3.000000</td>\n",
              "    </tr>\n",
              "    <tr>\n",
              "      <th>75%</th>\n",
              "      <td>5.000000</td>\n",
              "      <td>2.00000</td>\n",
              "      <td>2.000000</td>\n",
              "      <td>5810.00000</td>\n",
              "      <td>53.000000</td>\n",
              "      <td>73.00000</td>\n",
              "      <td>8270.000000</td>\n",
              "      <td>5.000000</td>\n",
              "      <td>5.000000</td>\n",
              "      <td>3.000000</td>\n",
              "      <td>...</td>\n",
              "      <td>67.525000</td>\n",
              "      <td>1.000000</td>\n",
              "      <td>75.000000</td>\n",
              "      <td>4.000000</td>\n",
              "      <td>2.000000</td>\n",
              "      <td>3.000000</td>\n",
              "      <td>2.000000</td>\n",
              "      <td>4.000000</td>\n",
              "      <td>4.000000</td>\n",
              "      <td>3.000000</td>\n",
              "    </tr>\n",
              "    <tr>\n",
              "      <th>max</th>\n",
              "      <td>8.000000</td>\n",
              "      <td>2.00000</td>\n",
              "      <td>2.000000</td>\n",
              "      <td>9830.00000</td>\n",
              "      <td>80.000000</td>\n",
              "      <td>97.00000</td>\n",
              "      <td>9790.000000</td>\n",
              "      <td>5.000000</td>\n",
              "      <td>16.000000</td>\n",
              "      <td>8.000000</td>\n",
              "      <td>...</td>\n",
              "      <td>96.000000</td>\n",
              "      <td>50.000000</td>\n",
              "      <td>75.000000</td>\n",
              "      <td>10.000000</td>\n",
              "      <td>2.000000</td>\n",
              "      <td>3.000000</td>\n",
              "      <td>4.000000</td>\n",
              "      <td>5.000000</td>\n",
              "      <td>5.000000</td>\n",
              "      <td>5.000000</td>\n",
              "    </tr>\n",
              "  </tbody>\n",
              "</table>\n",
              "<p>8 rows × 304 columns</p>\n",
              "</div>\n",
              "    <div class=\"colab-df-buttons\">\n",
              "\n",
              "  <div class=\"colab-df-container\">\n",
              "    <button class=\"colab-df-convert\" onclick=\"convertToInteractive('df-a60c0743-2c48-4d56-bd5d-0dcfd626fb8e')\"\n",
              "            title=\"Convert this dataframe to an interactive table.\"\n",
              "            style=\"display:none;\">\n",
              "\n",
              "  <svg xmlns=\"http://www.w3.org/2000/svg\" height=\"24px\" viewBox=\"0 -960 960 960\">\n",
              "    <path d=\"M120-120v-720h720v720H120Zm60-500h600v-160H180v160Zm220 220h160v-160H400v160Zm0 220h160v-160H400v160ZM180-400h160v-160H180v160Zm440 0h160v-160H620v160ZM180-180h160v-160H180v160Zm440 0h160v-160H620v160Z\"/>\n",
              "  </svg>\n",
              "    </button>\n",
              "\n",
              "  <style>\n",
              "    .colab-df-container {\n",
              "      display:flex;\n",
              "      gap: 12px;\n",
              "    }\n",
              "\n",
              "    .colab-df-convert {\n",
              "      background-color: #E8F0FE;\n",
              "      border: none;\n",
              "      border-radius: 50%;\n",
              "      cursor: pointer;\n",
              "      display: none;\n",
              "      fill: #1967D2;\n",
              "      height: 32px;\n",
              "      padding: 0 0 0 0;\n",
              "      width: 32px;\n",
              "    }\n",
              "\n",
              "    .colab-df-convert:hover {\n",
              "      background-color: #E2EBFA;\n",
              "      box-shadow: 0px 1px 2px rgba(60, 64, 67, 0.3), 0px 1px 3px 1px rgba(60, 64, 67, 0.15);\n",
              "      fill: #174EA6;\n",
              "    }\n",
              "\n",
              "    .colab-df-buttons div {\n",
              "      margin-bottom: 4px;\n",
              "    }\n",
              "\n",
              "    [theme=dark] .colab-df-convert {\n",
              "      background-color: #3B4455;\n",
              "      fill: #D2E3FC;\n",
              "    }\n",
              "\n",
              "    [theme=dark] .colab-df-convert:hover {\n",
              "      background-color: #434B5C;\n",
              "      box-shadow: 0px 1px 3px 1px rgba(0, 0, 0, 0.15);\n",
              "      filter: drop-shadow(0px 1px 2px rgba(0, 0, 0, 0.3));\n",
              "      fill: #FFFFFF;\n",
              "    }\n",
              "  </style>\n",
              "\n",
              "    <script>\n",
              "      const buttonEl =\n",
              "        document.querySelector('#df-a60c0743-2c48-4d56-bd5d-0dcfd626fb8e button.colab-df-convert');\n",
              "      buttonEl.style.display =\n",
              "        google.colab.kernel.accessAllowed ? 'block' : 'none';\n",
              "\n",
              "      async function convertToInteractive(key) {\n",
              "        const element = document.querySelector('#df-a60c0743-2c48-4d56-bd5d-0dcfd626fb8e');\n",
              "        const dataTable =\n",
              "          await google.colab.kernel.invokeFunction('convertToInteractive',\n",
              "                                                    [key], {});\n",
              "        if (!dataTable) return;\n",
              "\n",
              "        const docLinkHtml = 'Like what you see? Visit the ' +\n",
              "          '<a target=\"_blank\" href=https://colab.research.google.com/notebooks/data_table.ipynb>data table notebook</a>'\n",
              "          + ' to learn more about interactive tables.';\n",
              "        element.innerHTML = '';\n",
              "        dataTable['output_type'] = 'display_data';\n",
              "        await google.colab.output.renderOutput(dataTable, element);\n",
              "        const docLink = document.createElement('div');\n",
              "        docLink.innerHTML = docLinkHtml;\n",
              "        element.appendChild(docLink);\n",
              "      }\n",
              "    </script>\n",
              "  </div>\n",
              "\n",
              "\n",
              "<div id=\"df-ddfc66ee-e4c6-4c9a-86d6-e967f7066f38\">\n",
              "  <button class=\"colab-df-quickchart\" onclick=\"quickchart('df-ddfc66ee-e4c6-4c9a-86d6-e967f7066f38')\"\n",
              "            title=\"Suggest charts\"\n",
              "            style=\"display:none;\">\n",
              "\n",
              "<svg xmlns=\"http://www.w3.org/2000/svg\" height=\"24px\"viewBox=\"0 0 24 24\"\n",
              "     width=\"24px\">\n",
              "    <g>\n",
              "        <path d=\"M19 3H5c-1.1 0-2 .9-2 2v14c0 1.1.9 2 2 2h14c1.1 0 2-.9 2-2V5c0-1.1-.9-2-2-2zM9 17H7v-7h2v7zm4 0h-2V7h2v10zm4 0h-2v-4h2v4z\"/>\n",
              "    </g>\n",
              "</svg>\n",
              "  </button>\n",
              "\n",
              "<style>\n",
              "  .colab-df-quickchart {\n",
              "      --bg-color: #E8F0FE;\n",
              "      --fill-color: #1967D2;\n",
              "      --hover-bg-color: #E2EBFA;\n",
              "      --hover-fill-color: #174EA6;\n",
              "      --disabled-fill-color: #AAA;\n",
              "      --disabled-bg-color: #DDD;\n",
              "  }\n",
              "\n",
              "  [theme=dark] .colab-df-quickchart {\n",
              "      --bg-color: #3B4455;\n",
              "      --fill-color: #D2E3FC;\n",
              "      --hover-bg-color: #434B5C;\n",
              "      --hover-fill-color: #FFFFFF;\n",
              "      --disabled-bg-color: #3B4455;\n",
              "      --disabled-fill-color: #666;\n",
              "  }\n",
              "\n",
              "  .colab-df-quickchart {\n",
              "    background-color: var(--bg-color);\n",
              "    border: none;\n",
              "    border-radius: 50%;\n",
              "    cursor: pointer;\n",
              "    display: none;\n",
              "    fill: var(--fill-color);\n",
              "    height: 32px;\n",
              "    padding: 0;\n",
              "    width: 32px;\n",
              "  }\n",
              "\n",
              "  .colab-df-quickchart:hover {\n",
              "    background-color: var(--hover-bg-color);\n",
              "    box-shadow: 0 1px 2px rgba(60, 64, 67, 0.3), 0 1px 3px 1px rgba(60, 64, 67, 0.15);\n",
              "    fill: var(--button-hover-fill-color);\n",
              "  }\n",
              "\n",
              "  .colab-df-quickchart-complete:disabled,\n",
              "  .colab-df-quickchart-complete:disabled:hover {\n",
              "    background-color: var(--disabled-bg-color);\n",
              "    fill: var(--disabled-fill-color);\n",
              "    box-shadow: none;\n",
              "  }\n",
              "\n",
              "  .colab-df-spinner {\n",
              "    border: 2px solid var(--fill-color);\n",
              "    border-color: transparent;\n",
              "    border-bottom-color: var(--fill-color);\n",
              "    animation:\n",
              "      spin 1s steps(1) infinite;\n",
              "  }\n",
              "\n",
              "  @keyframes spin {\n",
              "    0% {\n",
              "      border-color: transparent;\n",
              "      border-bottom-color: var(--fill-color);\n",
              "      border-left-color: var(--fill-color);\n",
              "    }\n",
              "    20% {\n",
              "      border-color: transparent;\n",
              "      border-left-color: var(--fill-color);\n",
              "      border-top-color: var(--fill-color);\n",
              "    }\n",
              "    30% {\n",
              "      border-color: transparent;\n",
              "      border-left-color: var(--fill-color);\n",
              "      border-top-color: var(--fill-color);\n",
              "      border-right-color: var(--fill-color);\n",
              "    }\n",
              "    40% {\n",
              "      border-color: transparent;\n",
              "      border-right-color: var(--fill-color);\n",
              "      border-top-color: var(--fill-color);\n",
              "    }\n",
              "    60% {\n",
              "      border-color: transparent;\n",
              "      border-right-color: var(--fill-color);\n",
              "    }\n",
              "    80% {\n",
              "      border-color: transparent;\n",
              "      border-right-color: var(--fill-color);\n",
              "      border-bottom-color: var(--fill-color);\n",
              "    }\n",
              "    90% {\n",
              "      border-color: transparent;\n",
              "      border-bottom-color: var(--fill-color);\n",
              "    }\n",
              "  }\n",
              "</style>\n",
              "\n",
              "  <script>\n",
              "    async function quickchart(key) {\n",
              "      const quickchartButtonEl =\n",
              "        document.querySelector('#' + key + ' button');\n",
              "      quickchartButtonEl.disabled = true;  // To prevent multiple clicks.\n",
              "      quickchartButtonEl.classList.add('colab-df-spinner');\n",
              "      try {\n",
              "        const charts = await google.colab.kernel.invokeFunction(\n",
              "            'suggestCharts', [key], {});\n",
              "      } catch (error) {\n",
              "        console.error('Error during call to suggestCharts:', error);\n",
              "      }\n",
              "      quickchartButtonEl.classList.remove('colab-df-spinner');\n",
              "      quickchartButtonEl.classList.add('colab-df-quickchart-complete');\n",
              "    }\n",
              "    (() => {\n",
              "      let quickchartButtonEl =\n",
              "        document.querySelector('#df-ddfc66ee-e4c6-4c9a-86d6-e967f7066f38 button');\n",
              "      quickchartButtonEl.style.display =\n",
              "        google.colab.kernel.accessAllowed ? 'block' : 'none';\n",
              "    })();\n",
              "  </script>\n",
              "</div>\n",
              "    </div>\n",
              "  </div>\n"
            ],
            "application/vnd.google.colaboratory.intrinsic+json": {
              "type": "dataframe"
            }
          },
          "metadata": {},
          "execution_count": 25
        }
      ],
      "source": [
        "omitted.describe()"
      ]
    },
    {
      "cell_type": "markdown",
      "metadata": {
        "id": "yZk4mIA6-Roz"
      },
      "source": [
        "We impute missing values.\n",
        "We've chosen to use an iterative imputer, a multivariate imputer that estimates each feature from all the others."
      ]
    },
    {
      "cell_type": "code",
      "execution_count": null,
      "metadata": {
        "colab": {
          "base_uri": "https://localhost:8080/",
          "height": 256
        },
        "id": "DC1c08Cv-P2O",
        "outputId": "28a196f1-45b3-4468-fc8f-984a113ae62c"
      },
      "outputs": [
        {
          "output_type": "execute_result",
          "data": {
            "text/plain": [
              "   wrkstat  wrkslf  wrkgovt  occ10  prestg10  prestg105plus  indus10  marital  \\\n",
              "0        5       2        2   9640        22             13     4970        4   \n",
              "1        1       2        2   3320        59             79     8190        1   \n",
              "2        5       2        2     10        53             73     3390        3   \n",
              "3        1       2        1   3600        48             50     7580        3   \n",
              "4        1       2        2   5610        35             27     4970        5   \n",
              "\n",
              "   sibs  childs  ...  sei10inc  inthisp  feelevel  dwellpre  kidsinhh  \\\n",
              "0     4       3  ...         8        1        25         2         2   \n",
              "1     3       2  ...        68        1        25         2         1   \n",
              "2     3       0  ...        76        1        75         2         1   \n",
              "3     7       6  ...        11        1        25         3         2   \n",
              "4     2       0  ...        14        1        75         4         2   \n",
              "\n",
              "   incuspop  neisafe  rlooks  rgroomed  rweight  \n",
              "0         2        1       3         3        2  \n",
              "1         2        1       4         3        3  \n",
              "2         1        1       3         4        3  \n",
              "3         3        3       3         3        2  \n",
              "4         2        2       3         3        4  \n",
              "\n",
              "[5 rows x 304 columns]"
            ],
            "text/html": [
              "\n",
              "  <div id=\"df-d9693a02-9563-4a25-808b-85ad20910f52\" class=\"colab-df-container\">\n",
              "    <div>\n",
              "<style scoped>\n",
              "    .dataframe tbody tr th:only-of-type {\n",
              "        vertical-align: middle;\n",
              "    }\n",
              "\n",
              "    .dataframe tbody tr th {\n",
              "        vertical-align: top;\n",
              "    }\n",
              "\n",
              "    .dataframe thead th {\n",
              "        text-align: right;\n",
              "    }\n",
              "</style>\n",
              "<table border=\"1\" class=\"dataframe\">\n",
              "  <thead>\n",
              "    <tr style=\"text-align: right;\">\n",
              "      <th></th>\n",
              "      <th>wrkstat</th>\n",
              "      <th>wrkslf</th>\n",
              "      <th>wrkgovt</th>\n",
              "      <th>occ10</th>\n",
              "      <th>prestg10</th>\n",
              "      <th>prestg105plus</th>\n",
              "      <th>indus10</th>\n",
              "      <th>marital</th>\n",
              "      <th>sibs</th>\n",
              "      <th>childs</th>\n",
              "      <th>...</th>\n",
              "      <th>sei10inc</th>\n",
              "      <th>inthisp</th>\n",
              "      <th>feelevel</th>\n",
              "      <th>dwellpre</th>\n",
              "      <th>kidsinhh</th>\n",
              "      <th>incuspop</th>\n",
              "      <th>neisafe</th>\n",
              "      <th>rlooks</th>\n",
              "      <th>rgroomed</th>\n",
              "      <th>rweight</th>\n",
              "    </tr>\n",
              "  </thead>\n",
              "  <tbody>\n",
              "    <tr>\n",
              "      <th>0</th>\n",
              "      <td>5</td>\n",
              "      <td>2</td>\n",
              "      <td>2</td>\n",
              "      <td>9640</td>\n",
              "      <td>22</td>\n",
              "      <td>13</td>\n",
              "      <td>4970</td>\n",
              "      <td>4</td>\n",
              "      <td>4</td>\n",
              "      <td>3</td>\n",
              "      <td>...</td>\n",
              "      <td>8</td>\n",
              "      <td>1</td>\n",
              "      <td>25</td>\n",
              "      <td>2</td>\n",
              "      <td>2</td>\n",
              "      <td>2</td>\n",
              "      <td>1</td>\n",
              "      <td>3</td>\n",
              "      <td>3</td>\n",
              "      <td>2</td>\n",
              "    </tr>\n",
              "    <tr>\n",
              "      <th>1</th>\n",
              "      <td>1</td>\n",
              "      <td>2</td>\n",
              "      <td>2</td>\n",
              "      <td>3320</td>\n",
              "      <td>59</td>\n",
              "      <td>79</td>\n",
              "      <td>8190</td>\n",
              "      <td>1</td>\n",
              "      <td>3</td>\n",
              "      <td>2</td>\n",
              "      <td>...</td>\n",
              "      <td>68</td>\n",
              "      <td>1</td>\n",
              "      <td>25</td>\n",
              "      <td>2</td>\n",
              "      <td>1</td>\n",
              "      <td>2</td>\n",
              "      <td>1</td>\n",
              "      <td>4</td>\n",
              "      <td>3</td>\n",
              "      <td>3</td>\n",
              "    </tr>\n",
              "    <tr>\n",
              "      <th>2</th>\n",
              "      <td>5</td>\n",
              "      <td>2</td>\n",
              "      <td>2</td>\n",
              "      <td>10</td>\n",
              "      <td>53</td>\n",
              "      <td>73</td>\n",
              "      <td>3390</td>\n",
              "      <td>3</td>\n",
              "      <td>3</td>\n",
              "      <td>0</td>\n",
              "      <td>...</td>\n",
              "      <td>76</td>\n",
              "      <td>1</td>\n",
              "      <td>75</td>\n",
              "      <td>2</td>\n",
              "      <td>1</td>\n",
              "      <td>1</td>\n",
              "      <td>1</td>\n",
              "      <td>3</td>\n",
              "      <td>4</td>\n",
              "      <td>3</td>\n",
              "    </tr>\n",
              "    <tr>\n",
              "      <th>3</th>\n",
              "      <td>1</td>\n",
              "      <td>2</td>\n",
              "      <td>1</td>\n",
              "      <td>3600</td>\n",
              "      <td>48</td>\n",
              "      <td>50</td>\n",
              "      <td>7580</td>\n",
              "      <td>3</td>\n",
              "      <td>7</td>\n",
              "      <td>6</td>\n",
              "      <td>...</td>\n",
              "      <td>11</td>\n",
              "      <td>1</td>\n",
              "      <td>25</td>\n",
              "      <td>3</td>\n",
              "      <td>2</td>\n",
              "      <td>3</td>\n",
              "      <td>3</td>\n",
              "      <td>3</td>\n",
              "      <td>3</td>\n",
              "      <td>2</td>\n",
              "    </tr>\n",
              "    <tr>\n",
              "      <th>4</th>\n",
              "      <td>1</td>\n",
              "      <td>2</td>\n",
              "      <td>2</td>\n",
              "      <td>5610</td>\n",
              "      <td>35</td>\n",
              "      <td>27</td>\n",
              "      <td>4970</td>\n",
              "      <td>5</td>\n",
              "      <td>2</td>\n",
              "      <td>0</td>\n",
              "      <td>...</td>\n",
              "      <td>14</td>\n",
              "      <td>1</td>\n",
              "      <td>75</td>\n",
              "      <td>4</td>\n",
              "      <td>2</td>\n",
              "      <td>2</td>\n",
              "      <td>2</td>\n",
              "      <td>3</td>\n",
              "      <td>3</td>\n",
              "      <td>4</td>\n",
              "    </tr>\n",
              "  </tbody>\n",
              "</table>\n",
              "<p>5 rows × 304 columns</p>\n",
              "</div>\n",
              "    <div class=\"colab-df-buttons\">\n",
              "\n",
              "  <div class=\"colab-df-container\">\n",
              "    <button class=\"colab-df-convert\" onclick=\"convertToInteractive('df-d9693a02-9563-4a25-808b-85ad20910f52')\"\n",
              "            title=\"Convert this dataframe to an interactive table.\"\n",
              "            style=\"display:none;\">\n",
              "\n",
              "  <svg xmlns=\"http://www.w3.org/2000/svg\" height=\"24px\" viewBox=\"0 -960 960 960\">\n",
              "    <path d=\"M120-120v-720h720v720H120Zm60-500h600v-160H180v160Zm220 220h160v-160H400v160Zm0 220h160v-160H400v160ZM180-400h160v-160H180v160Zm440 0h160v-160H620v160ZM180-180h160v-160H180v160Zm440 0h160v-160H620v160Z\"/>\n",
              "  </svg>\n",
              "    </button>\n",
              "\n",
              "  <style>\n",
              "    .colab-df-container {\n",
              "      display:flex;\n",
              "      gap: 12px;\n",
              "    }\n",
              "\n",
              "    .colab-df-convert {\n",
              "      background-color: #E8F0FE;\n",
              "      border: none;\n",
              "      border-radius: 50%;\n",
              "      cursor: pointer;\n",
              "      display: none;\n",
              "      fill: #1967D2;\n",
              "      height: 32px;\n",
              "      padding: 0 0 0 0;\n",
              "      width: 32px;\n",
              "    }\n",
              "\n",
              "    .colab-df-convert:hover {\n",
              "      background-color: #E2EBFA;\n",
              "      box-shadow: 0px 1px 2px rgba(60, 64, 67, 0.3), 0px 1px 3px 1px rgba(60, 64, 67, 0.15);\n",
              "      fill: #174EA6;\n",
              "    }\n",
              "\n",
              "    .colab-df-buttons div {\n",
              "      margin-bottom: 4px;\n",
              "    }\n",
              "\n",
              "    [theme=dark] .colab-df-convert {\n",
              "      background-color: #3B4455;\n",
              "      fill: #D2E3FC;\n",
              "    }\n",
              "\n",
              "    [theme=dark] .colab-df-convert:hover {\n",
              "      background-color: #434B5C;\n",
              "      box-shadow: 0px 1px 3px 1px rgba(0, 0, 0, 0.15);\n",
              "      filter: drop-shadow(0px 1px 2px rgba(0, 0, 0, 0.3));\n",
              "      fill: #FFFFFF;\n",
              "    }\n",
              "  </style>\n",
              "\n",
              "    <script>\n",
              "      const buttonEl =\n",
              "        document.querySelector('#df-d9693a02-9563-4a25-808b-85ad20910f52 button.colab-df-convert');\n",
              "      buttonEl.style.display =\n",
              "        google.colab.kernel.accessAllowed ? 'block' : 'none';\n",
              "\n",
              "      async function convertToInteractive(key) {\n",
              "        const element = document.querySelector('#df-d9693a02-9563-4a25-808b-85ad20910f52');\n",
              "        const dataTable =\n",
              "          await google.colab.kernel.invokeFunction('convertToInteractive',\n",
              "                                                    [key], {});\n",
              "        if (!dataTable) return;\n",
              "\n",
              "        const docLinkHtml = 'Like what you see? Visit the ' +\n",
              "          '<a target=\"_blank\" href=https://colab.research.google.com/notebooks/data_table.ipynb>data table notebook</a>'\n",
              "          + ' to learn more about interactive tables.';\n",
              "        element.innerHTML = '';\n",
              "        dataTable['output_type'] = 'display_data';\n",
              "        await google.colab.output.renderOutput(dataTable, element);\n",
              "        const docLink = document.createElement('div');\n",
              "        docLink.innerHTML = docLinkHtml;\n",
              "        element.appendChild(docLink);\n",
              "      }\n",
              "    </script>\n",
              "  </div>\n",
              "\n",
              "\n",
              "<div id=\"df-4b74eadf-af14-4caf-9d9b-25747db8961f\">\n",
              "  <button class=\"colab-df-quickchart\" onclick=\"quickchart('df-4b74eadf-af14-4caf-9d9b-25747db8961f')\"\n",
              "            title=\"Suggest charts\"\n",
              "            style=\"display:none;\">\n",
              "\n",
              "<svg xmlns=\"http://www.w3.org/2000/svg\" height=\"24px\"viewBox=\"0 0 24 24\"\n",
              "     width=\"24px\">\n",
              "    <g>\n",
              "        <path d=\"M19 3H5c-1.1 0-2 .9-2 2v14c0 1.1.9 2 2 2h14c1.1 0 2-.9 2-2V5c0-1.1-.9-2-2-2zM9 17H7v-7h2v7zm4 0h-2V7h2v10zm4 0h-2v-4h2v4z\"/>\n",
              "    </g>\n",
              "</svg>\n",
              "  </button>\n",
              "\n",
              "<style>\n",
              "  .colab-df-quickchart {\n",
              "      --bg-color: #E8F0FE;\n",
              "      --fill-color: #1967D2;\n",
              "      --hover-bg-color: #E2EBFA;\n",
              "      --hover-fill-color: #174EA6;\n",
              "      --disabled-fill-color: #AAA;\n",
              "      --disabled-bg-color: #DDD;\n",
              "  }\n",
              "\n",
              "  [theme=dark] .colab-df-quickchart {\n",
              "      --bg-color: #3B4455;\n",
              "      --fill-color: #D2E3FC;\n",
              "      --hover-bg-color: #434B5C;\n",
              "      --hover-fill-color: #FFFFFF;\n",
              "      --disabled-bg-color: #3B4455;\n",
              "      --disabled-fill-color: #666;\n",
              "  }\n",
              "\n",
              "  .colab-df-quickchart {\n",
              "    background-color: var(--bg-color);\n",
              "    border: none;\n",
              "    border-radius: 50%;\n",
              "    cursor: pointer;\n",
              "    display: none;\n",
              "    fill: var(--fill-color);\n",
              "    height: 32px;\n",
              "    padding: 0;\n",
              "    width: 32px;\n",
              "  }\n",
              "\n",
              "  .colab-df-quickchart:hover {\n",
              "    background-color: var(--hover-bg-color);\n",
              "    box-shadow: 0 1px 2px rgba(60, 64, 67, 0.3), 0 1px 3px 1px rgba(60, 64, 67, 0.15);\n",
              "    fill: var(--button-hover-fill-color);\n",
              "  }\n",
              "\n",
              "  .colab-df-quickchart-complete:disabled,\n",
              "  .colab-df-quickchart-complete:disabled:hover {\n",
              "    background-color: var(--disabled-bg-color);\n",
              "    fill: var(--disabled-fill-color);\n",
              "    box-shadow: none;\n",
              "  }\n",
              "\n",
              "  .colab-df-spinner {\n",
              "    border: 2px solid var(--fill-color);\n",
              "    border-color: transparent;\n",
              "    border-bottom-color: var(--fill-color);\n",
              "    animation:\n",
              "      spin 1s steps(1) infinite;\n",
              "  }\n",
              "\n",
              "  @keyframes spin {\n",
              "    0% {\n",
              "      border-color: transparent;\n",
              "      border-bottom-color: var(--fill-color);\n",
              "      border-left-color: var(--fill-color);\n",
              "    }\n",
              "    20% {\n",
              "      border-color: transparent;\n",
              "      border-left-color: var(--fill-color);\n",
              "      border-top-color: var(--fill-color);\n",
              "    }\n",
              "    30% {\n",
              "      border-color: transparent;\n",
              "      border-left-color: var(--fill-color);\n",
              "      border-top-color: var(--fill-color);\n",
              "      border-right-color: var(--fill-color);\n",
              "    }\n",
              "    40% {\n",
              "      border-color: transparent;\n",
              "      border-right-color: var(--fill-color);\n",
              "      border-top-color: var(--fill-color);\n",
              "    }\n",
              "    60% {\n",
              "      border-color: transparent;\n",
              "      border-right-color: var(--fill-color);\n",
              "    }\n",
              "    80% {\n",
              "      border-color: transparent;\n",
              "      border-right-color: var(--fill-color);\n",
              "      border-bottom-color: var(--fill-color);\n",
              "    }\n",
              "    90% {\n",
              "      border-color: transparent;\n",
              "      border-bottom-color: var(--fill-color);\n",
              "    }\n",
              "  }\n",
              "</style>\n",
              "\n",
              "  <script>\n",
              "    async function quickchart(key) {\n",
              "      const quickchartButtonEl =\n",
              "        document.querySelector('#' + key + ' button');\n",
              "      quickchartButtonEl.disabled = true;  // To prevent multiple clicks.\n",
              "      quickchartButtonEl.classList.add('colab-df-spinner');\n",
              "      try {\n",
              "        const charts = await google.colab.kernel.invokeFunction(\n",
              "            'suggestCharts', [key], {});\n",
              "      } catch (error) {\n",
              "        console.error('Error during call to suggestCharts:', error);\n",
              "      }\n",
              "      quickchartButtonEl.classList.remove('colab-df-spinner');\n",
              "      quickchartButtonEl.classList.add('colab-df-quickchart-complete');\n",
              "    }\n",
              "    (() => {\n",
              "      let quickchartButtonEl =\n",
              "        document.querySelector('#df-4b74eadf-af14-4caf-9d9b-25747db8961f button');\n",
              "      quickchartButtonEl.style.display =\n",
              "        google.colab.kernel.accessAllowed ? 'block' : 'none';\n",
              "    })();\n",
              "  </script>\n",
              "</div>\n",
              "\n",
              "    </div>\n",
              "  </div>\n"
            ],
            "application/vnd.google.colaboratory.intrinsic+json": {
              "type": "dataframe",
              "variable_name": "omitted_imputed"
            }
          },
          "metadata": {},
          "execution_count": 5
        }
      ],
      "source": [
        "from sklearn.experimental import enable_iterative_imputer\n",
        "from sklearn.impute import IterativeImputer\n",
        "\n",
        "omitted_imputed = pd.read_csv('omitted_imputed.csv').drop('Unnamed: 0', axis=1) # storage\n",
        "\n",
        "omitted_imputed.head()\n"
      ]
    },
    {
      "cell_type": "markdown",
      "metadata": {
        "id": "mdgv3QC7mlQS"
      },
      "source": [
        "We recode one of the features, `partyid`, which was originally on a finer grained ordinal scale, to be a feature with only 4 categories."
      ]
    },
    {
      "cell_type": "code",
      "execution_count": null,
      "metadata": {
        "id": "xAWYXYv0DGp9"
      },
      "outputs": [],
      "source": [
        "omitted_imputed.replace({\n",
        "    'partyid': {\n",
        "        0: 0, # democrat\n",
        "        1: 0,\n",
        "        2: 0,\n",
        "        3: 1, # independent\n",
        "        4: 2, # republican\n",
        "        5: 2,\n",
        "        6: 2,\n",
        "        7: 3 # other\n",
        "    },\n",
        "    'income': { # 12 is the max income value\n",
        "        13: 12\n",
        "    }\n",
        "}, inplace=True)\n",
        "\n",
        "omitted_imputed['partyid']"
      ]
    },
    {
      "cell_type": "markdown",
      "metadata": {
        "id": "NN7NQ-UjsqK_"
      },
      "source": [
        "We also recode 3 other features. `abmoral` (moral opposition to abortion) is recoded so that the moderate view is in the middle. `courts` (do courts deal too harshly or not harshly enough with criminals?) is also recoded for that purpose. `racecen1` is recoded so that Asians and Pacific Islanders are aggregated into 2 single categories so that the categories are only white, black, native, Asian, Pacific Islander, Hispanic, and other."
      ]
    },
    {
      "cell_type": "code",
      "execution_count": null,
      "metadata": {
        "id": "60sSX16vEEks"
      },
      "outputs": [],
      "source": [
        "print(omitted_imputed[['abmoral', 'courts', 'racecen1']])\n",
        "\n",
        "omitted_imputed.replace({\n",
        "    'abmoral': { # 1: morally opposed, 2: it depends, 3: not morally opposed\n",
        "        3: 2,\n",
        "        2: 3\n",
        "    },\n",
        "    'courts': { # 1: too harshly, 2: about right, 3: not harshly enough\n",
        "        3: 2,\n",
        "        2: 3\n",
        "    }\n",
        "}, inplace=True)\n",
        "\n",
        "omitted_imputed.replace({\n",
        "    'racecen1': {\n",
        "        5: 4, 6: 4, 7: 4, 8: 4, 9: 4, 10: 4, # aggregate all Asians\n",
        "        11: 14, 12:14, 13: 14                # aggregate all pacific islanders\n",
        "    }\n",
        "}, inplace=True)\n",
        "\n",
        "print(omitted_imputed[['abmoral', 'courts', 'racecen1']])"
      ]
    },
    {
      "cell_type": "markdown",
      "metadata": {
        "id": "eoU8rFyqJZzS"
      },
      "source": [
        "The industry code `indus10` is based on the 2017 census industry code list. It is currently too fine-grained (has too many categories), so we aggregate them into their 14 super-categories based on the information located [here (Census 2017 Industry Code List with Crosswalk)](https://www.census.gov/topics/employment/industry-occupation/guidance/code-lists.html).\n",
        "\n",
        "This is to reduce the cardinality of `indus10` values to avoid a sparse matrix. It also creates some meaning, as similar industry jobs will be associated with one another by sharing a super-category.\n",
        "\n"
      ]
    },
    {
      "cell_type": "code",
      "execution_count": null,
      "metadata": {
        "id": "_6twbT6OJZX7"
      },
      "outputs": [],
      "source": [
        "print(omitted_imputed['indus10'])\n",
        "\n",
        "super_categories = {\n",
        "    'Agriculture, Forestry, Fishing, and Hunting': range(170, 490),\n",
        "    'Construction': range(770, 770),\n",
        "    'Manufacturing': range(1070, 3990),\n",
        "    'Wholesale Trade': range(4070, 4590),\n",
        "    'Retail Trade': range(4670, 5790),\n",
        "    'Transportation and Warehousing, and Utilities': range(6070, 6390),\n",
        "    'Information': range(6470, 6780),\n",
        "    'Finance and Insurance, and Real Estate and Rental and Leasing': range(6870, 7190),\n",
        "    'Professional, Scientific, and Management, and Administrative': range(7270, 7790),\n",
        "    'Educational Services, and Health Care and Social Assistance': range(7860, 8470),\n",
        "    'Arts, Entertainment, and Recreation, and Accommodation and Food Services': range(8561, 8690),\n",
        "    'Other Services, Except Public Administration': range(8770, 9290),\n",
        "    'Public Administration': range(9370, 9590),\n",
        "    'Military': range(9670, 9870),\n",
        "}\n",
        "\n",
        "def map_to_super_category(industry_code):\n",
        "    for super_category, codes in super_categories.items():\n",
        "        if industry_code in codes:\n",
        "            return super_category\n",
        "    return 'Other'\n",
        "\n",
        "omitted_imputed['indus10'] = omitted_imputed['indus10'].apply(map_to_super_category)\n",
        "\n",
        "print(omitted_imputed['indus10'])"
      ]
    },
    {
      "cell_type": "markdown",
      "metadata": {
        "id": "c85Uz6vrvBhO"
      },
      "source": [
        "### Data Exploration"
      ]
    },
    {
      "cell_type": "markdown",
      "metadata": {
        "id": "_Mwn82XBqhiU"
      },
      "source": [
        "Let's make a correlation matrix to see what variables in our data are most correlated/associated with one another."
      ]
    },
    {
      "cell_type": "code",
      "execution_count": null,
      "metadata": {
        "id": "kspPYr9us5O6",
        "outputId": "0b100454-5a57-4c93-df02-78ab8bb846de",
        "colab": {
          "base_uri": "https://localhost:8080/",
          "height": 251
        }
      },
      "outputs": [
        {
          "output_type": "error",
          "ename": "NameError",
          "evalue": "name 'omitted_imputed' is not defined",
          "traceback": [
            "\u001b[0;31m---------------------------------------------------------------------------\u001b[0m",
            "\u001b[0;31mNameError\u001b[0m                                 Traceback (most recent call last)",
            "\u001b[0;32m<ipython-input-1-c2e0d8d6b981>\u001b[0m in \u001b[0;36m<cell line: 3>\u001b[0;34m()\u001b[0m\n\u001b[1;32m      1\u001b[0m \u001b[0;32mimport\u001b[0m \u001b[0mseaborn\u001b[0m \u001b[0;32mas\u001b[0m \u001b[0msns\u001b[0m\u001b[0;34m\u001b[0m\u001b[0;34m\u001b[0m\u001b[0m\n\u001b[1;32m      2\u001b[0m \u001b[0;34m\u001b[0m\u001b[0m\n\u001b[0;32m----> 3\u001b[0;31m \u001b[0mnumeric_data\u001b[0m \u001b[0;34m=\u001b[0m \u001b[0momitted_imputed\u001b[0m\u001b[0;34m.\u001b[0m\u001b[0mselect_dtypes\u001b[0m\u001b[0;34m(\u001b[0m\u001b[0minclude\u001b[0m\u001b[0;34m=\u001b[0m\u001b[0;34m[\u001b[0m\u001b[0mnp\u001b[0m\u001b[0;34m.\u001b[0m\u001b[0mnumber\u001b[0m\u001b[0;34m]\u001b[0m\u001b[0;34m)\u001b[0m\u001b[0;34m\u001b[0m\u001b[0;34m\u001b[0m\u001b[0m\n\u001b[0m\u001b[1;32m      4\u001b[0m \u001b[0mcorrelation_matrix\u001b[0m \u001b[0;34m=\u001b[0m \u001b[0mnumeric_data\u001b[0m\u001b[0;34m.\u001b[0m\u001b[0mcorr\u001b[0m\u001b[0;34m(\u001b[0m\u001b[0;34m)\u001b[0m\u001b[0;34m\u001b[0m\u001b[0;34m\u001b[0m\u001b[0m\n\u001b[1;32m      5\u001b[0m \u001b[0;34m\u001b[0m\u001b[0m\n",
            "\u001b[0;31mNameError\u001b[0m: name 'omitted_imputed' is not defined"
          ]
        }
      ],
      "source": [
        "import seaborn as sns\n",
        "\n",
        "numeric_data = omitted_imputed.select_dtypes(include=[np.number])\n",
        "correlation_matrix = numeric_data.corr()\n",
        "\n",
        "most_correlated = correlation_matrix.columns[((correlation_matrix.abs() >= 0.85) & (correlation_matrix.abs() < 1)).any()]\n",
        "plt.title('Correlation Matrix for Numeric Variables in Trimmed Dataset with Correlation Coefficient >= 0.85')\n",
        "sns.heatmap(omitted_imputed[most_correlated].corr(), annot=False, cmap='coolwarm')\n",
        "plt.show()"
      ]
    },
    {
      "cell_type": "markdown",
      "metadata": {
        "id": "jK2eGMmNnO6o"
      },
      "source": [
        "Because our dataset has so many variables, we decided to only plot the most correlated ones, those with a correlation coefficient of more than 0.85, and those not perfectly correlated on the matrix for better readability. As you can see some of the most correlated features include education/degree level and occupational prestige score, education/degree level and socieoeconomic index, occupational presitge and socieoecnomic index, and occupational code and socieconomic index. All of these correlations seem accurate and unsurprising given the clear relationships between the variables. It is however interesting that none of the responses to political beliefs shared any strong correlations. ###### not sure if this is right/i'm interepreting this correctly."
      ]
    },
    {
      "cell_type": "markdown",
      "metadata": {
        "id": "7X0yV-KOm362"
      },
      "source": [
        "Let's see the distribution of `partyid` in our current dataset. According to the graph, most most respondents are more skewed to the left with the least number of respondents affiliated with a party other than democrat, republican, or independent."
      ]
    },
    {
      "cell_type": "code",
      "execution_count": null,
      "metadata": {
        "id": "YFOGor-eu2i0"
      },
      "outputs": [],
      "source": [
        "fig, ax = plt.subplots()\n",
        "ax.set_ylabel('Frequency')\n",
        "omitted_imputed['partyid'].value_counts().sort_index().plot(ax=ax, kind='bar')\n",
        "ax.set_xticklabels(labels=['democrat', 'independent', 'republican', 'other'])"
      ]
    },
    {
      "cell_type": "markdown",
      "metadata": {
        "id": "5HolVRT7xfcO"
      },
      "source": [
        "We also thought it might be interesting to explore the distribution of political affiliation across a select few demographic groups."
      ]
    },
    {
      "cell_type": "code",
      "source": [
        "import matplotlib.pyplot as plt\n",
        "demographic_features = {\n",
        "    'sex': ['female', 'male'],\n",
        "    'race': ['white', 'black', 'other'],\n",
        "    'region': ['new england', 'middle atlantic', 'east north central', 'west north central', 'south atlantic', 'east south atlantic', 'west south central', 'mountain', 'pacific'],\n",
        "    'income': ['< $1k', '$1-3k', '$3-4k', '$4-5k', '$5-6k', '$6-7k', '$7-8k', '$8-10k', '$10-15k', '$15-20k', '$20-25k', '> $25k'],\n",
        "    'sexornt': ['heterosexual', 'bisexual', 'homosexual'] # TODO: i think this labeling is backwards\n",
        "}\n",
        "\n",
        "\n",
        "for feature, values in demographic_features.items():\n",
        "  counts = omitted_imputed.groupby([feature])['partyid'].value_counts().sort_index(axis=0)\n",
        "  ax = counts.unstack().plot(kind='bar', title=feature)\n",
        "  ax.set_xticklabels(values)\n",
        "  ax.legend(labels=['democrat', 'independent', 'republican', 'other'])\n",
        "\n"
      ],
      "metadata": {
        "id": "e1KKqzs8GJAQ"
      },
      "execution_count": null,
      "outputs": []
    },
    {
      "cell_type": "code",
      "source": [
        "# stacked histogram of age and partyid\n",
        "\n",
        "import seaborn as sns\n",
        "\n",
        "demographic_features = ['age', 'sex', 'race', 'region', 'income', 'sexornt']\n",
        "fig, axes = plt.subplots()\n",
        "sns.histplot(data=omitted_imputed, x=omitted_imputed['age'], hue='partyid', multiple='stack', ax=axes)\n",
        "axes.set_xlabel('age')\n",
        "axes.set_ylabel('Frequency')\n",
        "axes.legend(labels=['other', 'republican', 'independent', 'democrat'])\n",
        "plt.show()\n"
      ],
      "metadata": {
        "id": "AHiLvfJYPbyV"
      },
      "execution_count": null,
      "outputs": []
    },
    {
      "cell_type": "markdown",
      "metadata": {
        "id": "jHaSj1_Y7vV7"
      },
      "source": [
        "From these graphs, we see that between the ages of 20 - 50, the proportion of respondents that identify as democrats are higher than the proportion of respondents that identify as republican. While at age 65, there is a higher proportion of democratic respondents versus republican respondents, most age groups above 60 have relatively even split between republican and democratic respondents."
      ]
    },
    {
      "cell_type": "markdown",
      "metadata": {
        "id": "xHduihIL6QAV"
      },
      "source": [
        "Heat Maps\n",
        "\n",
        "Political and Social Beliefs: Variables like polviews, partyid, abmoral, cappun, polhitok, etc., can be grouped to see how political affiliations correlate with views on controversial topics.\n",
        "\n",
        "Societal Views and Personal Behaviors: Including variables like grass (marijuana legalization), pornlaw, eqwlth (government should reduce income differences), and helpfrds to see how societal views correlate with personal moral and ethical standards."
      ]
    },
    {
      "cell_type": "code",
      "execution_count": null,
      "metadata": {
        "id": "sq-X_oge6PzT"
      },
      "outputs": [],
      "source": [
        "import seaborn as sns\n",
        "\n",
        "#heatmap for political and social beliefs\n",
        "pol_social_columns = omitted_imputed[['polviews', 'abmoral', 'cappun', 'polhitok']]\n",
        "pol_social_corr = pol_social_columns.corr()\n",
        "\n",
        "#heatmap\n",
        "plt.figure(figsize=(10, 8))\n",
        "sns.heatmap(pol_social_corr, annot=True, cmap='coolwarm', fmt=\".2f\", linewidths=.5)\n",
        "plt.title('Heatmap of Political and Social Beliefs')\n",
        "plt.show()"
      ]
    },
    {
      "cell_type": "code",
      "execution_count": null,
      "metadata": {
        "id": "p6kAKDYE6MM2"
      },
      "outputs": [],
      "source": [
        "#societal views and personal behaviors\n",
        "societal_behavior_columns = omitted_imputed[['grass', 'pornlaw', 'eqwlth', 'helpfrds']]\n",
        "societal_behavior_corr = societal_behavior_columns.corr()\n",
        "\n",
        "plt.figure(figsize=(10, 8))\n",
        "sns.heatmap(societal_behavior_corr, annot=True, cmap='coolwarm', fmt=\".2f\", linewidths=.5)\n",
        "plt.title('Heatmap of Societal Views and Personal Behaviors')\n",
        "plt.show()"
      ]
    },
    {
      "cell_type": "code",
      "execution_count": null,
      "metadata": {
        "id": "pXSFwFHXHG1r"
      },
      "outputs": [],
      "source": [
        "# some functions for feature selection\n",
        "\n",
        "def is_tag(col_name, tagged_codebook, tag):\n",
        "  return (tagged_codebook.loc[tagged_codebook['name'] == col_name]['tag']).values[0] == tag\n",
        "\n",
        "def get_codebook_info(col_name, category):\n",
        "  codebook_entry = tagged_codebook.loc[tagged_codebook['name'] == col_name]\n",
        "  if (codebook_entry.empty):\n",
        "    return None\n",
        "  else:\n",
        "    return codebook_entry[category].values[0]\n",
        "\n",
        "def is_not_category(col_name, category, category_to_keep):\n",
        "  result = get_codebook_info(col_name, category)\n",
        "  return (result != category_to_keep)\n",
        "\n",
        "def keep_column(df, category, category_to_keep):\n",
        "  return df.drop(df.columns[df.apply(lambda col: is_not_category(col.name, category, category_to_keep))], axis=1)\n",
        "\n",
        "def is_not_tag(col_name, tagged_codebook, tag):\n",
        "  return is_not_category(col_name, 'tag', tag)\n",
        "\n",
        "def is_categorical(col_name, tagged_codebook):\n",
        "    return get_codebook_info(col_name, 'encode') == 'Y'"
      ]
    },
    {
      "cell_type": "markdown",
      "metadata": {
        "id": "3qvAhrClCFNM"
      },
      "source": [
        "Next we wanted to look at the distribution of features we have determined are political in nature."
      ]
    },
    {
      "cell_type": "code",
      "execution_count": null,
      "metadata": {
        "id": "Fjw35eaYCGvG"
      },
      "outputs": [],
      "source": [
        "poli_data = keep_column(omitted_imputed, 'tag', 'poli')\n",
        "\n",
        "for feature in poli_data:\n",
        "  # poli_data[feature].plot(kind='bar', title='answers for {} ({})'.format(feature, (tagged_codebook.loc[tagged_codebook['name']==feature])[\"label\"].values[0]))\n",
        "  # plt.show()\n",
        "  counts = omitted_imputed[feature].value_counts().sort_index(axis=0)\n",
        "  ax = counts.plot(kind='bar', title=feature)\n",
        "  plt.show()\n",
        "  # ax.set_xticklabels(values)\n",
        "  # ax.legend(labels=['democrat', 'independent', 'republican', 'other'])\n"
      ]
    },
    {
      "cell_type": "markdown",
      "metadata": {
        "id": "WU7urvjh-Vdq"
      },
      "source": [
        "To calculate clustering tendency, we are calculating the Hopkins statistic. A value close to 0.5 suggests randomness, close to 0 indicates regularly-spaced data, and close to 1 indicates high clustering potential."
      ]
    },
    {
      "cell_type": "markdown",
      "metadata": {
        "id": "2KhD0nFv1Emf"
      },
      "source": [
        "We calculate the Hopkins Statistic of the entire dataset as well as only the political data."
      ]
    },
    {
      "cell_type": "code",
      "execution_count": null,
      "metadata": {
        "id": "fB1_umBW-XCE"
      },
      "outputs": [],
      "source": [
        "def hopkins_statistic(data):\n",
        "    rows, cols = data.shape\n",
        "    neighbors = NearestNeighbors(n_neighbors=1).fit(data)\n",
        "\n",
        "    m = int(0.2 * rows)\n",
        "    random_points = pd.DataFrame(np.random.uniform(data.min(axis=0), data.max(axis=0), (m, cols)), columns=data.columns)\n",
        "\n",
        "    randDistances_ = neighbors.kneighbors(random_points, n_neighbors=1)\n",
        "    randSum = randDistances_[1].sum()\n",
        "\n",
        "    #sampling m actual data points\n",
        "    shuffled_data = shuffle(data, random_state=0)\n",
        "    sample = shuffled_data.iloc[:m]\n",
        "\n",
        "    pointDistances = neighbors.kneighbors(sample, n_neighbors=1)\n",
        "    pointsSum = pointDistances[1].sum()\n",
        "    hopkins = randSum / (randSum + pointsSum)\n",
        "    return hopkins\n",
        "\n",
        "print(\"Hopkins Statistic:\", hopkins_statistic(pd.get_dummies(omitted_imputed)))"
      ]
    },
    {
      "cell_type": "code",
      "execution_count": null,
      "metadata": {
        "id": "BoCk6hrF-d1_"
      },
      "outputs": [],
      "source": [
        "poli_data = omitted_imputed.drop(omitted_imputed.columns[omitted_imputed.apply(lambda col: is_not_tag(col.name, tagged_codebook, 'poli'))], axis=1)\n",
        "print(\"Hopkins Statistic:\", hopkins_statistic(poli_data))"
      ]
    },
    {
      "cell_type": "markdown",
      "metadata": {
        "id": "49C8JIRq-kvZ"
      },
      "source": [
        "Both Hopkins Statistics indicate that the data does not have a high clustering tendency and that meaningful clusters will likely not be formed."
      ]
    },
    {
      "cell_type": "markdown",
      "metadata": {
        "id": "XhMfyudlcbfA"
      },
      "source": [
        "# Clustering"
      ]
    },
    {
      "cell_type": "markdown",
      "metadata": {
        "id": "aYrVBJ6m0qFo"
      },
      "source": [
        "For completeness and out of curiosity, we tried one clustering with a K-means algorithm and DBSCAN."
      ]
    },
    {
      "cell_type": "markdown",
      "source": [
        "We are looking to see what clusters we can find from K-means."
      ],
      "metadata": {
        "id": "mD6BV9LFBKIb"
      }
    },
    {
      "cell_type": "code",
      "source": [
        "from sklearn.cluster import KMeans\n",
        "sse = [];\n",
        "for k in range(2,11):\n",
        "  kmeans = KMeans(n_clusters = k, init = 'k-means++')\n",
        "  kmeans.fit(transformed)\n",
        "  sse.append(kmeans.inertia_)\n",
        "\n",
        "plt.figure()\n",
        "plt.plot(range(2,11), sse)\n",
        "plt.title('SSE vs k')\n",
        "plt.xlabel('K')\n",
        "plt.ylabel('SSE')\n",
        "plt.grid(True)\n",
        "plt.show()"
      ],
      "metadata": {
        "id": "mnTgH990BLL2"
      },
      "execution_count": null,
      "outputs": []
    },
    {
      "cell_type": "code",
      "source": [
        "#using a k value of 5 accroding to the elbow method\n",
        "\n",
        "kmeans = KMeans(n_clusters = 4)\n",
        "kmeans.fit(transformed)\n",
        "labels = kmeans.labels_\n",
        "centroids = kmeans.cluster_centers_\n",
        "plt.scatter(transformed.iloc[:, 0], transformed.iloc[:, 1], c=labels)\n",
        "plt.scatter(centroids[:, 0], centroids[:, 1], c='black')\n",
        "plt.title(f\"K-Means Clustering with k=5\")\n",
        "plt.show()"
      ],
      "metadata": {
        "id": "XcCdgoVpViqW"
      },
      "execution_count": null,
      "outputs": []
    },
    {
      "cell_type": "markdown",
      "metadata": {
        "id": "IoBadg8v04JL"
      },
      "source": [
        "To run DBSCAN, we first used PCA to reduce dimensionality and hopefully combat the curse of dimensionality."
      ]
    },
    {
      "cell_type": "code",
      "execution_count": null,
      "metadata": {
        "id": "NvPbiN1L080g"
      },
      "outputs": [],
      "source": [
        "import sklearn.preprocessing\n",
        "\n",
        "scaler = sklearn.preprocessing.StandardScaler(with_mean = True, with_std = True)\n",
        "pca = sklearn.decomposition.PCA(n_components = .7, svd_solver = 'full')\n",
        "transformed = pd.DataFrame(pca.fit_transform(scaler.fit_transform(poli_data)))\n",
        "print(poli_data.shape)\n",
        "print(transformed.shape)\n",
        "transformed.head()"
      ]
    },
    {
      "cell_type": "markdown",
      "metadata": {
        "id": "eQVAABNRDYto"
      },
      "source": [
        "We determine the best eps by looking at the graph of distances to a kth nearest neighbor and how it changes with different k values."
      ]
    },
    {
      "cell_type": "code",
      "execution_count": null,
      "metadata": {
        "id": "v2LWuaQdCj0g"
      },
      "outputs": [],
      "source": [
        "from sklearn.neighbors import NearestNeighbors\n",
        "\n",
        "minpts = 4\n",
        "nearest = NearestNeighbors(n_neighbors = minpts)\n",
        "nearest.fit(transformed)\n",
        "(dists, ind) = nearest.kneighbors()\n",
        "\n",
        "distances = dists[:, minpts - 1]\n",
        "distances.sort()\n",
        "plt.plot(distances)\n",
        "plt.xlabel(\"Points sorted by distance to {}th nearest neighbor\".format(minpts))\n",
        "plt.ylabel(\"Distance to {}th nearest neighbor\".format(minpts))\n",
        "\n",
        "eps = 6\n",
        "plt.axhline(y=eps, color='r', linestyle='-')\n",
        "plt.show()"
      ]
    },
    {
      "cell_type": "markdown",
      "metadata": {
        "id": "rYn-sqwcDbvp"
      },
      "source": [
        "The best eps appears to be 6. We now run the DBSCAN algorithm."
      ]
    },
    {
      "cell_type": "code",
      "execution_count": null,
      "metadata": {
        "id": "48H30_RSDcHU"
      },
      "outputs": [],
      "source": [
        "from sklearn.cluster import DBSCAN\n",
        "from sklearn.manifold import MDS\n",
        "import random\n",
        "\n",
        "clusters = DBSCAN(eps = eps, min_samples = minpts)\n",
        "predicted = clusters.fit_predict(transformed)\n",
        "\n",
        "print(type(transformed))\n",
        "def scatter(data, labels, numPoints = 300):\n",
        "\n",
        "    numEntries = data.shape[0]\n",
        "    start = random.randint(0, numEntries - numPoints)\n",
        "    end = start + numPoints\n",
        "    data = data.iloc[start:end, :]\n",
        "    labels = labels[start:end]\n",
        "\n",
        "    mds = MDS(n_components=2)\n",
        "    mds_data = mds.fit_transform(data)\n",
        "    plt.scatter(mds_data[:, 0], mds_data[:, 1], c=labels, s=50)\n",
        "    plt.show()\n",
        "\n",
        "scatter(transformed, predicted)"
      ]
    },
    {
      "cell_type": "markdown",
      "metadata": {
        "id": "75MGfYjZ2AXv"
      },
      "source": [
        "The resulting clusters do not appear to cluster the data well, though the data is not very clusterable to begin with. The data is very globular."
      ]
    },
    {
      "cell_type": "markdown",
      "metadata": {
        "id": "gj20uH6P2Ovk"
      },
      "source": [
        "# Change of Plans"
      ]
    },
    {
      "cell_type": "markdown",
      "metadata": {
        "id": "wK-14CK22Szp"
      },
      "source": [
        "After determining that clustering is not fitting for the data, we decided to change our goal.\n",
        "\n",
        "We now want to turn the problem into a classification problem. Based on demographic information that a political organization might have information on (such as race, income, region, sex, etc.), can we predict a person's political stance on issues like government spending on social security and whether the marijuana should be legalized?\n",
        "\n",
        "Our predictions can be used in the context of political organizations trying to target certain populations based on an issue they might be interested in, in order to elicit voter action, such as voting, signing petitions, donating, and general civil participation.\n",
        "\n",
        "Our targets are:\n",
        "\n",
        "\n",
        "* Do you have a moral opposition to abortion?\n",
        "* What party do you affiliate with?\n",
        "* How much should the government spend on each of the following?\n",
        "  - highways and bridges\n",
        "  - social security\n",
        "  - mass transportation\n",
        "  - parks and recreation\n",
        "  - assistance for childcare\n",
        "  - supporting scientific research\n",
        "  - developing alternative energy sources\n",
        "* Should the government reduce income differences?\n",
        "* Do you favor or oppose the death penalty for murder?\n",
        "* Do you think courts deal too harshly or not harshly enough with criminals?\n",
        "* Should marijuana be made legal?\n",
        "* Should there be laws against the distribution of pornography?\n",
        "* Should the government help pay for medical care?\n",
        "* Should the government aid blacks?\n",
        "\n"
      ]
    },
    {
      "cell_type": "markdown",
      "metadata": {
        "id": "wpjEG7MOECV4"
      },
      "source": [
        "# Data Exploration (Pt 2)"
      ]
    },
    {
      "cell_type": "markdown",
      "metadata": {
        "id": "HIqQuv2eB0Hg"
      },
      "source": [
        "We print a correlation matrix for features that are tagged family, political, religion, social, and work--categories which a political organization may have access to. (Leaving out intimate survey questions included in the original dataset, like \"How often in the past 4 weeks have you felt isolated from others?\")"
      ]
    },
    {
      "cell_type": "code",
      "execution_count": null,
      "metadata": {
        "id": "dpunrppvB21_"
      },
      "outputs": [],
      "source": [
        "def is_tag_list(col_name, tagged_codebook, tag_list):\n",
        "\n",
        "  for tag in tag_list:\n",
        "    if get_codebook_info(col_name, 'tag') in tag_list:\n",
        "      return True\n",
        "  return False\n",
        "\n",
        "remove_list = [\"adj\", \"life\", \"emot\", \"health\"]\n",
        "corr_data = omitted_imputed.drop(omitted_imputed.columns[omitted_imputed.apply(lambda col: is_tag_list(col.name, tagged_codebook, remove_list))], axis=1).select_dtypes(include=[np.number])\n",
        "corr_matrix = corr_data.corr()\n",
        "\n",
        "print(corr_matrix.to_string())\n"
      ]
    },
    {
      "cell_type": "markdown",
      "metadata": {
        "id": "6D102N7AB7C9"
      },
      "source": [
        "To explore more, we print the features (any features) with the highest (absolute) correlation to each political label."
      ]
    },
    {
      "cell_type": "code",
      "execution_count": null,
      "metadata": {
        "id": "G3gJgX8fCBWa"
      },
      "outputs": [],
      "source": [
        "def is_not_poli_filter(row):\n",
        "  codebook_entry = tagged_codebook.loc[tagged_codebook['name'] == row.name]\n",
        "  if not codebook_entry[\"tag\"].empty:\n",
        "    return codebook_entry[\"tag\"].values[0] != \"poli\"\n",
        "  return False\n",
        "\n",
        "for col_name, col in corr_matrix.items():\n",
        "  codebook_entry = tagged_codebook.loc[tagged_codebook['name'] == col_name]\n",
        "\n",
        "  if (not codebook_entry[\"type\"].empty and codebook_entry[\"type\"].values[0] == \"L\"):\n",
        "    not_poli_filter = col.to_frame().transpose().apply(is_not_poli_filter)\n",
        "\n",
        "    filtered_col = col[not_poli_filter]\n",
        "\n",
        "    print('\\n', codebook_entry[\"name\"].values[0], codebook_entry[\"label\"].values[0])\n",
        "    print(filtered_col.abs().sort_values(ascending = False)[:15])"
      ]
    },
    {
      "cell_type": "markdown",
      "metadata": {
        "id": "lPk0EI9wESco"
      },
      "source": [
        "Now we separate features and labels. We have selected columns to be our features and columns to be labeled, denoted in our custom codebook. We mostly selected basic demographic features that would be realistic for an organization to get ahold of."
      ]
    },
    {
      "cell_type": "code",
      "execution_count": null,
      "metadata": {
        "id": "OgO4aCFJEl0X"
      },
      "outputs": [],
      "source": [
        "real_features = keep_column(omitted_imputed, \"type\", \"Y\")\n",
        "all_labels = keep_column(omitted_imputed, \"type\", \"L\")\n",
        "\n",
        "print(\"real_features:\\n\", real_features.head())\n",
        "print(\"all_labels:\\n\", all_labels.head())"
      ]
    },
    {
      "cell_type": "markdown",
      "metadata": {
        "id": "1xuZ8l3iEvO8"
      },
      "source": [
        "Now we'll perform one-hot encoding on our features."
      ]
    },
    {
      "cell_type": "code",
      "execution_count": null,
      "metadata": {
        "id": "urGR99mwEx5k"
      },
      "outputs": [],
      "source": [
        "categorical = []\n",
        "for col in real_features.columns:\n",
        "  # print(col)\n",
        "  if is_categorical(col, tagged_codebook):\n",
        "    categorical.append(col)\n",
        "\n",
        "print(\"categorical vars to encode:\", categorical)\n",
        "\n",
        "# original DataFrame columns\n",
        "print(\"Original real features:\")\n",
        "print(real_features.head())\n",
        "\n",
        "real_features = pd.get_dummies(real_features, columns=categorical)\n",
        "\n",
        "# encoded DataFrame columns\n",
        "print(\"\\n One-hot Encoded DataFrame columns:\")\n",
        "print(real_features.head())"
      ]
    },
    {
      "cell_type": "markdown",
      "metadata": {
        "id": "dPAchFcAE4f7"
      },
      "source": [
        "# Supervised Modeling"
      ]
    },
    {
      "cell_type": "code",
      "execution_count": null,
      "metadata": {
        "id": "d8l9kvnVK1Up"
      },
      "outputs": [],
      "source": [
        "# a function for printing dictionaries\n",
        "# source: https://stackoverflow.com/a/3229493/23295350\n",
        "\n",
        "def pretty_print(d, indent=0):\n",
        "   for key, value in d.items():\n",
        "      print('\\t' * indent + str(key))\n",
        "      if isinstance(value, dict):\n",
        "         pretty_print(value, indent+1)\n",
        "      else:\n",
        "         print('\\t' * (indent+1) + str(value))"
      ]
    },
    {
      "cell_type": "markdown",
      "metadata": {
        "id": "1nB8NKHe7IH1"
      },
      "source": [
        "We will try a variety of different classifiers:\n",
        "* Decision tree\n",
        "* Gradient Boosted Decision Tree\n",
        "* Naive Bayes\n",
        "* KNN\n",
        "* SVM\n",
        "* Neural network"
      ]
    },
    {
      "cell_type": "markdown",
      "metadata": {
        "id": "usTKF56XFDTm"
      },
      "source": [
        "Printing confusion matrix and classification report"
      ]
    },
    {
      "cell_type": "code",
      "execution_count": null,
      "metadata": {
        "id": "T72-PEEaFEbe"
      },
      "outputs": [],
      "source": [
        "'''\n",
        "print classification report and confusion matrix\n",
        "return accuracy\n",
        "'''\n",
        "def print_confusion_classification(model, real_features, all_labels, label_name, cv=5):\n",
        "  #cross_val_predict to get the predicted y values for every record\n",
        "  predicted_y = cross_val_predict(model, real_features, all_labels[label_name], cv=cv)\n",
        "\n",
        "  print(\"Confusion Matrix:\")\n",
        "  print(confusion_matrix(all_labels[label_name], predicted_y))\n",
        "\n",
        "  print(\"\\nClassification Report:\")\n",
        "  print(classification_report(all_labels[label_name], predicted_y))\n",
        "\n",
        "  return accuracy_score(all_labels[label_name], predicted_y)\n"
      ]
    },
    {
      "cell_type": "markdown",
      "metadata": {
        "id": "VjQmlegPE7dw"
      },
      "source": [
        "*Decision tree*"
      ]
    },
    {
      "cell_type": "code",
      "execution_count": null,
      "metadata": {
        "id": "ibwL0VcuE9aS"
      },
      "outputs": [],
      "source": [
        "def decision_tree (real_features, all_labels, label_name, cv=5):\n",
        "  my_tree = DecisionTreeClassifier()\n",
        "  loo_encoder = ce.leave_one_out.LeaveOneOutEncoder(cols='eth1')\n",
        "  my_pipe = sklearn.pipeline.Pipeline([('encoder', loo_encoder), ('my_tree', my_tree)])\n",
        "\n",
        "  # defining parameter range\n",
        "  param_grid = {\n",
        "      'my_tree__max_depth': [5, 10, 15, 20],\n",
        "      'my_tree__max_features': [5, 10, 20],\n",
        "      'my_tree__min_samples_split': [10, 20, 40]\n",
        "  }\n",
        "\n",
        "  #nested cross validation\n",
        "  grid_search = GridSearchCV(my_pipe, param_grid, cv=5, scoring='accuracy')\n",
        "  grid_search.fit(real_features, all_labels[label_name])\n",
        "  print(\"Best value for each parameter:\")\n",
        "  pretty_print(grid_search.best_params_, indent=1)\n",
        "  print(\"Accuracy for parameters:\", grid_search.best_score_)\n",
        "\n",
        "  #nested cross-validation with cross_val_score\n",
        "  # nested_score = cross_val_score(grid_search, real_features, all_labels[label_name], cv=cv)\n",
        "  # print(\"Accuracy:\", nested_score.mean())\n",
        "\n",
        "  return print_confusion_classification(grid_search, real_features, all_labels, label_name, cv=cv)\n",
        "  # return (grid_search, nested_score.mean())\n",
        "  # return report"
      ]
    },
    {
      "cell_type": "markdown",
      "source": [
        "*Gradient Boosted Decision Tree*"
      ],
      "metadata": {
        "id": "h1yAyMUCVOME"
      }
    },
    {
      "cell_type": "code",
      "source": [
        "from sklearn.ensemble import GradientBoostingClassifier\n",
        "def gradient_boosting(real_features, all_labels, label_name, cv=5):\n",
        "  my_tree = GradientBoostingClassifier()\n",
        "  loo_encoder = ce.leave_one_out.LeaveOneOutEncoder(cols='eth1')\n",
        "  my_pipe = sklearn.pipeline.Pipeline([('encoder', loo_encoder), ('my_tree', my_tree)])\n",
        "\n",
        "  # defining parameter range\n",
        "  param_grid = {\n",
        "      'my_tree__max_depth': [5, 10, 15, 20],\n",
        "      'my_tree__max_features': [5, 10, 20],\n",
        "      'my_tree__min_samples_split': [10, 20, 40],\n",
        "      'my_tree__n_estimatore': [100, 200, 300],\n",
        "      'my_tree__learning_rate': [0.01, 0.1, 0.2]\n",
        "  }\n",
        "\n",
        "  #nested cross validation\n",
        "  grid_search = GridSearchCV(my_pipe, param_grid, cv=5, scoring='accuracy')\n",
        "  grid_search.fit(real_features, all_labels[label_name])\n",
        "  print(\"Best value for each parameter:\")\n",
        "  pretty_print(grid_search.best_params_, indent=1)\n",
        "  print(\"Accuracy for parameters:\", grid_search.best_score_)\n",
        "\n",
        "  #nested cross-validation with cross_val_score\n",
        "  # nested_score = cross_val_score(grid_search, real_features, all_labels[label_name], cv=cv)\n",
        "  # print(\"Accuracy:\", nested_score.mean())\n",
        "\n",
        "  return print_confusion_classification(grid_search, real_features, all_labels, label_name, cv=cv)\n",
        "  # return (grid_search, nested_score.mean())\n",
        "  # return report"
      ],
      "metadata": {
        "id": "5X60oGJtVM46"
      },
      "execution_count": null,
      "outputs": []
    },
    {
      "cell_type": "markdown",
      "metadata": {
        "id": "A-lo5WYTFbJn"
      },
      "source": [
        "*Naive Bayes*"
      ]
    },
    {
      "cell_type": "code",
      "execution_count": null,
      "metadata": {
        "id": "MIGCDOseFiDw"
      },
      "outputs": [],
      "source": [
        "def naive_bayes(real_features, all_labels, label_name, cv=5):\n",
        "  gaussian = GaussianNB()\n",
        "\n",
        "  loo_encoder = ce.leave_one_out.LeaveOneOutEncoder(cols='eth1')\n",
        "  my_pipe = sklearn.pipeline.Pipeline([('encoder', loo_encoder), ('my_gaussian', gaussian)])\n",
        "  my_pipe.fit(real_features, all_labels[label_name])\n",
        "\n",
        "  # cv_scores = cross_val_score(my_pipe, real_features, all_labels[label_name], cv=cv)\n",
        "  # print(\"Accuracy:\", cv_scores.mean())\n",
        "\n",
        "  return print_confusion_classification(my_pipe, real_features, all_labels, label_name, cv=cv)\n",
        "  # return my_pipe, cv_scores.mean()\n",
        "  # return report"
      ]
    },
    {
      "cell_type": "markdown",
      "metadata": {
        "id": "raZdrpe2FlWr"
      },
      "source": [
        "*KNN*"
      ]
    },
    {
      "cell_type": "code",
      "execution_count": null,
      "metadata": {
        "id": "yrzez-YDFm3V"
      },
      "outputs": [],
      "source": [
        "def knn(real_features, all_labels, label_name, cv=5):\n",
        "  loo_encoder = ce.leave_one_out.LeaveOneOutEncoder(cols='eth1')\n",
        "  scaler = sklearn.preprocessing.StandardScaler(with_mean = True, with_std = True)\n",
        "  pca = sklearn.decomposition.PCA()\n",
        "  my_knn = sklearn.neighbors.KNeighborsClassifier(n_neighbors=7)\n",
        "  my_pipe = sklearn.pipeline.Pipeline([('encoder', loo_encoder), ('scaler', scaler), ('pca', pca), ('my_knn', my_knn)])\n",
        "\n",
        "  param_grid_knn = {\n",
        "      'pca__n_components': list(range(5, real_features.shape[1] - 5, 2)),\n",
        "      'my_knn__n_neighbors': list(range(2, 25, 2))\n",
        "  }\n",
        "\n",
        "\n",
        "  knn_grid = sklearn.model_selection.GridSearchCV(my_pipe, param_grid_knn, cv=cv)\n",
        "  knn_grid.fit(real_features, all_labels[label_name])\n",
        "  print(\"Best value for each parameter:\")\n",
        "  pretty_print(knn_grid.best_params_, indent=1)\n",
        "  print(\"\\tAccuracy for parameters:\", knn_grid.best_score_)\n",
        "\n",
        "  # accuracies = sklearn.model_selection.cross_val_score(knn_grid, real_features, all_labels[label_name], cv=cv)\n",
        "  # print('average accuracy: ', accuracies.mean())\n",
        "\n",
        "  return print_confusion_classification(knn_grid, real_features, all_labels, label_name, cv=cv)\n",
        "  # return my_knn, accuracies.mean()\n",
        "  # return report"
      ]
    },
    {
      "cell_type": "markdown",
      "metadata": {
        "id": "vgGBiiKcFo2I"
      },
      "source": [
        "*SVM*"
      ]
    },
    {
      "cell_type": "code",
      "execution_count": null,
      "metadata": {
        "id": "UncEr2hHFtl_"
      },
      "outputs": [],
      "source": [
        "def svm(real_features, all_labels, label_name, cv=5):\n",
        "  loo_encoder = ce.leave_one_out.LeaveOneOutEncoder(cols='eth1')\n",
        "  scaler = sklearn.preprocessing.StandardScaler(with_mean = True, with_std = True)\n",
        "  pca = sklearn.decomposition.PCA()\n",
        "  my_svc = sklearn.svm.SVC();\n",
        "  my_pipe = sklearn.pipeline.Pipeline([('encoder', loo_encoder), ('scaler', scaler), ('pca', pca), ('my_svc', my_svc)])\n",
        "  param_grid = {\n",
        "      'pca__n_components': list(range(5, real_features.shape[1] - 5, 2)),\n",
        "      'my_svc__kernel': ('linear', 'rbf', 'poly')\n",
        "  }\n",
        "\n",
        "  svc_grid = sklearn.model_selection.GridSearchCV(my_pipe, param_grid, cv=cv)\n",
        "  svc_grid.fit(real_features, all_labels[label_name])\n",
        "  print(\"Best value for each parameter:\")\n",
        "  pretty_print(svc_grid.best_params_, indent=1)\n",
        "  print(\"\\tAccuracy for parameters:\", svc_grid.best_score_)\n",
        "\n",
        "  # accuracies = sklearn.model_selection.cross_val_score(svc_grid, real_features, all_labels[label_name], cv=cv)\n",
        "  # print('average accuracy: ', accuracies.mean())\n",
        "\n",
        "  return print_confusion_classification(svc_grid, real_features, all_labels, label_name, cv=cv)\n",
        "\n",
        "  # return svc_grid, accuracies.mean()\n",
        "  # return report"
      ]
    },
    {
      "cell_type": "markdown",
      "metadata": {
        "id": "TdszUXyLFzA4"
      },
      "source": [
        "*Neural Network*"
      ]
    },
    {
      "cell_type": "code",
      "execution_count": null,
      "metadata": {
        "id": "rfVqcBo9F1M9"
      },
      "outputs": [],
      "source": [
        "\n",
        "@ignore_warnings(category=ConvergenceWarning)\n",
        "def neural_net(real_features, all_labels, label_name, cv=5):\n",
        "  loo_encoder = ce.leave_one_out.LeaveOneOutEncoder(cols='eth1')\n",
        "  scaler = sklearn.preprocessing.StandardScaler(with_mean = True, with_std = True)\n",
        "\n",
        "  my_nn = sklearn.neural_network.MLPClassifier()\n",
        "  my_pipe = sklearn.pipeline.Pipeline([('encoder', loo_encoder), ('scaler', scaler),('my_nn', my_nn)])\n",
        "\n",
        "  param_grid = {\n",
        "      'my_nn__hidden_layer_sizes': [(10,), (20,), (30,)],\n",
        "      'my_nn__activation': ['logistic', 'tanh', 'relu'],\n",
        "  }\n",
        "\n",
        "\n",
        "  nn_grid = sklearn.model_selection.GridSearchCV(my_pipe, param_grid, cv=cv)\n",
        "  nn_grid.fit(real_features, all_labels[label_name])\n",
        "  print(\"Best value for each parameter:\")\n",
        "  pretty_print(nn_grid.best_params_, indent=1)\n",
        "  print(\"\\tAccuracy for parameters:\", nn_grid.best_score_)\n",
        "\n",
        "  # accuracies = sklearn.model_selection.cross_val_score(nn_grid, real_features, all_labels[label_name], cv=cv)\n",
        "  # print('average accuracy: ', accuracies.mean())\n",
        "\n",
        "  return print_confusion_classification(nn_grid, real_features, all_labels, label_name, cv=cv)\n",
        "  # return nn_grid, accuracies.mean()\n",
        "  # return report"
      ]
    },
    {
      "cell_type": "markdown",
      "metadata": {
        "id": "urizMkiFLvNA"
      },
      "source": [
        "# Run nominal classifiers"
      ]
    },
    {
      "cell_type": "markdown",
      "metadata": {
        "id": "nnxAQVEE7pJ8"
      },
      "source": [
        "Now we'll run each classifier on our target labels."
      ]
    },
    {
      "cell_type": "code",
      "execution_count": null,
      "metadata": {
        "id": "I9m65HgHLuxA"
      },
      "outputs": [],
      "source": [
        "warnings.filterwarnings('ignore') # TODO: how to get \"precision and f score are illdefined\" warning to stop printing\n",
        "'''\n",
        "return\n",
        "{\n",
        "  \"neural net (nominal)\": model, nn_accuracy,\n",
        "  \"svm (nominal)\": model, svm_accuracy,\n",
        "  \"knn (nominal)\": model, knn_accuracy,\n",
        "  \"naive bayes (nominal)\": model, naive_accuracy,\n",
        "  \"decision tree (nominal)\": model, dt_accuracy\n",
        "}\n",
        "'''\n",
        "@ignore_warnings(category=ConvergenceWarning)\n",
        "def run_models(real_features, all_labels, label):\n",
        "  cv = 2\n",
        "  print(label)\n",
        "  print(\"Neural net\")\n",
        "  start = time.time()\n",
        "  nn_acc = neural_net(real_features, all_labels, label, cv=cv)\n",
        "  end = time.time()\n",
        "  print(\"time elapsed:\", str(datetime.timedelta(seconds=end-start)))\n",
        "\n",
        "  print(\"\\nSVM\")\n",
        "  start = time.time()\n",
        "  svm_acc = svm(real_features, all_labels, label, cv=cv)\n",
        "  end = time.time()\n",
        "  print(\"time elapsed:\", str(datetime.timedelta(seconds=end-start)))\n",
        "\n",
        "  print(\"\\nKNN\")\n",
        "  start = time.time()\n",
        "  knn_acc = knn(real_features, all_labels, label, cv=cv)\n",
        "  end = time.time()\n",
        "  print(\"time elapsed:\", str(datetime.timedelta(seconds=end-start)))\n",
        "\n",
        "  print(\"\\nNaive Bayes\")\n",
        "  start = time.time()\n",
        "  naive_acc = naive_bayes(real_features, all_labels, label, cv=cv)\n",
        "  end = time.time()\n",
        "  print(\"time elapsed:\", str(datetime.timedelta(seconds=end-start)))\n",
        "\n",
        "  print(\"\\nDecision Tree\")\n",
        "  start = time.time()\n",
        "  dt_acc = decision_tree(real_features, all_labels, label, cv=cv)\n",
        "  end = time.time()\n",
        "  print(\"time elapsed:\", str(datetime.timedelta(seconds=end-start)))\n",
        "\n",
        "  accuracies = {\n",
        "      \"neural net (nominal)\": nn_acc,\n",
        "      \"svm (nominal)\": svm_acc,\n",
        "      \"knn (nominal)\": knn_acc,\n",
        "      \"naive bayes (nominal)\": naive_acc,\n",
        "      \"decision tree (nominal)\": dt_acc\n",
        "  }\n",
        "\n",
        "  # models = {\n",
        "  #     \"nn\": nn_model,\n",
        "  #     \"svm\": svm_model,\n",
        "  #     \"knn\": knn_model,\n",
        "  #     \"naive\": naive_model,\n",
        "  #     \"dt\": dt_model\n",
        "  # }\n",
        "\n",
        "  print(accuracies)\n",
        "  return accuracies\n",
        "\n",
        "\n",
        "'''\n",
        "return\n",
        "{\n",
        "  \"natsci\":\n",
        "    {\n",
        "      \"neural net (nominal)\": model, nn_accuracy,\n",
        "      \"svm (nominal)\": model, svm_accuracy,\n",
        "      \"knn (nominal)\": model, knn_accuracy,\n",
        "      \"naive bayes (nominal)\": model, naive_accuracy,\n",
        "      \"decision tree (nominal)\": model, dt_accuracy\n",
        "    },\n",
        "  \"natroad\":\n",
        "    {\n",
        "      \"neural net (nominal)\": model, nn_accuracy,\n",
        "      \"svm (nominal)\": model, svm_accuracy,\n",
        "      \"knn (nominal)\": model, knn_accuracy,\n",
        "      \"naive bayes (nominal)\": model, naive_accuracy,\n",
        "      \"decision tree (nominal)\": model, dt_accuracy\n",
        "    },\n",
        "    ...\n",
        "}\n",
        "'''\n",
        "def run_models_all_labels(real_features, all_labels):\n",
        "  all_targets_acc = {}\n",
        "  for label in all_labels:\n",
        "    start = time.time()\n",
        "    acc_for_label = run_models(real_features, all_labels, label)\n",
        "    all_targets_acc[label] = acc_for_label\n",
        "    end = time.time()\n",
        "    print(\"total time elapsed:\", str(datetime.timedelta(seconds=end-start)))\n",
        "    print(\"************************************************************\\n\\n\")\n",
        "  return all_targets_acc\n",
        "\n",
        "nominal_accuracies = run_models_all_labels(real_features, all_labels)\n",
        "print(nominal_accuracies)"
      ]
    },
    {
      "cell_type": "code",
      "execution_count": null,
      "metadata": {
        "id": "M0JZqxwJtLP9"
      },
      "outputs": [],
      "source": [
        "# store nominal_accuracies in case we lose the variable in between run times.\n",
        "\n",
        "import pickle\n",
        "\n",
        "filename = 'nominal_accuracies'\n",
        "filehandler = open(filename, 'wb')\n",
        "pickle.dump(nominal_accuracies, filehandler) # pickle stores data in binary form. Unreadable by humans."
      ]
    },
    {
      "cell_type": "code",
      "execution_count": null,
      "metadata": {
        "id": "h7piEdN5xdxp"
      },
      "outputs": [],
      "source": [
        "# alternative way to store nominal_accuracies. is human readable.\n",
        "\n",
        "with open('nominal_accuracies.json', 'w') as f:\n",
        "    json.dump(nominal_accuracies, f)"
      ]
    },
    {
      "cell_type": "code",
      "source": [
        "with open('nominal_accuracies.json') as f:\n",
        "    nominal_accuracies = json.load(f)"
      ],
      "metadata": {
        "id": "pwgLxadwETYS"
      },
      "execution_count": null,
      "outputs": []
    },
    {
      "cell_type": "code",
      "execution_count": null,
      "metadata": {
        "id": "8jvBSFpae8UG"
      },
      "outputs": [],
      "source": [
        "pretty_print(nominal_accuracies)"
      ]
    },
    {
      "cell_type": "markdown",
      "source": [
        "# Results (Nominal Classifiers)\n"
      ],
      "metadata": {
        "id": "N8t0GwuxBspf"
      }
    },
    {
      "cell_type": "markdown",
      "source": [
        "Performance Overview: Overall, the SVM models generally show high accuracy across most targets, often being the best or one of the best models. In the grass, courts, and pornlaws categories it has the highest accuracies. The KNN models also show high performance in many categories. Neural Networks had varied performance but did well in predicting courts and grass. Decision trees have moderate performance across targets. Naive Bayes generally performs very poorly compared to all the other models.\n",
        "\n",
        "\n"
      ],
      "metadata": {
        "id": "pWln03BWwF9n"
      }
    },
    {
      "cell_type": "markdown",
      "source": [
        "\n",
        "Interpreting Results for PartyID:\n",
        "The Neural Network performed with an accuracy of 50.19%, which indicates that about half of the predictions made by the model are correct. In terms of performance, it had moderate performance with Class 0 (Democrat) and Class 2 (Republican) better predicted than Class 1 (Independent) and Class 3 (Other). Class 3 in particular had very poor performance with a precision of 0.\n",
        "The SVM model performed slightly better with an accuracy of 53.11%. It had a performance similar to the neural network in the sense that Classes 0 and 2 are predted better.\n",
        "The KNN model performed even better, with an accuracy of 54.28%. This model still struggles with Classes 1 and 3, but had improved accuracy for Class 0.\n",
        "The Naive Bayes model has a very low accuracy of 19.45%. This model has performed the poorest with many misclassifications across all classes. It significantly overly predicts Class 3, possibly due to its assumptions about feature independence.\n",
        "The Decision Tree performed similarly to the Neural Network.\n",
        "Overall, for predicting partyid, KNN has the highest accuracy and performs somewhat consistently across classes except for Class 3. All the models struggle with Class 3 (which is “Other”), which makes sense because of the class imbalance since there are a smaller number of instances. This also applies to Class 1 (“Independent”)."
      ],
      "metadata": {
        "id": "n9H6gTexwPnJ"
      }
    },
    {
      "cell_type": "markdown",
      "source": [
        "Interpreting Results for Natroad: Overall, the models were able to predict how much the government should spend on highways and bridges slightly better than it could predict party. The KNN model performed with an accuracy of 558.27%. It performed moderately well for Class 1 (Too Little) especially, but Class 3 (Too Much) was poorly predicted with a low recall and precision. The Decision Tree had the best accuracy of 58.56%, it performed well for Class 1 but like the other models failed to predict Class 3 corrctly. The Decision Tree and SVM models have higher accuracies but are heavily biased towards predicting Class 1 which leads to high recall but bad balanced accuracy across all classes."
      ],
      "metadata": {
        "id": "Lf0eW3QOyuie"
      }
    },
    {
      "cell_type": "markdown",
      "source": [
        "Interpreting Results for natsoc, natmass, natpark, natchld, natsci, natenrgy:\n",
        "Let's interpret the results of the  performance of these classifiers over various policy domains.\n",
        "A common theme across all these targets it the difficulty in predicting minority classes, with classifiers consistently underperforming on these classes as seen with many zero scores across metrics.\n",
        "Although no single model consistently outperforms others, SVM and KNN are generally stronger models with high accuracies. The accuracy levels for most of the models are around 50-60%. The weighted averages of precision, recall, and F1 scores are generally higher than the macro averages, which indicates that the majority classes are the ones driving the metrics which confirms the problem with class imbalance.\n"
      ],
      "metadata": {
        "id": "_-1GZIii1b6K"
      }
    },
    {
      "cell_type": "markdown",
      "source": [
        "Interpreting Results for eqwlth: This target is predicting opinions on if the government should reduce income differences. All the models have a very low accuracy, with the highest being around 22.37% for SVM which suggests a very complex and high dimensional problem."
      ],
      "metadata": {
        "id": "V2cSoBuc9Zc5"
      }
    },
    {
      "cell_type": "markdown",
      "source": [
        "Interpreting Results for cappun: The models showed a higher level of accuracy (around 60%), with KNN achieving the highest accuracy. The KNN model showed a strong preference for class 1 (favor) with high recall, but low efectiveness for class 2 (oppose) prediction which indicates there might be overfitting to the majority class."
      ],
      "metadata": {
        "id": "v5JgDndO91oj"
      }
    },
    {
      "cell_type": "markdown",
      "source": [
        "Interpreting Results for courts: The accuracy of the models range from 30% to 66%, with SVM and KNNs havig the highest accuracies. All models have difficulty predicing classes 1 (Too harshly) and 3 (About right) effectively. The majority of the data is skewed towards class 2. For example, the SVM has a 99% recall for class 2, but the macro average precision and recall are lower due to low class 3 predictions."
      ],
      "metadata": {
        "id": "4khbufIqI-Be"
      }
    },
    {
      "cell_type": "markdown",
      "source": [
        "Interpreting Results for grass: All models show relatively high accuracy, with most hovering around 67%. The KNN model had the high accuracy of 69.6%. However, it had poor performance in predicting class 2 (Should not be legal) with very low recall. The Naive Bayes model was more balanced in recognizing class 2 than the other models, but that came at a cost of a higher number of false positive for class 1 leading to a lower precision.\n"
      ],
      "metadata": {
        "id": "F_kvNHVmJJxL"
      }
    },
    {
      "cell_type": "markdown",
      "source": [
        "Interpreting Results for pornlaw (Should there be laws against the distribution of pornography?): The SVM model had the highest accuracy of 65.9%, and the Naive Bayes had the lowest of 24%. Although SVM achieves the highest accuracy, it again does so at the expense of ignoring the minority class."
      ],
      "metadata": {
        "id": "0Pj4Uk9HR6SZ"
      }
    },
    {
      "cell_type": "markdown",
      "source": [
        "Interpreting Results for helpsick (Should the government help pay for medical care?): All the models for helpsick have a very low accuracy, with the highest one being around 35% for the SVM and lowest being 17% for Naive Bayes.\n"
      ],
      "metadata": {
        "id": "vqPR71hD6CFr"
      }
    },
    {
      "cell_type": "markdown",
      "source": [
        "Interpreting Results for helpblk (Should the government aid blacks?): Similar to helpsick, these models had very low performance, with SVM being the best model with an accuracy of 36.19%. However, this model ignores the diveristy of the dataset so misclassifies the less frequent categories."
      ],
      "metadata": {
        "id": "reiVlIWW6lBF"
      }
    },
    {
      "cell_type": "markdown",
      "source": [
        "Interpreting Results for abmoral (Do you have a moral opposition to abortion?): The overall accuracies are little bit higher, with SVM performing the best with an accuracy of 42%. Again, these models struggle to find a balance between recall and preicion."
      ],
      "metadata": {
        "id": "rOjXJsTK8jdy"
      }
    },
    {
      "cell_type": "markdown",
      "source": [
        "##Ordinal Classifiers"
      ],
      "metadata": {
        "id": "_DLYY03YCC4l"
      }
    },
    {
      "cell_type": "markdown",
      "metadata": {
        "id": "HryLmL7v95JF"
      },
      "source": [
        "Since many of our labels are ordinal (e.g. Does the government spend too much, too little, or just the right amount on parks and recreation?), nominal classification may not be the best model to run.\n",
        "\n",
        "We also try ordinal classifiers for labels that are ordinal in nature. This simple ordinal classifier is adapted from [here](https://stackoverflow.com/a/62362718/23295350).\n",
        "\n",
        "This classifier works by splitting the problem into a k-1 binary classification problem (k = number of different values in the target). It ensembles multiple binary classifiers (which will predict whether target > 1, > 2, > 3, ..., > k - 1) to be able to predict whether target is 1, 2, 3, ..., or k."
      ]
    },
    {
      "cell_type": "code",
      "execution_count": null,
      "metadata": {
        "id": "NOZsVAaxMT-t"
      },
      "outputs": [],
      "source": [
        "# source: https://stackoverflow.com/a/62362718/23295350\n",
        "\n",
        "from sklearn.base import BaseEstimator\n",
        "\n",
        "class OrdinalClassifier(BaseEstimator):\n",
        "\n",
        "    def __init__(self, clf):\n",
        "        self.clf = clf\n",
        "        self.clfs = {}\n",
        "        # self.isbayes = isbayes\n",
        "\n",
        "    def fit(self, X, y):\n",
        "        self.unique_class = np.sort(np.unique(y))\n",
        "        if self.unique_class.shape[0] > 2:\n",
        "            for i in range(self.unique_class.shape[0]-1):\n",
        "                # for each k - 1 ordinal value we fit a binary classification problem\n",
        "                binary_y = (y > self.unique_class[i]).astype(np.uint8)\n",
        "                clf = clone(self.clf)\n",
        "                clf.fit(X, binary_y)\n",
        "\n",
        "                # if not self.isbayes:\n",
        "                #   print(\"Fitting > \", i, \":\")\n",
        "                #   print(\"Best value for each parameter:\")\n",
        "                #   pretty_print(clf.best_params_, indent=1)\n",
        "                #   print(\"\\tAccuracy for parameters:\", clf.best_score_)\n",
        "\n",
        "                self.clfs[i] = clf\n",
        "\n",
        "    def predict_proba(self, X):\n",
        "        clfs_predict = {k: self.clfs[k].predict_proba(X) for k in self.clfs}\n",
        "        predicted = []\n",
        "        for i, y in enumerate(self.unique_class):\n",
        "            if i == 0:\n",
        "                # V1 = 1 - Pr(y > V1)\n",
        "                predicted.append(1 - clfs_predict[i][:,1])\n",
        "            elif i in clfs_predict:\n",
        "                # Vi = Pr(y > Vi-1) - Pr(y > Vi)\n",
        "                 predicted.append(clfs_predict[i-1][:,1] - clfs_predict[i][:,1])\n",
        "            else:\n",
        "                # Vk = Pr(y > Vk-1)\n",
        "                predicted.append(clfs_predict[i-1][:,1])\n",
        "        return np.vstack(predicted).T\n",
        "\n",
        "    def predict(self, X):\n",
        "        return np.argmax(self.predict_proba(X), axis=1)\n",
        "\n",
        "    def score(self, X, y, sample_weight=None):\n",
        "        _, indexed_y = np.unique(y, return_inverse=True)\n",
        "        return accuracy_score(indexed_y, self.predict(X), sample_weight=sample_weight)"
      ]
    },
    {
      "cell_type": "markdown",
      "metadata": {
        "id": "877VZxOKMkpx"
      },
      "source": [
        "We use an ordinal classifier for all political labels that are on an ordinal scale (not nominal, not binary).\n",
        "From `all_labels`, we derive a list of ordinal labels (to pass into ordinal_classifier) and categorical labels (just use normal classifiers)."
      ]
    },
    {
      "cell_type": "code",
      "execution_count": null,
      "metadata": {
        "id": "HWmdAvgBMikk"
      },
      "outputs": [],
      "source": [
        "\n",
        "ordinal_labels = keep_column(all_labels, \"encode\", \"no\")\n",
        "categorical_labels = keep_column(all_labels, \"encode\", \"yes\")\n",
        "\n",
        "# print(tagged_codebook)\n",
        "print(ordinal_labels)\n",
        "print(categorical_labels)"
      ]
    },
    {
      "cell_type": "code",
      "execution_count": null,
      "metadata": {
        "id": "q65d_7myQ31f"
      },
      "outputs": [],
      "source": [
        "def nn_grid(cv=5):\n",
        "  scaler = sklearn.preprocessing.StandardScaler(with_mean = True, with_std = True)\n",
        "  my_nn = sklearn.neural_network.MLPClassifier()\n",
        "  my_pipe = sklearn.pipeline.Pipeline([('scaler', scaler),('my_nn', my_nn)])\n",
        "  param_grid = {\n",
        "      'my_nn__hidden_layer_sizes': [(10,), (20,), (30,)],\n",
        "      'my_nn__activation': ['logistic', 'tanh', 'relu'],\n",
        "  }\n",
        "  return sklearn.model_selection.GridSearchCV(my_pipe, param_grid, cv = cv)\n",
        "\n",
        "def svm_grid(cv=5):\n",
        "  loo_encoder = ce.leave_one_out.LeaveOneOutEncoder(cols='eth1')\n",
        "  scaler = sklearn.preprocessing.StandardScaler(with_mean = True, with_std = True)\n",
        "  pca = sklearn.decomposition.PCA()\n",
        "  my_svc = sklearn.svm.SVC(probability=True);\n",
        "  my_pipe = sklearn.pipeline.Pipeline([('encoder', loo_encoder), ('scaler', scaler), ('pca', pca), ('my_svc', my_svc)])\n",
        "  param_grid = {\n",
        "      'pca__n_components': list(range(5, real_features.shape[1] - 5, 2)),\n",
        "      'my_svc__kernel': ('linear', 'rbf', 'poly')\n",
        "  }\n",
        "\n",
        "  return sklearn.model_selection.GridSearchCV(my_pipe, param_grid, cv = cv)\n",
        "\n",
        "def knn_grid(cv=5):\n",
        "  loo_encoder = ce.leave_one_out.LeaveOneOutEncoder(cols='eth1')\n",
        "  scaler = sklearn.preprocessing.StandardScaler(with_mean = True, with_std = True)\n",
        "  pca = sklearn.decomposition.PCA()\n",
        "  my_knn = sklearn.neighbors.KNeighborsClassifier(n_neighbors=7)\n",
        "  my_pipe = sklearn.pipeline.Pipeline([('encoder', loo_encoder), ('scaler', scaler), ('pca', pca), ('my_knn', my_knn)])\n",
        "\n",
        "  param_grid_knn = {\n",
        "      'pca__n_components': list(range(5, real_features.shape[1] - 5, 2)),\n",
        "      'my_knn__n_neighbors': list(range(1, 30, 3))\n",
        "  }\n",
        "  return sklearn.model_selection.GridSearchCV(my_pipe, param_grid_knn, cv = cv)\n",
        "\n",
        "def bayes_pipe(cv=5):\n",
        "  gaussian = GaussianNB()\n",
        "  loo_encoder = ce.leave_one_out.LeaveOneOutEncoder(cols='eth1')\n",
        "  return sklearn.pipeline.Pipeline([('encoder', loo_encoder), ('my_gaussian', gaussian)])\n",
        "\n",
        "def dt_grid(cv=5):\n",
        "  my_tree = DecisionTreeClassifier()\n",
        "  loo_encoder = ce.leave_one_out.LeaveOneOutEncoder(cols='eth1')\n",
        "  my_pipe = sklearn.pipeline.Pipeline([('encoder', loo_encoder), ('my_tree', my_tree)])\n",
        "\n",
        "  # defining parameter range\n",
        "  param_grid = {\n",
        "      'my_tree__max_depth': [5, 10, 15, 20],\n",
        "      'my_tree__max_features': [5, 10, 20],\n",
        "      'my_tree__min_samples_split': [10, 20, 40]\n",
        "  }\n",
        "\n",
        "  #nested cross validation\n",
        "  return GridSearchCV(my_pipe, param_grid, cv=cv, scoring='accuracy')"
      ]
    },
    {
      "cell_type": "markdown",
      "metadata": {
        "id": "OUnJAjr5NKwD"
      },
      "source": [
        "Function to run many ordinal classifiers with different types of base classifiers."
      ]
    },
    {
      "cell_type": "code",
      "execution_count": null,
      "metadata": {
        "id": "zajnf3xZNIW0"
      },
      "outputs": [],
      "source": [
        "\n",
        "\n",
        "# return accuracy of ordinal classifier with model base classifier\n",
        "def run_ordinal_classifier(model, real_features, all_labels, target_label, cv=5):\n",
        "  ordinal_clf = OrdinalClassifier(model)\n",
        "  ordinal_clf.fit(real_features, all_labels[target_label])\n",
        "  # accuracy = ordinal_clf.score(real_features, all_labels[target_label])\n",
        "  # print(cross_val_predict(ordinal_clf, real_features, all_labels[target_label], cv=5))\n",
        "  # accuracy = cross_val_score(ordinal_clf, real_features, all_labels[target_label], cv=5).mean()\n",
        "  # print(\"accuracy:\", accuracy)\n",
        "\n",
        "  acc = print_confusion_classification(ordinal_clf, real_features, all_labels, target_label, cv=cv)\n",
        "  return acc\n",
        "  # return nn_grid, accuracies.mean()\n",
        "  # return report\n",
        "  # print_confusion_classification(ordinal_clf, real_features, all_labels, target_label, cv=cv)\n",
        "  # return accuracy\n",
        "\n",
        "'''\n",
        "returns\n",
        "{\n",
        "  \"neural net (ordinal)\": nn_accuracy,\n",
        "  \"svm (ordinal)\": svm_accuracy,\n",
        "  \"knn (ordinal)\": knn_accuracy,\n",
        "  \"naive bayes (ordinal)\": naive_accuracy,\n",
        "  \"decision tree (ordinal)\": dt_accuracy\n",
        "}\n",
        "'''\n",
        "@ignore_warnings(category=ConvergenceWarning)\n",
        "def run_all_ordinal_classifiers(real_features, all_labels, target_label):\n",
        "  print(\"SVM ordinal classifier\")\n",
        "  # my_svm = svm_model(real_features, all_labels, target_label)\n",
        "  # my_svm = all_models[target_label][\"svm\"]\n",
        "  start = time.time()\n",
        "  cv=2\n",
        "  my_svm = svm_grid(cv=cv)\n",
        "  svm_accuracy = run_ordinal_classifier(my_svm, real_features, all_labels, target_label)\n",
        "  end = time.time()\n",
        "  print(\"time elapsed:\", str(datetime.timedelta(seconds=end-start)))\n",
        "\n",
        "  print(\"Decision tree ordinal classifier\")\n",
        "  start = time.time()\n",
        "  # my_tree = decision_tree_model(real_features, all_labels, target_label)\n",
        "  # my_tree = all_models[target_label][\"dt\"]\n",
        "  my_tree = dt_grid(cv=cv)\n",
        "  dt_accuracy = run_ordinal_classifier(my_tree, real_features, all_labels, target_label)\n",
        "  end = time.time()\n",
        "  print(\"time elapsed:\", str(datetime.timedelta(seconds=end-start)))\n",
        "\n",
        "  print(\"KNN ordinal classifier\")\n",
        "  start = time.time()\n",
        "  # my_knn = knn_model(real_features, all_labels, target_label)\n",
        "  # my_knn = all_models[target_label][\"knn\"]\n",
        "  my_knn = knn_grid(cv=cv)\n",
        "  knn_accuracy = run_ordinal_classifier(my_knn, real_features, all_labels, target_label)\n",
        "  end = time.time()\n",
        "  print(\"time elapsed:\", str(datetime.timedelta(seconds=end-start)))\n",
        "\n",
        "\n",
        "  print(\"Neural net ordinal classifier\")\n",
        "  start = time.time()\n",
        "  # my_nn = neural_net_model(real_features, all_labels, target_label)\n",
        "  # my_nn = all_models[target_label][\"nn\"]\n",
        "  my_nn = nn_grid(cv=cv)\n",
        "  nn_accuracy = run_ordinal_classifier(my_nn, real_features, all_labels, target_label)\n",
        "  end = time.time()\n",
        "  print(\"time elapsed:\", str(datetime.timedelta(seconds=end-start)))\n",
        "\n",
        "  print(\"Naive Bayes ordinal classifier\")\n",
        "  # my_gaussian = GaussianNB()\n",
        "  # my_gaussian = all_models[target_label][\"naive\"]\n",
        "  my_gaussian = bayes_pipe(cv=cv)\n",
        "  naive_accuracy = run_ordinal_classifier(my_gaussian, real_features, all_labels, target_label)\n",
        "  end = time.time()\n",
        "  print(\"time elapsed:\", str(datetime.timedelta(seconds=end-start)))\n",
        "\n",
        "  accuracies = {\n",
        "      \"neural net (ordinal)\": nn_accuracy,\n",
        "      \"svm (ordinal)\": svm_accuracy,\n",
        "      \"knn (ordinal)\": knn_accuracy,\n",
        "      \"naive bayes (ordinal)\": naive_accuracy,\n",
        "      \"decision tree (ordinal)\": dt_accuracy\n",
        "  }\n",
        "  # return max(accuracies.items(), key=lambda x: x[1])\n",
        "  return accuracies"
      ]
    },
    {
      "cell_type": "markdown",
      "metadata": {
        "id": "6QM-p60hNOOm"
      },
      "source": [
        "Run all ordinal classifiers for all ordinal labels."
      ]
    },
    {
      "cell_type": "code",
      "execution_count": null,
      "metadata": {
        "id": "rRzLSAOjNN-0"
      },
      "outputs": [],
      "source": [
        "'''\n",
        "return\n",
        "{\n",
        "  \"natsci\":\n",
        "    {\n",
        "      \"neural net (ordinal)\": nn_accuracy,\n",
        "      \"svm (ordinal)\": svm_accuracy,\n",
        "      \"knn (ordinal)\": knn_accuracy,\n",
        "      \"naive bayes (ordinal)\": naive_accuracy,\n",
        "      \"decision tree (ordinal)\": dt_accuracy\n",
        "    },\n",
        "  \"natroad\":\n",
        "    {\n",
        "      \"neural net (ordinal)\": nn_accuracy,\n",
        "      \"svm (ordinal)\": svm_accuracy,\n",
        "      \"knn (ordinal)\": knn_accuracy,\n",
        "      \"naive bayes (ordinal)\": naive_accuracy,\n",
        "      \"decision tree (ordinal)\": dt_accuracy\n",
        "    },\n",
        "    ...\n",
        "}\n",
        "'''\n",
        "warnings.filterwarnings('ignore')\n",
        "\n",
        "def run_ordinal_all_labels(real_features, ordinal_labels):\n",
        "  start_all = time.time()\n",
        "  # all_targets_best_acc = {}\n",
        "  all_targets_acc = {}\n",
        "  for lab in ordinal_labels:\n",
        "    # definition = get_codebook_info(tagged_codebook, \"label\")\n",
        "\n",
        "    print(\"Running all ordinal classifiers for label\", lab)\n",
        "    start = time.time()\n",
        "    # best_acc_for_label = run_all_ordinal_classifiers(real_features, ordinal_labels, lab)\n",
        "    all_accuracies = run_all_ordinal_classifiers(real_features, ordinal_labels, lab)\n",
        "    end = time.time()\n",
        "    print(\"total time elapsed:\", str(datetime.timedelta(seconds=end-start)))\n",
        "    '''\n",
        "    all_accuracies =\n",
        "    {\n",
        "      \"neural net (ordinal)\": nn_accuracy,\n",
        "      \"svm (ordinal)\": svm_accuracy,\n",
        "      \"knn (ordinal)\": knn_accuracy,\n",
        "      \"naive bayes (ordinal)\": naive_accuracy,\n",
        "      \"decision tree (ordinal)\": dt_accuracy\n",
        "    }\n",
        "    '''\n",
        "\n",
        "    all_targets_acc[lab] = all_accuracies\n",
        "    print(\"************************************************************\\n\\n\")\n",
        "    # all_targets_best_acc[lab] = best_acc_for_label\n",
        "\n",
        "  end_all = time.time()\n",
        "  print(\"total time to run all ordinal models for all labels:\", str(datetime.timedelta(seconds=end_all-start_all)))\n",
        "  return all_targets_acc\n",
        "\n",
        "\n",
        "ordinal_accuracies = run_ordinal_all_labels(real_features, ordinal_labels)\n",
        "\n",
        "print(ordinal_accuracies)\n"
      ]
    },
    {
      "cell_type": "code",
      "source": [
        "with open('ordinal_accuracies.json', 'w') as f:\n",
        "    json.dump(ordinal_accuracies, f)"
      ],
      "metadata": {
        "id": "sqHJDTbuFEWW"
      },
      "execution_count": null,
      "outputs": []
    },
    {
      "cell_type": "code",
      "source": [
        "with open('ordinal_accuracies.json') as f:\n",
        "    ordinal_accuracies = json.load(f)"
      ],
      "metadata": {
        "id": "52gSDxT8Vh8Y"
      },
      "execution_count": null,
      "outputs": []
    },
    {
      "cell_type": "code",
      "execution_count": null,
      "metadata": {
        "id": "LQbWtyvSl9EO"
      },
      "outputs": [],
      "source": [
        "print(ordinal_accuracies)"
      ]
    },
    {
      "cell_type": "markdown",
      "source": [
        "The results from using ordinal classifiers reveals that while the classification performance varies, the overall accuracies remain relatively low (around 30%). We were dissapointed in this outcome because we aimed to use ordinal classifiers to improve the accuracy of the models. It could possibly be because oridinal classification adds complexity as it deals with a ranked order among the classes. This could add complexity compared to nominal classification because it's not just about predicting the correct class, but also understanding the hierarchy within the class."
      ],
      "metadata": {
        "id": "wMokAmiECTbd"
      }
    },
    {
      "cell_type": "markdown",
      "metadata": {
        "id": "w4zmtqwWceSn"
      },
      "source": [
        "# Results"
      ]
    },
    {
      "cell_type": "markdown",
      "metadata": {
        "id": "e8IvCnwUNSuX"
      },
      "source": [
        "Functions for printing"
      ]
    },
    {
      "cell_type": "code",
      "execution_count": null,
      "metadata": {
        "id": "c7_EtGkmNSXL"
      },
      "outputs": [],
      "source": [
        "class color:\n",
        "   PURPLE = '\\033[95m'\n",
        "   CYAN = '\\033[96m'\n",
        "   DARKCYAN = '\\033[36m'\n",
        "   BLUE = '\\033[94m'\n",
        "   GREEN = '\\033[92m'\n",
        "   YELLOW = '\\033[93m'\n",
        "   RED = '\\033[91m'\n",
        "   BOLD = '\\033[1m'\n",
        "   UNDERLINE = '\\033[4m'\n",
        "   END = '\\033[0m'\n",
        "\n",
        "def print_target(target_label):\n",
        "  print(color.BOLD + color.RED + target_label + color.END, end='')\n",
        "\n",
        "def print_best_model(model_name, accuracy, indent=1):\n",
        "  # print(color.BOLD + color.DARKCYAN + '\\t' * indent + model_name + \": \" + str(accuracy) + color.END, end=end)\n",
        "  indent_str = '\\t' * indent\n",
        "  model_name = color.BOLD + color.DARKCYAN + model_name + color.END\n",
        "  accuracy = color.BOLD + color.DARKCYAN + str(accuracy) + color.END\n",
        "  print(f'{indent_str}{model_name:<43}{\" \"}{accuracy:<10}')\n"
      ]
    },
    {
      "cell_type": "code",
      "execution_count": null,
      "metadata": {
        "id": "5G3PAkqoNV2X"
      },
      "outputs": [],
      "source": [
        "# get the max accuracy for each label\n",
        "\n",
        "# nominal is a dict of all accuracies for all nominal models for all labels\n",
        "# ordinal is a dict of all accuracies for all ordinal models for all labels\n",
        "def best_models(nominal, ordinal):\n",
        "  best_models = {}\n",
        "  for lab in nominal:\n",
        "    accs_nominal = nominal.get(lab)\n",
        "    accs_ordinal = ordinal.get(lab)\n",
        "\n",
        "    # max_acc_elem = {\"the model (ordinal or nominal)\": accuracy}\n",
        "\n",
        "    max_acc_elem = max(accs_nominal.items(), key=lambda x: x[1]) # gets the max nominal accuracy dictionary pair\n",
        "\n",
        "    if (lab in ordinal):\n",
        "      # compare ordinal and nominal\n",
        "      max_acc_nominal = max(accs_ordinal.items(), key=lambda x: x[1])\n",
        "\n",
        "      # compare their accuracies\n",
        "      max_acc_elem = max_acc_nominal if max_acc_nominal[1] > max_acc_elem[1] else max_acc_elem\n",
        "      # max_acc_nominal[1] > max_acc_elem[1] ? max_acc_nominal : max_acc_elem\n",
        "\n",
        "    best_models[lab] = max_acc_elem\n",
        "\n",
        "  return best_models\n",
        "\n",
        "def best_model(nominal, ordinal, lab):\n",
        "  # best_models = {}\n",
        "  accs_nominal = nominal.get(lab)\n",
        "  accs_ordinal = ordinal.get(lab)\n",
        "\n",
        "  # max_acc_elem = {\"the model (ordinal or nominal)\": accuracy}\n",
        "\n",
        "  max_acc_elem = max(accs_nominal.items(), key=lambda x: x[1]) # gets the max nominal accuracy dictionary pair\n",
        "\n",
        "  if (lab in ordinal):\n",
        "    # compare ordinal and nominal\n",
        "    max_acc_nominal = max(accs_ordinal.items(), key=lambda x: x[1])\n",
        "\n",
        "    # compare their accuracies\n",
        "    max_acc_elem = max_acc_nominal if max_acc_nominal[1] > max_acc_elem[1] else max_acc_elem\n",
        "    # max_acc_nominal[1] > max_acc_elem[1] ? max_acc_nominal : max_acc_elem\n",
        "\n",
        "  # best_models[lab] = max_acc_elem\n",
        "\n",
        "  return max_acc_elem[0]\n",
        "\n",
        "# for debugging purposes:\n",
        "\n",
        "# ordinal_accuracies = {\n",
        "#     \"natsci\":\n",
        "#       {\n",
        "#         \"neural net (ordinal)\": .24,\n",
        "#         \"svm (ordinal)\": .34,\n",
        "#         \"knn (ordinal)\": .234,\n",
        "#         \"naive bayes (ordinal)\": .514,\n",
        "#         \"decision tree (ordinal)\": .345\n",
        "#       },\n",
        "#     \"natroad\":\n",
        "#       {\n",
        "#         \"neural net (ordinal)\": .48,\n",
        "#         \"svm (ordinal)\": .55,\n",
        "#         \"knn (ordinal)\": .72,\n",
        "#         \"naive bayes (ordinal)\": .33,\n",
        "#         \"decision tree (ordinal)\": .511\n",
        "#       }\n",
        "#   }\n",
        "# nominal_accuracies = {\n",
        "#     \"natsci\":\n",
        "#       {\n",
        "#         \"neural net (nominal)\": .381,\n",
        "#         \"svm (nominal)\": .581,\n",
        "#         \"knn (nominal)\": .284,\n",
        "#         \"naive bayes (nominal)\": .11,\n",
        "#         \"decision tree (nominal)\": .99\n",
        "#       },\n",
        "#     \"natroad\":\n",
        "#       {\n",
        "#         \"neural net (nominal)\": .41,\n",
        "#         \"svm (nominal)\": .41,\n",
        "#         \"knn (nominal)\": .34,\n",
        "#         \"naive bayes (nominal)\": .23,\n",
        "#         \"decision tree (nominal)\": .31\n",
        "#       },\n",
        "#     \"poliview\":\n",
        "#       {\n",
        "#         \"neural net (nominal)\": .31,\n",
        "#         \"svm (nominal)\": .87,\n",
        "#         \"knn (nominal)\": .1344,\n",
        "#         \"naive bayes (nominal)\": .485,\n",
        "#         \"decision tree (nominal)\": .27\n",
        "#       }\n",
        "#   }\n",
        "\n",
        "# end for debugging purposes\n",
        "best = best_models(nominal_accuracies, ordinal_accuracies)\n",
        "# pretty_print(best)\n",
        "# print(best)\n",
        "\n",
        "# '''\n",
        "#\n",
        "# ordinal_accuracies =\n",
        "#   {\n",
        "#     \"natsci\":\n",
        "#       {\n",
        "#         \"neural net (ordinal)\": nn_accuracy,\n",
        "#         \"svm (ordinal)\": svm_accuracy,\n",
        "#         \"knn (ordinal)\": knn_accuracy,\n",
        "#         \"naive bayes (ordinal)\": naive_accuracy,\n",
        "#         \"decision tree (ordinal)\": dt_accuracy\n",
        "#       },\n",
        "#     \"natroad\":\n",
        "#       {\n",
        "#         \"neural net (ordinal)\": nn_accuracy,\n",
        "#         \"svm (ordinal)\": svm_accuracy,\n",
        "#         \"knn (ordinal)\": knn_accuracy,\n",
        "#         \"naive bayes (ordinal)\": naive_accuracy,\n",
        "#         \"decision tree (ordinal)\": dt_accuracy\n",
        "#       },\n",
        "#       ...\n",
        "#   }\n",
        "# nominal_accuracies =\n",
        "#   {\n",
        "#     \"natsci\":\n",
        "#       {\n",
        "#         \"neural net (nominal)\": nn_accuracy,\n",
        "#         \"svm (nominal)\": svm_accuracy,\n",
        "#         \"knn (nominal)\": knn_accuracy,\n",
        "#         \"naive bayes (nominal)\": naive_accuracy,\n",
        "#         \"decision tree (nominal)\": dt_accuracy\n",
        "#       },\n",
        "#     \"natroad\":\n",
        "#       {\n",
        "#         \"neural net (nominal)\": nn_accuracy,\n",
        "#         \"svm (nominal)\": svm_accuracy,\n",
        "#         \"knn (nominal)\": knn_accuracy,\n",
        "#         \"naive bayes (nominal)\": naive_accuracy,\n",
        "#         \"decision tree (nominal)\": dt_accuracy\n",
        "#       },\n",
        "#       ...\n",
        "#   }\n",
        "#   '''\n",
        "\n",
        "# '''\n",
        "# best_accuracies = {\n",
        "#   \"natsci\": (\"decision tree (nominal)\", 0.99), <- a tuple\n",
        "#   \"natroad\": (\"knn (ordinal)\", 0.72),\n",
        "#   \"poliview\": (\"svm (nominal)\", 0.87)\n",
        "# }\n",
        "# '''\n",
        "\n",
        "def print_best_accuracies(best, indent=1):\n",
        "  # for target in best:\n",
        "  for target, (model, accuracy) in best.items():\n",
        "    # print(\"Target: \", end='')\n",
        "    print_target(target)\n",
        "    definition = get_codebook_info(target, \"label\")\n",
        "    print(f\" ({definition})\")\n",
        "    print('\\t' * indent + \" Best model: \" + model)\n",
        "    print('\\t' * indent + \" Accuracy:   \" + str(accuracy))\n",
        "\n",
        "def print_all_accuracies(nominal_acc, ordinal_acc, indent=1):\n",
        "  print(f'{\"accuracy\":>47}')\n",
        "  for target, accs in nominal_acc.items():\n",
        "    print_target(target)\n",
        "    print()\n",
        "    # if\n",
        "    # max_model = max(accs, key=accs.get)\n",
        "    max_model = best_model(nominal_acc, ordinal_acc, target)\n",
        "\n",
        "    # for run_type in n\n",
        "\n",
        "    for model, acc in accs.items():\n",
        "      if (model == max_model):\n",
        "        print_best_model(model, acc, indent=indent)\n",
        "      else:\n",
        "        indent_str = '\\t' * indent\n",
        "        print(f'{indent_str}{model:<30}{\" \"}{acc:<10}')\n",
        "\n",
        "    if target in ordinal_acc:\n",
        "\n",
        "      for model, acc in ordinal_acc.get(target).items():\n",
        "        if (model == max_model):\n",
        "          print_best_model(model, acc, indent=indent)\n",
        "        else:\n",
        "          indent_str = '\\t' * indent\n",
        "          print(f'{indent_str}{model:<30}{\" \"}{acc:<10}')\n",
        "\n",
        "def print_best_models(nominal_accuracies, ordinal_accuracies):\n",
        "  best = best_models(nominal_accuracies, ordinal_accuracies)\n",
        "  print(f'{\"label\":<15}{\"model\":<30}{\" \"}{\"accuracy\":<10}')\n",
        "  for lab in best:\n",
        "    model = best.get(lab)[0]\n",
        "    acc = '{0:.2f}'.format(best.get(lab)[1])\n",
        "    print(f'{lab:<15}{model:<30}{\" \"}{acc:<10}')\n",
        "\n",
        "print_all_accuracies(nominal_accuracies, ordinal_accuracies)\n",
        "\n",
        "print()\n",
        "print_best_models(nominal_accuracies, ordinal_accuracies)"
      ]
    },
    {
      "cell_type": "markdown",
      "source": [
        "# Overall Results"
      ],
      "metadata": {
        "id": "A4uYDn6p-tSj"
      }
    },
    {
      "cell_type": "markdown",
      "source": [
        "The results of our models can be interpreted in the context of the limitations of a two-party system. Firstly, models like SVM and KNN showed higher accuracy in predicting political party identification (partyid), but they only achieved an accuracy around 50%. These shows that political beliefs are much more complex than a binary system can capture. This shows the diversity of political views amongst individuals, and shows how the two party system overly simplified the spectrum of political beliefs.\n",
        "\n",
        "Overall, SVMs and KNNs generally performed better across most issues. Neural Networks and Decision Trees showed moderate performance, and Naive Bayes typically had low accuracy. The courts and marijuana legalization questions have the high accuracies, which suggests that demographic data might be more predictive for legal and policy-related opinions. On the other hand, equal wealth (should the government reduce income differences) had lower accuracies, meaning that attitudes towards these are much more complex. Capital punishment and pornography laws also have better accuracy than other controversial topics, which could indicate a more distinct demographic divide on these issues. A lot of the models that had good precision had very low recall, especially for minority classes. Similarly, models with good recall, often the Naive  Bayes models, had poor precision. The low F-scores across models confirms that they struggle to effectively balance precision and recall.\n",
        "\n",
        "\n",
        "The higher performing target features were courts, grass, and pornlaw. These features related to legal attitudes had a higher predictability, especially with SVM and KNN models. This could mean that there is a more distinct and consistent separation in opinion on these issues among the U.S population. For capital punishment, the accuracies are higher, indicating ideological lines. Low performing models include those predicting economic wealth distribution, government aid for black people,and government paying for medical care. This shows that these target features are more nuanced and it is difficult to classify them distinctly. Abmoral (having a moral opposition to abortion) also has lower predictability. This could be due to the very personal nature of the issue of abortion which does not fit typical political lines.\n",
        "\n",
        "For political organizations creating targeted campaigns, we would recommend to use SVM and KNN models to identify demographic groups that are most likely to support/oppose issues, especially for predicting attitudes on courts, marijuana legalization, and pornography laws. Using targeted messaging that resonates with specific demographic groups helps target people likely more influenced by these issues.  *add smth about false positives/negatives?*\n"
      ],
      "metadata": {
        "id": "4IAPjfmZ-v48"
      }
    }
  ],
  "metadata": {
    "colab": {
      "provenance": [],
      "include_colab_link": true
    },
    "kernelspec": {
      "display_name": "Python 3",
      "name": "python3"
    },
    "language_info": {
      "name": "python"
    }
  },
  "nbformat": 4,
  "nbformat_minor": 0
}